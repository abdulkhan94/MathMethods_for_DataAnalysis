{
 "cells": [
  {
   "cell_type": "markdown",
   "metadata": {},
   "source": [
    "## Importing required packages"
   ]
  },
  {
   "cell_type": "code",
   "execution_count": 1,
   "metadata": {},
   "outputs": [],
   "source": [
    "import numpy as np\n",
    "import random\n",
    "import seaborn as sns\n",
    "import matplotlib.pyplot as plt\n",
    "import pandas as pd\n",
    "import statistics as stat"
   ]
  },
  {
   "cell_type": "markdown",
   "metadata": {},
   "source": [
    "## Setting up data"
   ]
  },
  {
   "cell_type": "code",
   "execution_count": 2,
   "metadata": {},
   "outputs": [],
   "source": [
    "diabetes = pd.read_csv('./diabetes.csv')\n",
    "pd.set_option('precision', 2) #Setting dataframe precision\n",
    "pd.set_option('display.max_rows', 10000) #Setting max rows to display\n"
   ]
  },
  {
   "cell_type": "markdown",
   "metadata": {},
   "source": [
    "## Calculating mean of all age values \n",
    "#### We will compare this mean, median & standard deviation against the results from the Central Limit Theorem"
   ]
  },
  {
   "cell_type": "code",
   "execution_count": 3,
   "metadata": {},
   "outputs": [
    {
     "name": "stdout",
     "output_type": "stream",
     "text": [
      "The mean for the entire sample is 33.24, the median is 29.00 and the standard deviation is 11.75\n"
     ]
    }
   ],
   "source": [
    "print(f'The mean for the entire sample is {stat.mean(diabetes.Age):.2f}, the median is {stat.median(diabetes.Age):.2f} and the standard deviation is {stat.pstdev(diabetes.Age):.2f}')"
   ]
  },
  {
   "cell_type": "markdown",
   "metadata": {},
   "source": [
    "## Central Limit Theorem Application"
   ]
  },
  {
   "cell_type": "markdown",
   "metadata": {},
   "source": [
    "### Converting dataframe column Age to numpy array for calculation"
   ]
  },
  {
   "cell_type": "code",
   "execution_count": 4,
   "metadata": {},
   "outputs": [],
   "source": [
    "ages = diabetes.Age.to_numpy()\n"
   ]
  },
  {
   "cell_type": "markdown",
   "metadata": {},
   "source": [
    "## Mean"
   ]
  },
  {
   "cell_type": "markdown",
   "metadata": {},
   "source": [
    "#### Calculating mean for Sample Size = 15, Sample Count = 100"
   ]
  },
  {
   "cell_type": "code",
   "execution_count": 5,
   "metadata": {},
   "outputs": [],
   "source": [
    "mean_list15 = []  # Will store all the means for a 100 runs to plot\n",
    "\n",
    "for _ in range(100): \n",
    "    age_list15 = np.random.choice(ages, size =15, replace= False)\n",
    "    mean_list15.append(stat.mean(age_list15)) # Stores the mean"
   ]
  },
  {
   "cell_type": "markdown",
   "metadata": {},
   "source": [
    "#### Distribution of Sample Size = 15, Sample Count = 100"
   ]
  },
  {
   "cell_type": "code",
   "execution_count": 6,
   "metadata": {},
   "outputs": [
    {
     "data": {
      "image/png": "[encoded data removed]",
      "text/plain": [
       "<Figure size 432x288 with 1 Axes>"
      ]
     },
     "metadata": {},
     "output_type": "display_data"
    }
   ],
   "source": [
    "sns.set_style('darkgrid')\n",
    "sns.set_context('paper')\n",
    "axes = sns.distplot(mean_list15, bins= 15, color = 'blue')\n",
    "axes.set_xlabel('Age')\n",
    "axes.set_title(f'Sample Size: {len(age_list15)} & Sample Count: {len(mean_list15)}');"
   ]
  },
  {
   "cell_type": "markdown",
   "metadata": {},
   "source": [
    "#### Central Limit Theorem Analysis"
   ]
  },
  {
   "cell_type": "code",
   "execution_count": 7,
   "metadata": {},
   "outputs": [
    {
     "name": "stdout",
     "output_type": "stream",
     "text": [
      "As you can see in the above distribution with a sample size of 15 & a sample count of 100 the mean of the distribution was 33 which is an offset of -0.24 from the calculated mean of the entire sample\n"
     ]
    }
   ],
   "source": [
    "print(f'As you can see in the above distribution with a sample size of {len(age_list15)} & a sample count of {len(mean_list15)} the mean of the distribution was {stat.mean(mean_list15)} which is an offset of {stat.mean(mean_list15) - stat.mean(diabetes.Age):.2f} from the calculated mean of the entire sample')\n"
   ]
  },
  {
   "cell_type": "code",
   "execution_count": null,
   "metadata": {},
   "outputs": [],
   "source": []
  }
 ],
 "metadata": {
  "kernelspec": {
   "display_name": "Python 3",
   "language": "python",
   "name": "python3"
  },
  "language_info": {
   "codemirror_mode": {
    "name": "ipython",
    "version": 3
   },
   "file_extension": ".py",
   "mimetype": "text/x-python",
   "name": "python",
   "nbconvert_exporter": "python",
   "pygments_lexer": "ipython3",
   "version": "3.8.5"
  }
 },
 "nbformat": 4,
 "nbformat_minor": 4
}
