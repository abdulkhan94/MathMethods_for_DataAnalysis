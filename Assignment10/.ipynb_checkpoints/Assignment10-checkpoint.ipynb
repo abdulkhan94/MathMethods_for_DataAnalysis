{
 "cells": [
  {
   "cell_type": "markdown",
   "metadata": {},
   "source": [
    "### <center>San Jose State University<br>Department of Applied Data Science</center>\n",
    "#  <center>DATA 220<br>Mathematical Methods for Data Analysis</center>\n",
    "### <center>Fall 2020<br>Instructor: Ron Mak</center>\n",
    "#  <center>Assignment #10<br>Problem Set</center>\n",
    "#### <center>100 points total (10 points each)<br><br>Work together with your lab partner.<br>You can compute by hand, but try use Python code and Python functions.<br>You can add your own functions or other support code.<br>Show your work with comments!</center>\n",
    "#### <center>Due Thursday, November 12, 2019 at 6:00 PM</center>"
   ]
  },
  {
   "cell_type": "markdown",
   "metadata": {},
   "source": [
    "#### <strong>PROBLEM 1.</strong> A news article discusses the number of promises made by political candidates and the number of promises kept after they are elected. The table below shows the promises made by the candidates X and the promises Y each kept. Create a scatter plot with a linear regression line. Calculate the correlation coefficident. What is the relationship between promises made and promised kept?\n",
    "\n",
    "<table>\n",
    "    <tr>\n",
    "        <td><strong>Promises made by candidates, X</strong></td>\n",
    "        <td>20</td><td>30</td><td>30</td><td>40</td><td>50</td><td>50</td><td>60</td>\n",
    "    </tr>\n",
    "    <tr>\n",
    "        <td align=\"right\"><strong>Promises kept, Y</strong></td>\n",
    "        <td>7</td><td>6</td><td>5</td><td>4</td><td>3</td><td>2</td><td>1</td>\n",
    "    </tr>\n",
    "</table>"
   ]
  },
  {
   "cell_type": "code",
   "execution_count": 1,
   "metadata": {},
   "outputs": [],
   "source": [
    "import numpy as np\n",
    "import random\n",
    "import seaborn as sns\n",
    "import matplotlib.pyplot as plt\n",
    "import pandas as pd\n",
    "import statistics as stat\n",
    "import math"
   ]
  },
  {
   "cell_type": "code",
   "execution_count": 2,
   "metadata": {},
   "outputs": [],
   "source": [
    "def calculate_slope_intercept(x_values, y_values):\n",
    "    x = np.array(x_values)\n",
    "    y = np.array(y_values)\n",
    "    \n",
    "    n = len(x)\n",
    "    sum_x  = np.sum(x)\n",
    "    sum_y  = np.sum(y)\n",
    "    sum_xx = np.sum(x*x)\n",
    "    sum_xy = np.sum(x*y)\n",
    "    mean_x = np.mean(x)\n",
    "    mean_y = np.mean(y)\n",
    "    \n",
    "    numerator = sum_xy - (sum_x*sum_y)/n\n",
    "    denominator = sum_xx - ((sum_x*sum_x)/n)\n",
    "    \n",
    "    m = numerator/denominator\n",
    "    b = mean_y - m*mean_x\n",
    "    \n",
    "    return m, b  # slope and intercept"
   ]
  },
  {
   "cell_type": "code",
   "execution_count": 3,
   "metadata": {},
   "outputs": [],
   "source": [
    "def show_least_squares_line(title, x_label, y_label, x_values, y_values):\n",
    "    # First show the scatter plot.\n",
    "    plt.scatter(x_values, y_values)\n",
    "    \n",
    "    # Now show the least squares line.\n",
    "    m, b = calculate_slope_intercept(x_values, y_values) # Calling function to get y intercept & slope\n",
    "    reg_line = [m*x + b for x in x_values]  # regression line\n",
    "    plt.plot(x_values, reg_line, color='red')\n",
    "\n",
    "    plt.title(f'{title}, m = {m:.2f}, b = {b:.2f}')\n",
    "    plt.ylabel(x_label)\n",
    "    plt.xlabel(y_label)\n",
    "\n",
    "    plt.show()"
   ]
  },
  {
   "cell_type": "code",
   "execution_count": 4,
   "metadata": {},
   "outputs": [
    {
     "data": {
      "image/png": "[encoded data removed]",
      "text/plain": [
       "<Figure size 432x288 with 1 Axes>"
      ]
     },
     "metadata": {
      "needs_background": "light"
     },
     "output_type": "display_data"
    }
   ],
   "source": [
    "xs = [20,30,30,40,50,50,60]\n",
    "ys = [7,6,5,4,3,2,1]\n",
    "\n",
    "show_least_squares_line('Linear Regression Line', 'Promises Kept', 'Promises Made', xs, ys)"
   ]
  },
  {
   "cell_type": "code",
   "execution_count": 5,
   "metadata": {},
   "outputs": [],
   "source": [
    "def calculate_r(x_values, y_values):  # Defining calculate_r function but can also use previously calculated r^2 value to calculate r\n",
    "    x = np.array(x_values)\n",
    "    y = np.array(y_values)\n",
    "    \n",
    "    n = len(x)\n",
    "    sum_x  = np.sum(x)\n",
    "    sum_y  = np.sum(y)\n",
    "    sum_xx = np.sum(x*x)\n",
    "    sum_yy = np.sum(y*y)\n",
    "    sum_xy = np.sum(x*y)\n",
    "    \n",
    "    numerator = sum_xy - (sum_x*sum_y)/n\n",
    "    denominator = math.sqrt(sum_xx - (sum_x*sum_x)/n)*math.sqrt(sum_yy - (sum_y*sum_y)/n)\n",
    "    \n",
    "    r = numerator/denominator\n",
    "    return r"
   ]
  },
  {
   "cell_type": "code",
   "execution_count": 6,
   "metadata": {},
   "outputs": [
    {
     "name": "stdout",
     "output_type": "stream",
     "text": [
      "r = -0.982\n"
     ]
    }
   ],
   "source": [
    "r = calculate_r(xs, ys)\n",
    "\n",
    "print(f'r = {r:.3f}')"
   ]
  },
  {
   "cell_type": "markdown",
   "metadata": {},
   "source": [
    "#### <strong>PROBLEM 2.</strong> Farmer Brown and Farmer Green each plant 100 acres of corn under similar conditions. Farmer Brown's yield was 84 bushels per acre with a standard deviation of 5 bushels. Farmer Green's yield was 80 bushels per acre with a standard deviation of 6 bushels. What is the 90% confidence interval for the mean difference in yield between the two farms?"
   ]
  },
  {
   "cell_type": "code",
   "execution_count": null,
   "metadata": {},
   "outputs": [],
   "source": []
  },
  {
   "cell_type": "markdown",
   "metadata": {},
   "source": [
    "#### <strong>PROBLEM 3.</strong> SJSU bought 36 bulbs for its classroom projectors. The manufacturer claimed that the bulbs should each last more than 800 hours. After using the bulbs, the university discovered that their mean lifetime was 816 hours with a standard deviation of 70 hours. At the 5% level of significance, should the university accept the manufacturer's claim?"
   ]
  },
  {
   "cell_type": "raw",
   "metadata": {},
   "source": [
    "H0 = 800\n",
    "HA > 800\n",
    "\n",
    "Standard Deviation = 70 \n",
    "Alpha = 0.05\n",
    "Mean = 816\n",
    "\n",
    "z = (mean - hypothesized) / (s/n^0.5)\n",
    "  = (816 - 800)/(70/36^0.5)\n",
    "  = 1.37\n",
    "\n",
    "The critical z values at 95% confidence interval level is 1.645 and the calculated z value is 1.37.\n",
    "\n",
    "Since 1.37 < 1.645 we can not reject H0."
   ]
  },
  {
   "cell_type": "markdown",
   "metadata": {},
   "source": [
    "#### <strong>PROBLEM 4.</strong> A widget making machine is supposed to make widgets that are 0.05 inches thick. Ten widgets are tested each day to ensure the machine is properly calibrated. Today's test averaged 0.053 inches thick with a standard deviation of 0.003. At the 5% level of significance, is the machine properly calibrated?"
   ]
  },
  {
   "cell_type": "raw",
   "metadata": {},
   "source": [
    "H0 = 0.05\n",
    "HA > 0.05\n",
    "\n",
    "Alpha = 0.05\n",
    "Standard deviation = 0.003\n",
    "\n",
    "t = (0.053 - 0.05) / (0.003 / 3.16)\n",
    "  = 3.16\n",
    "  \n",
    "The critical t value at 9 degrees of freedom is 1.83 & the calculated t value is 3.16.\n",
    "Since 3.16 > 1.83 we can reject H0."
   ]
  },
  {
   "cell_type": "markdown",
   "metadata": {},
   "source": [
    "#### <strong>PROBLEM 5.</strong> Farmer Brown's cows have averaged 380 pounds in weight. He selects 50 of his cows to put on a new diet to make them gain weight. After being on the new diet, the selected cows weigh an average of 390 pounds with a standard deviation of 35.2 pounds. What are the null and alternative hypotheses? What is the lowest level of significance at which we can reject the null hypothesis?"
   ]
  },
  {
   "cell_type": "raw",
   "metadata": {},
   "source": [
    "H0 = 380\n",
    "HA > 380\n",
    "\n",
    "Standard deviation = 35.2\n",
    "N = 50\n",
    "Mean = 390\n",
    "\n",
    "z = (390-380) / (35.2/7.07)\n",
    "  = 2.00\n",
    "  \n",
    "With a critical value of 2.00 the area under the curve is 0.0227501. With a critical value 1.99 we can reject hypothesis which would be an area of 0.023.\n",
    "\n",
    "So the alpha would be 0.0287 with a confidence interval of 97.13%"
   ]
  },
  {
   "cell_type": "markdown",
   "metadata": {},
   "source": [
    "#### <strong>PROBLEM 6.</strong> Five friends try a new health club to try to lose weight. They record how many pounds each lost and the number of weeks it took. Assume there is a linear relationship between the pounds lost and the number of weeks. What is the slope of the regression line? What is its y-intercept? Create a scatter graph of the data and the regression line.\n",
    "\n",
    "<table border=\"1\">\n",
    "    <tr>\n",
    "        <th>Friend #:</th>\n",
    "        <th>1</th>\n",
    "        <th>2</th>\n",
    "        <th>3</th>\n",
    "        <th>4</th>\n",
    "        <th>5</th>\n",
    "    </tr>\n",
    "    <tr>\n",
    "        <th>Weeks:</th>\n",
    "        <td>3</td>\n",
    "        <td>2</td>\n",
    "        <td>1</td>\n",
    "        <td>4</td>\n",
    "        <td>5</td>\n",
    "    </tr>\n",
    "    <tr>\n",
    "        <th>Pounds:</th>\n",
    "        <td>6</td>\n",
    "        <td>5</td>\n",
    "        <td>4</td>\n",
    "        <td>9</td>\n",
    "        <td>11</td>\n",
    "    </tr>\n",
    "</table>    "
   ]
  },
  {
   "cell_type": "code",
   "execution_count": 12,
   "metadata": {},
   "outputs": [
    {
     "name": "stdout",
     "output_type": "stream",
     "text": [
      "Slope = 1.80\n",
      "Y-Intercept = 1.60\n"
     ]
    }
   ],
   "source": [
    "x2s = [3,2,1,4,5]\n",
    "y2s = [6,5,4,9,11]\n",
    "\n",
    "slope, intercept = calculate_slope_intercept(x2s,y2s)\n",
    "\n",
    "print(f'Slope = {slope:.2f}\\nY-Intercept = {intercept:.2f}')\n"
   ]
  },
  {
   "cell_type": "code",
   "execution_count": 11,
   "metadata": {},
   "outputs": [
    {
     "data": {
      "image/png": "[encoded data removed]",
      "text/plain": [
       "<Figure size 432x288 with 1 Axes>"
      ]
     },
     "metadata": {
      "needs_background": "light"
     },
     "output_type": "display_data"
    }
   ],
   "source": [
    "show_least_squares_line('Linear Regression Line', 'Pounds Lost', 'Weeks', x2s, y2s)"
   ]
  },
  {
   "cell_type": "markdown",
   "metadata": {},
   "source": [
    "#### <strong>PROBLEM 7.</strong> Use the data from Problem 6. Calculate and print:\n",
    "- the variation in the pounds lost that cannot be explained by the weeks on the diet\n",
    "- the total variation in the pounds lost\n",
    "- the percentage of variation that is explained by the weeks on the diet\n",
    "- the correlation coefficient "
   ]
  },
  {
   "cell_type": "markdown",
   "metadata": {},
   "source": [
    "#### <strong>PROBLEM 8.</strong> The table below shows annual snowfall. Create a time series graph and plot the linear trend.\n",
    "\n",
    "<table>\n",
    "    <tr>\n",
    "        <th>Year</th>\n",
    "        <th>Snowfall</th>\n",
    "    </tr>\n",
    "    <tr><td>1993</td><td>9.9</td></tr>\n",
    "    <tr><td>1994</td><td>22.2</td></tr>\n",
    "    <tr><td>1995</td><td>11.4</td></tr>\n",
    "    <tr><td>1996</td><td>14.8</td></tr>\n",
    "    <tr><td>1997</td><td>19.7</td></tr>\n",
    "    <tr><td>1998</td><td>14.9</td></tr>\n",
    "    <tr><td>1999</td><td>15.9</td></tr>\n",
    "    <tr><td>2000</td><td>13.4</td></tr>\n",
    "    <tr><td>2001</td><td>12.0</td></tr>\n",
    "    <tr><td>2002</td><td>7.9</td></tr>\n",
    "    <tr><td>2003</td><td>12.9</td></tr>\n",
    "    <tr><td>2004</td><td>16.8</td></tr>\n",
    "    <tr><td>2005</td><td>11.6</td></tr>\n",
    "    <tr><td>2006</td><td>14.9</td></tr>\n",
    "    <tr><td>2007</td><td>13.3</td></tr>\n",
    "    <tr><td>2008</td><td>20.2</td></tr>\n",
    "    <tr><td>2009</td><td>14.3</td></tr>\n",
    "    <tr><td>2010</td><td>20.4</td></tr>\n",
    "    <tr><td>2011</td><td>13.0</td></tr>\n",
    "    <tr><td>2012</td><td>10.0</td></tr>\n",
    "    <tr><td>2013</td><td>15.9</td></tr>\n",
    "    <tr><td>2014</td><td>17.4</td></tr>\n",
    "    <tr><td>2015</td><td>18.7</td></tr>\n",
    "    <tr><td>2016</td><td>14.3</td></tr>\n",
    "    <tr><td>2017</td><td>16.2</td></tr>\n",
    "    <tr><td>2018</td><td>21.1</td></tr>\n",
    "</table>"
   ]
  },
  {
   "cell_type": "markdown",
   "metadata": {},
   "source": [
    "#### <strong>PROBLEM 9.</strong> Using the table from Problem 8, plot the 3- and 5-year moving averages."
   ]
  },
  {
   "cell_type": "markdown",
   "metadata": {},
   "source": [
    "#### <strong>PROBLEM 10.</strong> Using the table from Problem 8, exponentially smooth the data using alpha values 0.3 and 0.1"
   ]
  }
 ],
 "metadata": {
  "kernelspec": {
   "display_name": "Python 3",
   "language": "python",
   "name": "python3"
  },
  "language_info": {
   "codemirror_mode": {
    "name": "ipython",
    "version": 3
   },
   "file_extension": ".py",
   "mimetype": "text/x-python",
   "name": "python",
   "nbconvert_exporter": "python",
   "pygments_lexer": "ipython3",
   "version": "3.8.5"
  }
 },
 "nbformat": 4,
 "nbformat_minor": 4
}
