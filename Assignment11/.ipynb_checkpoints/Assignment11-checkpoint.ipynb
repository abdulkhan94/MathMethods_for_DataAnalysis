{
 "cells": [
  {
   "cell_type": "markdown",
   "metadata": {},
   "source": [
    "### <center>San Jose State University<br>Department of Applied Data Science</center>\n",
    "#  <center>DATA 220<br>Mathematical Methods for Data Analysis</center>\n",
    "### <center>Fall 2020<br>Instructor: Ron Mak</center>\n",
    "#  <center>Assignment #11<br>Matrix Operations Problem Set</center>\n",
    "#### <center>100 points total (20 points each)<br><br>Work together with your lab partner.<br>Write your solutions in one or more cells after each problem.<br>Whenever possible, use matrix operations and not loops.<br>You can add your own functions or other support code.</center>\n",
    "#### <center>Due November 19, 2020</center>"
   ]
  },
  {
   "cell_type": "markdown",
   "metadata": {},
   "source": [
    "#### <strong>PROBLEM 1.</strong> Amalgamated Widgets, Inc. manufactures several products using various amounts of materials per product:\n",
    "<table>\n",
    "    <tr>\n",
    "        <th>Product</th>\n",
    "        <th>Metal</th>\n",
    "        <th>Wood</th>\n",
    "        <th>Plastic</th>\n",
    "        <th>Cloth</th>\n",
    "        <th>Paper</th>\n",
    "    </tr>\n",
    "    <tr>\n",
    "        <td>A</td><td>0</td><td>1.3</td><td>0.2</td><td>0.8</td><td>0.4</td>\n",
    "    </tr>\n",
    "    <tr>\n",
    "        <td>B</td><td>0</td><td>0</td><td>1.5</td><td>0.4</td><td>0.3</td>\n",
    "    </tr>\n",
    "    <tr>\n",
    "        <td>C</td><td>0.25</td><td>0</td><td>0</td><td>0.2</td><td>0.7</td>\n",
    "    </tr>\n",
    "    <tr>\n",
    "        <td>D</td><td>0</td><td>0</td><td>0.3</td><td>0.7</td><td>0.5</td>\n",
    "    </tr>\n",
    "    <tr>\n",
    "        <td>E</td><td>0.15</td><td>0</td><td>0.5</td><td>0.4</td><td>0.8</td>\n",
    "    </tr>\n",
    "</table>\n",
    "\n",
    "#### On a certain day, the following total amounts of materials were used:\n",
    "<table>\n",
    "    <tr>\n",
    "        <th>Metal</th>\n",
    "        <th>Wood</th>\n",
    "        <th>Plastic</th>\n",
    "        <th>Cloth</th>\n",
    "        <th>Paper</th>\n",
    "    </tr>\n",
    "    <tr>\n",
    "        <td>51.0</td><td>312.0</td><td>215.4</td><td>373.1</td><td>356.0</td>\n",
    "    </tr>\n",
    "</table>\n",
    "\n",
    "#### How many of each product were made that day?"
   ]
  },
  {
   "cell_type": "code",
   "execution_count": 102,
   "metadata": {},
   "outputs": [],
   "source": [
    "import numpy as np\n",
    "\n",
    "x1s = [0, 1.3, 0.2, 0.8, 0.4]\n",
    "x2s = [0, 0, 1.5, 0.4, 0.3]\n",
    "x3s = [0.25, 0, 0, 0.2, 0.7]\n",
    "x4s = [0, 0, 0.3, 0.7, 0.5]\n",
    "x5s = [0.15, 0, 0.5, 0.4, 0.8]\n",
    "\n",
    "\n",
    "A = np.array([x1s, x2s, x3s, x4s, x5s])\n",
    "\n",
    "At = A.transpose()\n",
    "\n",
    "b = [51, 312.0, 215.4, 373.1, 356.0]"
   ]
  },
  {
   "cell_type": "code",
   "execution_count": 99,
   "metadata": {},
   "outputs": [
    {
     "data": {
      "text/plain": [
       "array([240.,  55., 150., 133.,  90.])"
      ]
     },
     "execution_count": 99,
     "metadata": {},
     "output_type": "execute_result"
    }
   ],
   "source": [
    "solution = np.linalg.solve(At,b)\n",
    "\n",
    "solution"
   ]
  },
  {
   "cell_type": "code",
   "execution_count": 101,
   "metadata": {},
   "outputs": [
    {
     "name": "stdout",
     "output_type": "stream",
     "text": [
      "Total product A made: 240.00\n",
      "Total product B made: 55.00\n",
      "Total product C made: 150.00\n",
      "Total product D made: 133.00\n",
      "Total product E made: 90.00\n"
     ]
    }
   ],
   "source": [
    "for index, i in enumerate('ABCDE'):\n",
    "    print(f'Total product {i} made: {solution[index]:.2f}')\n",
    "    "
   ]
  },
  {
   "cell_type": "markdown",
   "metadata": {},
   "source": [
    "#### <strong>PROBLEM 2.</strong> Find the least-squares regression line for the points (1,1), (2,2), (3,4), (4,4), and (5,6) using the matrix form of the normal equations <em>A.T</em>@<em>A</em>@<strong>x</strong> = <em>A.T</em>@<strong>b</strong>."
   ]
  },
  {
   "cell_type": "code",
   "execution_count": 40,
   "metadata": {},
   "outputs": [],
   "source": [
    "import numpy as np\n",
    "\n",
    "xs = [1,2,3,4,5]\n",
    "ys = [1,2,4,4,6]\n",
    "\n",
    "b = np.array(ys)\n",
    "ones = np.array([1 for _ in range(len(xs))])"
   ]
  },
  {
   "cell_type": "code",
   "execution_count": 41,
   "metadata": {},
   "outputs": [
    {
     "data": {
      "text/plain": [
       "array([[1, 1],\n",
       "       [1, 2],\n",
       "       [1, 3],\n",
       "       [1, 4],\n",
       "       [1, 5]])"
      ]
     },
     "execution_count": 41,
     "metadata": {},
     "output_type": "execute_result"
    }
   ],
   "source": [
    "A = np.array([ones, np.array(xs)]).T\n",
    "A"
   ]
  },
  {
   "cell_type": "code",
   "execution_count": 42,
   "metadata": {},
   "outputs": [
    {
     "data": {
      "text/plain": [
       "array([[1, 1, 1, 1, 1],\n",
       "       [1, 2, 3, 4, 5]])"
      ]
     },
     "execution_count": 42,
     "metadata": {},
     "output_type": "execute_result"
    }
   ],
   "source": [
    "A.T"
   ]
  },
  {
   "cell_type": "code",
   "execution_count": 43,
   "metadata": {},
   "outputs": [
    {
     "data": {
      "text/plain": [
       "array([[ 5, 15],\n",
       "       [15, 55]])"
      ]
     },
     "execution_count": 43,
     "metadata": {},
     "output_type": "execute_result"
    }
   ],
   "source": [
    "ATA = A.T@A\n",
    "ATA"
   ]
  },
  {
   "cell_type": "code",
   "execution_count": 44,
   "metadata": {},
   "outputs": [
    {
     "data": {
      "text/plain": [
       "array([[ 1.1, -0.3],\n",
       "       [-0.3,  0.1]])"
      ]
     },
     "execution_count": 44,
     "metadata": {},
     "output_type": "execute_result"
    }
   ],
   "source": [
    "from numpy.linalg import inv\n",
    "%precision 3\n",
    "\n",
    "ATAinv = inv(ATA)\n",
    "ATAinv"
   ]
  },
  {
   "cell_type": "code",
   "execution_count": 45,
   "metadata": {},
   "outputs": [
    {
     "data": {
      "text/plain": [
       "array([17, 63])"
      ]
     },
     "execution_count": 45,
     "metadata": {},
     "output_type": "execute_result"
    }
   ],
   "source": [
    "ATb = A.T@b\n",
    "ATb"
   ]
  },
  {
   "cell_type": "code",
   "execution_count": 46,
   "metadata": {},
   "outputs": [
    {
     "data": {
      "text/plain": [
       "array([-0.2,  1.2])"
      ]
     },
     "execution_count": 46,
     "metadata": {},
     "output_type": "execute_result"
    }
   ],
   "source": [
    "xhat = ATAinv@ATb\n",
    "xhat"
   ]
  },
  {
   "cell_type": "markdown",
   "metadata": {},
   "source": [
    "Therefore, b = -0.2 and m = 1.2"
   ]
  },
  {
   "cell_type": "code",
   "execution_count": 47,
   "metadata": {},
   "outputs": [
    {
     "data": {
      "image/png": "[encoded data removed]",
      "text/plain": [
       "<Figure size 432x288 with 1 Axes>"
      ]
     },
     "metadata": {
      "needs_background": "light"
     },
     "output_type": "display_data"
    }
   ],
   "source": [
    "%matplotlib inline\n",
    "import matplotlib.pyplot as plt\n",
    "\n",
    "x = np.array([1,2,3,4,5])\n",
    "y = np.array([1,2,4,4,6])\n",
    "\n",
    "\n",
    "intercept, slope = xhat\n",
    "\n",
    "abline_values = [slope * i + intercept for i in x]\n",
    "\n",
    "plt.scatter(x, y)\n",
    "plt.plot(x, abline_values, 'b')\n",
    "plt.title(f'intercept = {intercept:.1f}, m= {slope:.1f}')\n",
    "plt.show()\n"
   ]
  },
  {
   "cell_type": "markdown",
   "metadata": {},
   "source": [
    "#### <strong>PROBLEM 3.</strong> The following table shows the mean distances <em>x</em> in astonomical units (multiples of the distance between the sun and the earth) and the periods <em>y</em> in years (how many earth-years to orbit the sun):\n",
    "<table>\n",
    "    <tr>\n",
    "        <th>Planet</th>\n",
    "        <th>Mercury</th>\n",
    "        <th>Venus</th>\n",
    "        <th>Earth</th>\n",
    "        <th>Mars</th>\n",
    "        <th>Jupiter</th>\n",
    "        <th>Saturn</th>\n",
    "    </tr>\n",
    "    <tr>\n",
    "        <td>Distance </em>x</em></td><td>0.387</td><td>0.723</td><td>1.000</td><td>1.524</td><td>5.203</td><td>9.537</td>\n",
    "    </tr>\n",
    "    <tr>\n",
    "        <td>Years </em>y</em></td><td>0.241</td><td>0.615</td><td>1.000</td><td>1.881</td><td>11.862</td><td>29.457</td>\n",
    "    </tr>\n",
    "</table>\n",
    "\n",
    "#### It turns out that if you take the natural logarithm of the numbers in the table, the transformed points lie roughly in a straight line. Find the least-squares regression line using the matrix form of the normal equations <em>A.T</em>@<em>A</em>@<strong>x</strong> = <em>A.T</em>@<strong>b</strong>. "
   ]
  },
  {
   "cell_type": "code",
   "execution_count": 110,
   "metadata": {},
   "outputs": [],
   "source": [
    "import numpy as np\n",
    "\n",
    "xs = np.log([0.387,0.723,1.000,1.524,5.203,9.537])\n",
    "b = np.log([0.241,0.615,1.000,1.881,11.862,29.457])\n",
    "\n",
    "#b = np.array(ys)\n",
    "ones = np.array([1 for _ in range(len(xs))])\n"
   ]
  },
  {
   "cell_type": "code",
   "execution_count": 111,
   "metadata": {},
   "outputs": [
    {
     "data": {
      "text/plain": [
       "array([[ 1.   , -0.949],\n",
       "       [ 1.   , -0.324],\n",
       "       [ 1.   ,  0.   ],\n",
       "       [ 1.   ,  0.421],\n",
       "       [ 1.   ,  1.649],\n",
       "       [ 1.   ,  2.255]])"
      ]
     },
     "execution_count": 111,
     "metadata": {},
     "output_type": "execute_result"
    }
   ],
   "source": [
    "A = np.array([ones, xs]).T\n",
    "A"
   ]
  },
  {
   "cell_type": "code",
   "execution_count": 112,
   "metadata": {},
   "outputs": [
    {
     "data": {
      "text/plain": [
       "array([[ 1.   ,  1.   ,  1.   ,  1.   ,  1.   ,  1.   ],\n",
       "       [-0.949, -0.324,  0.   ,  0.421,  1.649,  2.255]])"
      ]
     },
     "execution_count": 112,
     "metadata": {},
     "output_type": "execute_result"
    }
   ],
   "source": [
    "A.T"
   ]
  },
  {
   "cell_type": "code",
   "execution_count": 113,
   "metadata": {},
   "outputs": [
    {
     "data": {
      "text/plain": [
       "array([[6.   , 3.052],\n",
       "       [3.052, 8.99 ]])"
      ]
     },
     "execution_count": 113,
     "metadata": {},
     "output_type": "execute_result"
    }
   ],
   "source": [
    "ATA = A.T@A\n",
    "ATA"
   ]
  },
  {
   "cell_type": "code",
   "execution_count": 114,
   "metadata": {},
   "outputs": [
    {
     "data": {
      "text/plain": [
       "array([[ 0.201, -0.068],\n",
       "       [-0.068,  0.134]])"
      ]
     },
     "execution_count": 114,
     "metadata": {},
     "output_type": "execute_result"
    }
   ],
   "source": [
    "from numpy.linalg import inv\n",
    "%precision 3\n",
    "\n",
    "ATAinv = inv(ATA)\n",
    "ATAinv"
   ]
  },
  {
   "cell_type": "code",
   "execution_count": 115,
   "metadata": {},
   "outputs": [
    {
     "data": {
      "text/plain": [
       "array([ 4.579, 13.483])"
      ]
     },
     "execution_count": 115,
     "metadata": {},
     "output_type": "execute_result"
    }
   ],
   "source": [
    "ATb = A.T@b\n",
    "ATb"
   ]
  },
  {
   "cell_type": "code",
   "execution_count": 119,
   "metadata": {},
   "outputs": [
    {
     "data": {
      "text/plain": [
       "array([2.897e-04, 1.500e+00])"
      ]
     },
     "execution_count": 119,
     "metadata": {},
     "output_type": "execute_result"
    }
   ],
   "source": [
    "xhat = ATAinv@ATb\n",
    "xhat"
   ]
  },
  {
   "cell_type": "raw",
   "metadata": {},
   "source": [
    "Therefore, b = 0 and m = 1.5"
   ]
  },
  {
   "cell_type": "code",
   "execution_count": 120,
   "metadata": {},
   "outputs": [
    {
     "data": {
      "image/png": "[encoded data removed]",
      "text/plain": [
       "<Figure size 432x288 with 1 Axes>"
      ]
     },
     "metadata": {
      "needs_background": "light"
     },
     "output_type": "display_data"
    }
   ],
   "source": [
    "%matplotlib inline\n",
    "import matplotlib.pyplot as plt\n",
    "\n",
    "x = np.log([0.387,0.723,1.000,1.524,5.203,9.537])\n",
    "y = np.log([0.241,0.615,1.000,1.881,11.862,29.457])\n",
    "\n",
    "\n",
    "# Find the slope and intercept of the best fit line\n",
    "intercept, slope = xhat\n",
    "\n",
    "# Create a list of values in the best fit line\n",
    "abline_values = [slope * i + intercept for i in x]\n",
    "\n",
    "# Plot the best fit line over the actual values\n",
    "plt.scatter(x, y)\n",
    "plt.plot(x, abline_values, 'b')\n",
    "plt.title(f'intercept = {intercept:.3f}, m= {slope:.3f}')\n",
    "plt.show()\n"
   ]
  },
  {
   "cell_type": "markdown",
   "metadata": {},
   "source": [
    "#### <strong>PROBLEM 4.a.</strong> Here's more data about that certain day at Amalgamated Widgets, Inc. There are three more products and the cost  to make one of each product.\n",
    "<table>\n",
    "    <tr>\n",
    "        <th>Product</th>\n",
    "        <th>Metal</th>\n",
    "        <th>Wood</th>\n",
    "        <th>Plastic</th>\n",
    "        <th>Cloth</th>\n",
    "        <th>Paper</th>\n",
    "        <th>Cost</th>\n",
    "    </tr>\n",
    "    <tr>\n",
    "        <td>A</td><td>0</td><td>1.3</td><td>0.2</td><td>0.8</td><td>0.4</td><td>21.60</td>\n",
    "    </tr>\n",
    "    <tr>\n",
    "        <td>B</td><td>0</td><td>0</td><td>1.5</td><td>0.4</td><td>0.3</td><td>17.20</td>\n",
    "    </tr>\n",
    "    <tr>\n",
    "        <td>C</td><td>0.25</td><td>0</td><td>0</td><td>0.2</td><td>0.7</td><td>4.70</td>\n",
    "    </tr>\n",
    "    <tr>\n",
    "        <td>D</td><td>0</td><td>0</td><td>0.3</td><td>0.7</td><td>0.5</td><td>9.60</td>\n",
    "    </tr>\n",
    "    <tr>\n",
    "        <td>E</td><td>0.15</td><td>0</td><td>0.5</td><td>0.4</td><td>0.8</td><td>15.70</td>\n",
    "    </tr>\n",
    "    <tr>\n",
    "        <td>F</td><td>1.00</td><td>0.90</td><td>0.00</td><td>0.65</td><td>0.00</td><td>26.80</td>\n",
    "    </tr>\n",
    "    <tr>\n",
    "        <td>G</td><td>0.22</td><td>0.00</td><td>1.80</td><td>1.00</td><td>1.25</td><td>25.50</td>\n",
    "    </tr>\n",
    "    <tr>\n",
    "        <td>H</td><td>0.20</td><td>0.75</td><td>0.65</td><td>1.00</td><td>1.25</td><td>22.40</td>\n",
    "    </tr>\n",
    "</table>\n",
    "\n",
    "#### The manufacturing cost of a product is related to the amounts of materials used to make the product. Find the least-squares regression line using the matrix form of the normal equations <em>A.T</em>@<em>A</em>@<strong>x</strong> = <em>A.T</em>@<strong>b</strong> that will compute an estimated manufacturing cost of a product."
   ]
  },
  {
   "cell_type": "code",
   "execution_count": 56,
   "metadata": {},
   "outputs": [
    {
     "data": {
      "text/plain": [
       "'%.3f'"
      ]
     },
     "execution_count": 56,
     "metadata": {},
     "output_type": "execute_result"
    }
   ],
   "source": [
    "import numpy as np\n",
    "from numpy.linalg import inv\n",
    "%precision 3"
   ]
  },
  {
   "cell_type": "code",
   "execution_count": 57,
   "metadata": {},
   "outputs": [],
   "source": [
    "x1s = [     0, 0, 0.25, 0, 0.15, 1.00, 0.22, 0.20]  # Metal\n",
    "x2s = [   1.3, 0, 0, 0, 0, 0.90, 0.00, 0.75]  # Wood\n",
    "x3s = [   0.2, 1.5, 0, 0.3, 0.5, 0.00, 1.80, 0.65]  # Plastic\n",
    "x4s = [   0.8, 0.4, 0.2, 0.7, 0.4, 0.65, 1.00, 1.00]  # Cloth\n",
    "x5s = [   0.4, 0.3, 0.7, 0.5, 0.8, 0.00, 1.25, 1.25]  # Paper\n",
    "ys  = [ 21.60, 17.20, 4.70, 9.60, 15.70, 26.80, 25.50, 22.40]  # Cost\n",
    "\n",
    "x1 = np.array(x1s)\n",
    "x2 = np.array(x2s)\n",
    "x3 = np.array(x3s)\n",
    "x4 = np.array(x4s)\n",
    "x5 = np.array(x5s)\n",
    "y  = np.array(ys)"
   ]
  },
  {
   "cell_type": "code",
   "execution_count": 58,
   "metadata": {},
   "outputs": [
    {
     "data": {
      "text/plain": [
       "array([[1.  , 0.  , 1.3 , 0.2 , 0.8 , 0.4 ],\n",
       "       [1.  , 0.  , 0.  , 1.5 , 0.4 , 0.3 ],\n",
       "       [1.  , 0.25, 0.  , 0.  , 0.2 , 0.7 ],\n",
       "       [1.  , 0.  , 0.  , 0.3 , 0.7 , 0.5 ],\n",
       "       [1.  , 0.15, 0.  , 0.5 , 0.4 , 0.8 ],\n",
       "       [1.  , 1.  , 0.9 , 0.  , 0.65, 0.  ],\n",
       "       [1.  , 0.22, 0.  , 1.8 , 1.  , 1.25],\n",
       "       [1.  , 0.2 , 0.75, 0.65, 1.  , 1.25]])"
      ]
     },
     "execution_count": 58,
     "metadata": {},
     "output_type": "execute_result"
    }
   ],
   "source": [
    "ones = np.array([1, 1, 1, 1, 1, 1, 1, 1])\n",
    "A = np.array([ones, x1, x2, x3, x4, x5]).T\n",
    "A"
   ]
  },
  {
   "cell_type": "code",
   "execution_count": 59,
   "metadata": {},
   "outputs": [
    {
     "data": {
      "text/plain": [
       "array([[8.   , 1.82 , 2.95 , 4.95 , 5.15 , 5.2  ],\n",
       "       [1.82 , 1.173, 1.05 , 0.601, 1.18 , 0.82 ],\n",
       "       [2.95 , 1.05 , 3.062, 0.748, 2.375, 1.458],\n",
       "       [4.95 , 0.601, 0.748, 6.293, 3.62 , 4.143],\n",
       "       [5.15 , 1.18 , 2.375, 3.62 , 3.913, 3.75 ],\n",
       "       [5.2  , 0.82 , 1.458, 4.143, 3.75 , 4.755]])"
      ]
     },
     "execution_count": 59,
     "metadata": {},
     "output_type": "execute_result"
    }
   ],
   "source": [
    "ATA = A.T@A\n",
    "ATA"
   ]
  },
  {
   "cell_type": "code",
   "execution_count": 60,
   "metadata": {},
   "outputs": [
    {
     "data": {
      "text/plain": [
       "array([143.5  ,  40.42 ,  69.   , 101.31 , 103.42 ,  94.325])"
      ]
     },
     "execution_count": 60,
     "metadata": {},
     "output_type": "execute_result"
    }
   ],
   "source": [
    "b = y\n",
    "ATb = A.T@b\n",
    "ATb"
   ]
  },
  {
   "cell_type": "code",
   "execution_count": 61,
   "metadata": {},
   "outputs": [
    {
     "data": {
      "text/plain": [
       "array([[ 1.008, -0.494, -0.037, -0.087, -0.752, -0.337],\n",
       "       [-0.494,  1.678,  0.027,  0.221, -0.511,  0.453],\n",
       "       [-0.037,  0.027,  1.493,  0.574, -2.102,  0.736],\n",
       "       [-0.087,  0.221,  0.574,  0.639, -1.001,  0.113],\n",
       "       [-0.752, -0.511, -2.102, -1.001,  5.226, -1.695],\n",
       "       [-0.337,  0.453,  0.736,  0.113, -1.695,  1.513]])"
      ]
     },
     "execution_count": 61,
     "metadata": {},
     "output_type": "execute_result"
    }
   ],
   "source": [
    "ATAinv = inv(ATA)\n",
    "ATAinv"
   ]
  },
  {
   "cell_type": "code",
   "execution_count": 62,
   "metadata": {},
   "outputs": [
    {
     "data": {
      "text/plain": [
       "array([ 3.767, 11.081,  8.961,  8.015,  5.609, -0.347])"
      ]
     },
     "execution_count": 62,
     "metadata": {},
     "output_type": "execute_result"
    }
   ],
   "source": [
    "xhat = ATAinv@ATb\n",
    "xhat"
   ]
  },
  {
   "cell_type": "markdown",
   "metadata": {},
   "source": [
    "#### We can see the answer is consistent"
   ]
  },
  {
   "cell_type": "code",
   "execution_count": 63,
   "metadata": {},
   "outputs": [
    {
     "data": {
      "text/plain": [
       "array([21.368, 17.93 ,  7.417,  9.925, 11.403, 26.56 , 25.808, 23.09 ])"
      ]
     },
     "execution_count": 63,
     "metadata": {},
     "output_type": "execute_result"
    }
   ],
   "source": [
    "A@xhat"
   ]
  },
  {
   "cell_type": "code",
   "execution_count": 64,
   "metadata": {},
   "outputs": [
    {
     "data": {
      "text/plain": [
       "array([21.6, 17.2,  4.7,  9.6, 15.7, 26.8, 25.5, 22.4])"
      ]
     },
     "execution_count": 64,
     "metadata": {},
     "output_type": "execute_result"
    }
   ],
   "source": [
    "b"
   ]
  },
  {
   "cell_type": "code",
   "execution_count": 65,
   "metadata": {},
   "outputs": [
    {
     "name": "stdout",
     "output_type": "stream",
     "text": [
      "β0: 3.7673014300317007\n",
      "β1: 11.081421494512252\n",
      "β2: 8.961425621985484\n",
      "β3: 8.015336732811988\n",
      "β4: 5.608681811607141\n",
      "β5: -0.3468139042921692\n"
     ]
    }
   ],
   "source": [
    "for i, item in enumerate(xhat):\n",
    "    print(f'β{i}: {item}')"
   ]
  },
  {
   "cell_type": "markdown",
   "metadata": {},
   "source": [
    "#### <strong>PROBLEM 4.b.</strong> Find the least-squares regression line for the same data using <em>QR</em> factorization. Verify that matrix <em>R</em> is upper-triangular and invertible. Verify that the columns of matrix <em>Q</em> are orthonormal. "
   ]
  },
  {
   "cell_type": "code",
   "execution_count": 66,
   "metadata": {},
   "outputs": [],
   "source": [
    "import numpy as np\n",
    "from numpy.linalg import inv, qr"
   ]
  },
  {
   "cell_type": "code",
   "execution_count": 67,
   "metadata": {},
   "outputs": [],
   "source": [
    "x1s = [     0, 0, 0.25, 0, 0.15, 1.00, 0.22, 0.20]  # Metal\n",
    "x2s = [   1.3, 0, 0, 0, 0, 0.90, 0.00, 0.75]  # Wood\n",
    "x3s = [   0.2, 1.5, 0, 0.3, 0.5, 0.00, 1.80, 0.65]  # Plastic\n",
    "x4s = [   0.8, 0.4, 0.2, 0.7, 0.4, 0.65, 1.00, 1.00]  # Cloth\n",
    "x5s = [   0.4, 0.3, 0.7, 0.5, 0.8, 0.00, 1.25, 1.25]  # Paper\n",
    "ys  = [ 21.60, 17.20, 4.70, 9.60, 15.70, 26.80, 25.50, 22.40]  # Cost\n",
    "\n",
    "x1 = np.array(x1s)\n",
    "x2 = np.array(x2s)\n",
    "x3 = np.array(x3s)\n",
    "x4 = np.array(x4s)\n",
    "x5 = np.array(x5s)\n",
    "y  = np.array(ys)"
   ]
  },
  {
   "cell_type": "code",
   "execution_count": 68,
   "metadata": {},
   "outputs": [
    {
     "data": {
      "text/plain": [
       "array([[1.  , 0.  , 1.3 , 0.2 , 0.8 , 0.4 ],\n",
       "       [1.  , 0.  , 0.  , 1.5 , 0.4 , 0.3 ],\n",
       "       [1.  , 0.25, 0.  , 0.  , 0.2 , 0.7 ],\n",
       "       [1.  , 0.  , 0.  , 0.3 , 0.7 , 0.5 ],\n",
       "       [1.  , 0.15, 0.  , 0.5 , 0.4 , 0.8 ],\n",
       "       [1.  , 1.  , 0.9 , 0.  , 0.65, 0.  ],\n",
       "       [1.  , 0.22, 0.  , 1.8 , 1.  , 1.25],\n",
       "       [1.  , 0.2 , 0.75, 0.65, 1.  , 1.25]])"
      ]
     },
     "execution_count": 68,
     "metadata": {},
     "output_type": "execute_result"
    }
   ],
   "source": [
    "ones = np.array([1, 1, 1, 1, 1, 1, 1, 1])\n",
    "A = np.array([ones, x1, x2, x3, x4, x5]).T\n",
    "A"
   ]
  },
  {
   "cell_type": "code",
   "execution_count": 69,
   "metadata": {},
   "outputs": [
    {
     "data": {
      "text/plain": [
       "array([[1.  , 0.  , 1.3 , 0.2 , 0.8 , 0.4 ],\n",
       "       [1.  , 0.  , 0.  , 1.5 , 0.4 , 0.3 ],\n",
       "       [1.  , 0.25, 0.  , 0.  , 0.2 , 0.7 ],\n",
       "       [1.  , 0.  , 0.  , 0.3 , 0.7 , 0.5 ],\n",
       "       [1.  , 0.15, 0.  , 0.5 , 0.4 , 0.8 ],\n",
       "       [1.  , 1.  , 0.9 , 0.  , 0.65, 0.  ],\n",
       "       [1.  , 0.22, 0.  , 1.8 , 1.  , 1.25],\n",
       "       [1.  , 0.2 , 0.75, 0.65, 1.  , 1.25]])"
      ]
     },
     "execution_count": 69,
     "metadata": {},
     "output_type": "execute_result"
    }
   ],
   "source": [
    "A"
   ]
  },
  {
   "cell_type": "raw",
   "metadata": {},
   "source": [
    "We can see that matrix R  is upper-triangled"
   ]
  },
  {
   "cell_type": "code",
   "execution_count": 70,
   "metadata": {},
   "outputs": [
    {
     "data": {
      "text/plain": [
       "array([[-2.828, -0.643, -1.043, -1.75 , -1.821, -1.838],\n",
       "       [ 0.   ,  0.871,  0.435, -0.603,  0.01 , -0.417],\n",
       "       [ 0.   ,  0.   ,  1.336, -0.611,  0.353, -0.209],\n",
       "       [ 0.   ,  0.   ,  0.   ,  1.579,  0.415,  0.346],\n",
       "       [ 0.   ,  0.   ,  0.   ,  0.   ,  0.548,  0.614],\n",
       "       [ 0.   ,  0.   ,  0.   ,  0.   ,  0.   ,  0.813]])"
      ]
     },
     "execution_count": 70,
     "metadata": {},
     "output_type": "execute_result"
    }
   ],
   "source": [
    "Q,R = qr(A)\n",
    "R"
   ]
  },
  {
   "cell_type": "markdown",
   "metadata": {},
   "source": [
    "We can see that matrix R is also invertible"
   ]
  },
  {
   "cell_type": "code",
   "execution_count": 71,
   "metadata": {},
   "outputs": [
    {
     "data": {
      "text/plain": [
       "array([[-3.536e-01, -2.611e-01, -1.910e-01, -5.653e-01, -6.191e-01,\n",
       "        -2.740e-01],\n",
       "       [ 0.000e+00,  1.148e+00, -3.734e-01,  2.936e-01, -1.692e-03,\n",
       "         3.685e-01],\n",
       "       [ 0.000e+00,  0.000e+00,  7.483e-01,  2.893e-01, -7.007e-01,\n",
       "         5.983e-01],\n",
       "       [ 0.000e+00,  0.000e+00,  0.000e+00,  6.332e-01, -4.789e-01,\n",
       "         9.219e-02],\n",
       "       [ 0.000e+00,  0.000e+00,  0.000e+00,  0.000e+00,  1.824e+00,\n",
       "        -1.378e+00],\n",
       "       [ 0.000e+00,  0.000e+00,  0.000e+00,  0.000e+00,  0.000e+00,\n",
       "         1.230e+00]])"
      ]
     },
     "execution_count": 71,
     "metadata": {},
     "output_type": "execute_result"
    }
   ],
   "source": [
    "Rinv = inv(R)\n",
    "Rinv"
   ]
  },
  {
   "cell_type": "code",
   "execution_count": 72,
   "metadata": {},
   "outputs": [
    {
     "data": {
      "text/plain": [
       "array([[-0.354, -0.261,  0.782, -0.063, -0.167, -0.088],\n",
       "       [-0.354, -0.261, -0.191,  0.385, -0.608, -0.318],\n",
       "       [-0.354,  0.026, -0.284, -0.492, -0.255,  0.404],\n",
       "       [-0.354, -0.261, -0.191, -0.375,  0.514, -0.596],\n",
       "       [-0.354, -0.089, -0.247, -0.205, -0.129,  0.26 ],\n",
       "       [-0.354,  0.886,  0.109, -0.011, -0.066, -0.263],\n",
       "       [-0.354, -0.009, -0.273,  0.639,  0.343,  0.133],\n",
       "       [-0.354, -0.032,  0.296,  0.122,  0.368,  0.468]])"
      ]
     },
     "execution_count": 72,
     "metadata": {},
     "output_type": "execute_result"
    }
   ],
   "source": [
    "Q"
   ]
  },
  {
   "cell_type": "code",
   "execution_count": 73,
   "metadata": {},
   "outputs": [
    {
     "data": {
      "text/plain": [
       "array([[-0.354, -0.354, -0.354, -0.354, -0.354, -0.354, -0.354, -0.354],\n",
       "       [-0.261, -0.261,  0.026, -0.261, -0.089,  0.886, -0.009, -0.032],\n",
       "       [ 0.782, -0.191, -0.284, -0.191, -0.247,  0.109, -0.273,  0.296],\n",
       "       [-0.063,  0.385, -0.492, -0.375, -0.205, -0.011,  0.639,  0.122],\n",
       "       [-0.167, -0.608, -0.255,  0.514, -0.129, -0.066,  0.343,  0.368],\n",
       "       [-0.088, -0.318,  0.404, -0.596,  0.26 , -0.263,  0.133,  0.468]])"
      ]
     },
     "execution_count": 73,
     "metadata": {},
     "output_type": "execute_result"
    }
   ],
   "source": [
    "QT = Q.T\n",
    "QT"
   ]
  },
  {
   "cell_type": "code",
   "execution_count": 74,
   "metadata": {},
   "outputs": [
    {
     "data": {
      "text/plain": [
       "(0.9999999999999999,\n",
       " 1.0,\n",
       " 1.0000000000000002,\n",
       " 0.9999999999999999,\n",
       " 1.0000000000000002,\n",
       " 0.9999999999999999)"
      ]
     },
     "execution_count": 74,
     "metadata": {},
     "output_type": "execute_result"
    }
   ],
   "source": [
    "from numpy.linalg import norm\n",
    "\n",
    "row0 = QT[0]\n",
    "row1 = QT[1]\n",
    "row2 = QT[2]\n",
    "row3 = QT[3]\n",
    "row4 = QT[4]\n",
    "row5 = QT[5]\n",
    "\n",
    "norm(row0), norm(row1), norm(row2), norm(row3), norm(row4), norm(row5)"
   ]
  },
  {
   "cell_type": "raw",
   "metadata": {},
   "source": [
    "We can see all values calculated below are very close to 0"
   ]
  },
  {
   "cell_type": "code",
   "execution_count": 75,
   "metadata": {},
   "outputs": [
    {
     "data": {
      "text/plain": [
       "(-5.551115123125783e-17,\n",
       " 1.3877787807814457e-16,\n",
       " 1.3183898417423734e-16,\n",
       " 3.469446951953614e-16,\n",
       " 5.551115123125783e-17,\n",
       " -8.326672684688674e-17)"
      ]
     },
     "execution_count": 75,
     "metadata": {},
     "output_type": "execute_result"
    }
   ],
   "source": [
    "row0@row1, row0@row2, row1@row2, row3@row2, row5@row1, row4@row5"
   ]
  },
  {
   "cell_type": "code",
   "execution_count": 76,
   "metadata": {},
   "outputs": [
    {
     "data": {
      "text/plain": [
       "array([[ 1.000e+00, -5.551e-17,  1.284e-16, -6.939e-18, -5.730e-17,\n",
       "        -8.153e-17],\n",
       "       [-5.551e-17,  1.000e+00,  1.388e-16,  3.469e-17,  6.685e-17,\n",
       "         8.749e-17],\n",
       "       [ 1.284e-16,  1.388e-16,  1.000e+00,  3.608e-16,  2.496e-16,\n",
       "        -1.389e-16],\n",
       "       [-6.939e-18,  3.469e-17,  3.608e-16,  1.000e+00,  9.656e-17,\n",
       "        -1.840e-16],\n",
       "       [-5.730e-17,  6.685e-17,  2.496e-16,  9.656e-17,  1.000e+00,\n",
       "        -8.395e-17],\n",
       "       [-8.153e-17,  8.749e-17, -1.389e-16, -1.840e-16, -8.395e-17,\n",
       "         1.000e+00]])"
      ]
     },
     "execution_count": 76,
     "metadata": {},
     "output_type": "execute_result"
    }
   ],
   "source": [
    "QT@Q"
   ]
  },
  {
   "cell_type": "code",
   "execution_count": 77,
   "metadata": {},
   "outputs": [],
   "source": [
    "b = np.array(ys)"
   ]
  },
  {
   "cell_type": "code",
   "execution_count": 78,
   "metadata": {},
   "outputs": [
    {
     "data": {
      "text/plain": [
       "array([21.6, 17.2,  4.7,  9.6, 15.7, 26.8, 25.5, 22.4])"
      ]
     },
     "execution_count": 78,
     "metadata": {},
     "output_type": "execute_result"
    }
   ],
   "source": [
    "b"
   ]
  },
  {
   "cell_type": "code",
   "execution_count": 79,
   "metadata": {},
   "outputs": [
    {
     "data": {
      "text/plain": [
       "array([ 3.767, 11.081,  8.961,  8.015,  5.609, -0.347])"
      ]
     },
     "execution_count": 79,
     "metadata": {},
     "output_type": "execute_result"
    }
   ],
   "source": [
    "xhat = Rinv@QT@b\n",
    "xhat"
   ]
  },
  {
   "cell_type": "code",
   "execution_count": 80,
   "metadata": {},
   "outputs": [
    {
     "name": "stdout",
     "output_type": "stream",
     "text": [
      "β0: 3.767301430031676\n",
      "β1: 11.081421494512279\n",
      "β2: 8.961425621985471\n",
      "β3: 8.01533673281199\n",
      "β4: 5.6086818116071555\n",
      "β5: -0.3468139042921461\n"
     ]
    }
   ],
   "source": [
    "for i, item in enumerate(xhat):\n",
    "    print(f'β{i}: {item}')"
   ]
  },
  {
   "cell_type": "code",
   "execution_count": null,
   "metadata": {},
   "outputs": [],
   "source": []
  }
 ],
 "metadata": {
  "kernelspec": {
   "display_name": "Python 3",
   "language": "python",
   "name": "python3"
  },
  "language_info": {
   "codemirror_mode": {
    "name": "ipython",
    "version": 3
   },
   "file_extension": ".py",
   "mimetype": "text/x-python",
   "name": "python",
   "nbconvert_exporter": "python",
   "pygments_lexer": "ipython3",
   "version": "3.8.5"
  }
 },
 "nbformat": 4,
 "nbformat_minor": 4
}
