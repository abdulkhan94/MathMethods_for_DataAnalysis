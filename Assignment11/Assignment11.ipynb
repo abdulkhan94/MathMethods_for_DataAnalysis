{
 "cells": [
  {
   "cell_type": "markdown",
   "metadata": {},
   "source": [
    "### <center>San Jose State University<br>Department of Applied Data Science</center>\n",
    "#  <center>DATA 220<br>Mathematical Methods for Data Analysis</center>\n",
    "### <center>Fall 2020<br>Instructor: Ron Mak</center>\n",
    "#  <center>Assignment #11<br>Matrix Operations Problem Set</center>\n",
    "#### <center>100 points total (20 points each)<br><br>Work together with your lab partner.<br>Write your solutions in one or more cells after each problem.<br>Whenever possible, use matrix operations and not loops.<br>You can add your own functions or other support code.</center>\n",
    "#### <center>Due November 19, 2020</center>"
   ]
  },
  {
   "cell_type": "markdown",
   "metadata": {},
   "source": [
    "#### <strong>PROBLEM 1.</strong> Amalgamated Widgets, Inc. manufactures several products using various amounts of materials per product:\n",
    "<table>\n",
    "    <tr>\n",
    "        <th>Product</th>\n",
    "        <th>Metal</th>\n",
    "        <th>Wood</th>\n",
    "        <th>Plastic</th>\n",
    "        <th>Cloth</th>\n",
    "        <th>Paper</th>\n",
    "    </tr>\n",
    "    <tr>\n",
    "        <td>A</td><td>0</td><td>1.3</td><td>0.2</td><td>0.8</td><td>0.4</td>\n",
    "    </tr>\n",
    "    <tr>\n",
    "        <td>B</td><td>0</td><td>0</td><td>1.5</td><td>0.4</td><td>0.3</td>\n",
    "    </tr>\n",
    "    <tr>\n",
    "        <td>C</td><td>0.25</td><td>0</td><td>0</td><td>0.2</td><td>0.7</td>\n",
    "    </tr>\n",
    "    <tr>\n",
    "        <td>D</td><td>0</td><td>0</td><td>0.3</td><td>0.7</td><td>0.5</td>\n",
    "    </tr>\n",
    "    <tr>\n",
    "        <td>E</td><td>0.15</td><td>0</td><td>0.5</td><td>0.4</td><td>0.8</td>\n",
    "    </tr>\n",
    "</table>\n",
    "\n",
    "#### On a certain day, the following total amounts of materials were used:\n",
    "<table>\n",
    "    <tr>\n",
    "        <th>Metal</th>\n",
    "        <th>Wood</th>\n",
    "        <th>Plastic</th>\n",
    "        <th>Cloth</th>\n",
    "        <th>Paper</th>\n",
    "    </tr>\n",
    "    <tr>\n",
    "        <td>51.0</td><td>312.0</td><td>215.4</td><td>373.1</td><td>356.0</td>\n",
    "    </tr>\n",
    "</table>\n",
    "\n",
    "#### How many of each product were made that day?"
   ]
  },
  {
   "cell_type": "code",
   "execution_count": 21,
   "metadata": {},
   "outputs": [
    {
     "data": {
      "text/plain": [
       "array([[ 51. ],\n",
       "       [312. ],\n",
       "       [215.4],\n",
       "       [373.1],\n",
       "       [356. ]])"
      ]
     },
     "execution_count": 21,
     "metadata": {},
     "output_type": "execute_result"
    }
   ],
   "source": [
    "import numpy as np\n",
    "\n",
    "'''\n",
    "x1s = [   0,       0,    0.25,       0,  0.15]  # Metal\n",
    "x2s = [ 1.3,       0,       0,       0,     0]  # Wood\n",
    "x3s = [ 0.2,     1.5,       0,     0.3,   0.5]  # Plastic\n",
    "x4s = [ 0.8,     0.4,     0.2,     0.7,   0.4]  # Cloth\n",
    "x5s = [ 0.4,     0.3,     0.7,     0.5,   0.8]  # Paper\n",
    "ys  = [51.0,   312.0,    215.4,  373.1, 356.0]  # Quantities \n",
    "'''\n",
    "\n",
    "'''x1s = [0, 1.3, 0.2, 0.8, 0.4]\n",
    "x2s = [0, 0, 1.5, 0.4, 0.3]\n",
    "x3s = [0.25, 0, 0, 0.2, 0.7]\n",
    "x4s = [0, 0, 0.3, 0.7, 0.5]\n",
    "x5s = [0.15, 0, 0.5, 0.4, 0.8]\n",
    "ys  = [51.0, 312.0, 215.4, 373.1, 356.0]  # Quantities \n",
    "'''\n",
    "\n",
    "'''\n",
    "0x1 + 0x1 + 0.25x1 + 0x1 + 0.15x1 = 51\n",
    "'''\n",
    "x1s = [   0,       0,    0.25,       0,  0.15]  # Metal\n",
    "x2s = [ 1.3,       0,       0,       0,     0]  # Wood\n",
    "x3s = [ 0.2,     1.5,       0,     0.3,   0.5]  # Plastic\n",
    "x4s = [ 0.8,     0.4,     0.2,     0.7,   0.4]  # Cloth\n",
    "x5s = [ 0.4,     0.3,     0.7,     0.5,   0.8]  # Paper\n",
    "ys  = [[51.0],   \n",
    "       [312.0],    \n",
    "       [215.4],  \n",
    "       [373.1], \n",
    "        [356.0]]  # Quantities \n",
    "\n",
    "\n",
    "\n",
    "x1 = np.array(x1s)\n",
    "x2 = np.array(x2s)\n",
    "x3 = np.array(x3s)\n",
    "x4 = np.array(x4s)\n",
    "x5 = np.array(x5s)\n",
    "y  = np.array(ys)\n",
    "\n",
    "y.reshape(1,5)\n",
    "y"
   ]
  },
  {
   "cell_type": "code",
   "execution_count": 22,
   "metadata": {},
   "outputs": [
    {
     "data": {
      "text/plain": [
       "(5,\n",
       " 0.4,\n",
       " 1.3,\n",
       " 2.5,\n",
       " 2.5,\n",
       " 2.7,\n",
       " 1307.5,\n",
       " 523.0,\n",
       " 1699.75,\n",
       " 3268.75,\n",
       " 3268.7500000000005,\n",
       " 3530.25,\n",
       " 0.08499999999999999,\n",
       " 1.6900000000000002,\n",
       " 2.63,\n",
       " 1.4900000000000002,\n",
       " 1.6300000000000001,\n",
       " 0.0,\n",
       " 0.075,\n",
       " 0.11,\n",
       " 0.295,\n",
       " 0.26,\n",
       " 1.04,\n",
       " 0.52,\n",
       " 1.1700000000000002,\n",
       " 1.08,\n",
       " 1.25)"
      ]
     },
     "execution_count": 22,
     "metadata": {},
     "output_type": "execute_result"
    }
   ],
   "source": [
    "n        = len(ys)\n",
    "sum_x1   = np.sum(x1)\n",
    "sum_x2   = np.sum(x2)\n",
    "sum_x3   = np.sum(x3)\n",
    "sum_x4   = np.sum(x4)\n",
    "sum_x5   = np.sum(x5)\n",
    "\n",
    "sum_y    = np.sum(y)\n",
    "sum_x1y  = np.sum(x1*y)\n",
    "sum_x2y  = np.sum(x2*y)\n",
    "sum_x3y  = np.sum(x3*y)\n",
    "sum_x4y  = np.sum(x4*y)\n",
    "sum_x5y  = np.sum(x5*y)\n",
    "\n",
    "\n",
    "sum_x1x1 = np.sum(x1*x1)\n",
    "sum_x2x2 = np.sum(x2*x2)\n",
    "sum_x3x3 = np.sum(x3*x3)\n",
    "sum_x4x4 = np.sum(x4*x4)\n",
    "sum_x5x5 = np.sum(x5*x5)\n",
    "\n",
    "sum_x1x2 = np.sum(x1*x2)\n",
    "sum_x1x3 = np.sum(x1*x3)\n",
    "sum_x1x4 = np.sum(x1*x4)\n",
    "sum_x1x5 = np.sum(x1*x5)\n",
    "\n",
    "sum_x2x3 = np.sum(x2*x3)\n",
    "sum_x2x4 = np.sum(x2*x4)\n",
    "sum_x2x5 = np.sum(x2*x5)\n",
    "\n",
    "sum_x3x4 = np.sum(x3*x4)\n",
    "sum_x3x5 = np.sum(x3*x5)\n",
    "\n",
    "sum_x4x5 = np.sum(x4*x5)\n",
    "\n",
    "\n",
    "n, sum_x1, sum_x2, sum_x3, sum_x4, sum_x5, sum_y, sum_x1y, sum_x2y, sum_x3y, sum_x4y, sum_x5y, sum_x1x1, sum_x2x2,sum_x3x3, sum_x4x4, sum_x5x5,  sum_x1x2, sum_x1x3, sum_x1x4, sum_x1x5, sum_x2x3, sum_x2x4, sum_x2x5, sum_x3x4, sum_x3x5, sum_x4x5"
   ]
  },
  {
   "cell_type": "code",
   "execution_count": 23,
   "metadata": {},
   "outputs": [
    {
     "data": {
      "text/plain": [
       "(array([5.0000e+00, 4.0000e-01, 1.3000e+00, 2.5000e+00, 2.5000e+00,\n",
       "        2.7000e+00, 1.3075e+03]),\n",
       " array([4.00e-01, 8.50e-02, 0.00e+00, 7.50e-02, 1.10e-01, 2.95e-01,\n",
       "        5.23e+02]),\n",
       " array([1.30000e+00, 0.00000e+00, 1.69000e+00, 2.60000e-01, 1.04000e+00,\n",
       "        5.20000e-01, 1.69975e+03]),\n",
       " array([2.50000e+00, 7.50000e-02, 2.60000e-01, 2.63000e+00, 1.17000e+00,\n",
       "        1.08000e+00, 3.26875e+03]),\n",
       " array([2.50000e+00, 1.10000e-01, 1.04000e+00, 1.17000e+00, 1.49000e+00,\n",
       "        1.25000e+00, 3.26875e+03]),\n",
       " array([2.70000e+00, 2.95000e-01, 5.20000e-01, 1.08000e+00, 1.25000e+00,\n",
       "        1.63000e+00, 3.53025e+03]))"
      ]
     },
     "execution_count": 23,
     "metadata": {},
     "output_type": "execute_result"
    }
   ],
   "source": [
    "eqn1 = np.array([n, sum_x1, sum_x2, sum_x3, sum_x4, sum_x5, sum_y])\n",
    "eqn2 = np.array([sum_x1, sum_x1x1, sum_x1x2, sum_x1x3, sum_x1x4, sum_x1x5, sum_x1y])\n",
    "eqn3 = np.array([sum_x2, sum_x1x2, sum_x2x2, sum_x2x3, sum_x2x4, sum_x2x5, sum_x2y])\n",
    "eqn4 = np.array([sum_x3, sum_x1x3, sum_x2x3, sum_x3x3, sum_x3x4, sum_x3x5, sum_x3y])\n",
    "eqn5 = np.array([sum_x4, sum_x1x4, sum_x2x4, sum_x3x4, sum_x4x4, sum_x4x5, sum_x4y])\n",
    "eqn6 = np.array([sum_x5, sum_x1x5, sum_x2x5, sum_x3x5, sum_x4x5, sum_x5x5, sum_x5y])\n",
    "\n",
    "eqn1, eqn2, eqn3, eqn4, eqn5, eqn6"
   ]
  },
  {
   "cell_type": "code",
   "execution_count": 18,
   "metadata": {},
   "outputs": [
    {
     "data": {
      "text/plain": [
       "\"\\nprint(f'β0 = {solution[0]:9,.2f}')\\nprint(f'β1 = {solution[1]:9,.2f}')\\nprint(f'β2 = {solution[2]:9,.2f}')\\nprint(f'β3 = {solution[3]:9,.2f}')\\nprint(f'β4 = {solution[4]:9,.2f}')\\nprint(f'β5 = {solution[5]:9,.2f}')\\n\""
      ]
     },
     "execution_count": 18,
     "metadata": {},
     "output_type": "execute_result"
    }
   ],
   "source": [
    "import numpy as np\n",
    "'''\n",
    "A = np.array([[5.0000e+00, 2.7000e+00, 2.2000e+00, 1.1500e+00, 1.5000e+00,1.8500e+00],\n",
    "              [2.7000e+00, 2.5300e+00, 7.4000e-01, 4.4000e-01, 8.2000e-01, 7.4000e-01],\n",
    "              [2.2000e+00, 7.4000e-01, 2.5000e+00, 2.9000e-01, 8.8000e-01, 1.1500e+00],\n",
    "              [1.1500e+00, 4.4000e-01, 2.9000e-01, 5.9250e-01, 4.9000e-01, 6.7750e-01],\n",
    "              [1.5000e+00, 8.2000e-01, 8.8000e-01, 4.9000e-01, 8.3000e-01, 8.3000e-01],\n",
    "              [1.85  ,   0.74  ,   1.15  ,   0.6775,   0.83  ,   1.0725]\n",
    "             ])\n",
    "\n",
    "b = np.array([[1.3075e+03],\n",
    "             [8.8956e+02], \n",
    "             [5.7914e+02], \n",
    "             [3.3657e+02], \n",
    "             [5.0379e+02], \n",
    "             [549.39]])\n",
    "'''\n",
    "\n",
    "A = np.array([[5.0000e+00, 4.0000e-01, 1.3000e+00, 2.5000e+00, 2.5000e+00,\n",
    "        2.7000e+00],\n",
    "              [4.00e-01, 8.50e-02, 0.00e+00, 7.50e-02, 1.10e-01, 2.95e-01],\n",
    "              [2.2000e+00, 7.4000e-01, 2.5000e+00, 2.9000e-01, 8.8000e-01, 1.1500e+00],\n",
    "              [1.1500e+00, 4.4000e-01, 2.9000e-01, 5.9250e-01, 4.9000e-01, 6.7750e-01],\n",
    "              [1.5000e+00, 8.2000e-01, 8.8000e-01, 4.9000e-01, 8.3000e-01, 8.3000e-01],\n",
    "              [1.85  ,   0.74  ,   1.15  ,   0.6775,   0.83  ,   1.0725]\n",
    "             ])\n",
    "\n",
    "b = np.array([ ])\n",
    "\n",
    "\n",
    "\n",
    "solution = np.linalg.solve(A, b)\n",
    "\n",
    "\n",
    "'''\n",
    "print(f'β0 = {solution[0]:9,.2f}')\n",
    "print(f'β1 = {solution[1]:9,.2f}')\n",
    "print(f'β2 = {solution[2]:9,.2f}')\n",
    "print(f'β3 = {solution[3]:9,.2f}')\n",
    "print(f'β4 = {solution[4]:9,.2f}')\n",
    "print(f'β5 = {solution[5]:9,.2f}')\n",
    "'''"
   ]
  },
  {
   "cell_type": "raw",
   "metadata": {},
   "source": [
    "#### <strong>PROBLEM 2.</strong> Find the least-squares regression line for the points (1,1), (2,2), (3,4), (4,4), and (5,6) using the matrix form of the normal equations <em>A.T</em>@<em>A</em>@<strong>x</strong> = <em>A.T</em>@<strong>b</strong>."
   ]
  },
  {
   "cell_type": "code",
   "execution_count": null,
   "metadata": {},
   "outputs": [],
   "source": [
    "import numpy as np\n",
    "\n",
    "xs = [1,2,3,4,5]\n",
    "ys = [1,2,4,4,6]\n",
    "\n",
    "b = np.array(ys)\n",
    "ones = np.array([1 for _ in range(len(xs))])"
   ]
  },
  {
   "cell_type": "code",
   "execution_count": null,
   "metadata": {},
   "outputs": [],
   "source": [
    "A = np.array([ones, np.array(xs)]).T\n",
    "A"
   ]
  },
  {
   "cell_type": "code",
   "execution_count": null,
   "metadata": {},
   "outputs": [],
   "source": [
    "A.T"
   ]
  },
  {
   "cell_type": "code",
   "execution_count": null,
   "metadata": {},
   "outputs": [],
   "source": [
    "ATA = A.T@A\n",
    "ATA"
   ]
  },
  {
   "cell_type": "code",
   "execution_count": null,
   "metadata": {},
   "outputs": [],
   "source": [
    "from numpy.linalg import inv\n",
    "%precision 3\n",
    "\n",
    "ATAinv = inv(ATA)\n",
    "ATAinv"
   ]
  },
  {
   "cell_type": "code",
   "execution_count": null,
   "metadata": {},
   "outputs": [],
   "source": [
    "ATb = A.T@b\n",
    "ATb"
   ]
  },
  {
   "cell_type": "code",
   "execution_count": null,
   "metadata": {},
   "outputs": [],
   "source": [
    "xhat = ATAinv@ATb\n",
    "xhat"
   ]
  },
  {
   "cell_type": "markdown",
   "metadata": {},
   "source": [
    "Therefore, b = -0.2 and m = 1.2"
   ]
  },
  {
   "cell_type": "code",
   "execution_count": null,
   "metadata": {},
   "outputs": [],
   "source": [
    "%matplotlib inline\n",
    "import matplotlib.pyplot as plt\n",
    "\n",
    "x = np.array([1,2,3,4,5])\n",
    "y = np.array([1,2,4,4,6])\n",
    "\n",
    "\n",
    "intercept, slope = xhat\n",
    "\n",
    "abline_values = [slope * i + intercept for i in x]\n",
    "\n",
    "plt.scatter(x, y)\n",
    "plt.plot(x, abline_values, 'b')\n",
    "plt.title(f'intercept = {intercept:.1f}, m= {slope:.1f}')\n",
    "plt.show()\n"
   ]
  },
  {
   "cell_type": "markdown",
   "metadata": {},
   "source": [
    "#### <strong>PROBLEM 3.</strong> The following table shows the mean distances <em>x</em> in astonomical units (multiples of the distance between the sun and the earth) and the periods <em>y</em> in years (how many earth-years to orbit the sun):\n",
    "<table>\n",
    "    <tr>\n",
    "        <th>Planet</th>\n",
    "        <th>Mercury</th>\n",
    "        <th>Venus</th>\n",
    "        <th>Earth</th>\n",
    "        <th>Mars</th>\n",
    "        <th>Jupiter</th>\n",
    "        <th>Saturn</th>\n",
    "    </tr>\n",
    "    <tr>\n",
    "        <td>Distance </em>x</em></td><td>0.387</td><td>0.723</td><td>1.000</td><td>1.524</td><td>5.203</td><td>9.537</td>\n",
    "    </tr>\n",
    "    <tr>\n",
    "        <td>Years </em>y</em></td><td>0.241</td><td>0.615</td><td>1.000</td><td>1.881</td><td>11.862</td><td>29.457</td>\n",
    "    </tr>\n",
    "</table>\n",
    "\n",
    "#### It turns out that if you take the natural logarithm of the numbers in the table, the transformed points lie roughly in a straight line. Find the least-squares regression line using the matrix form of the normal equations <em>A.T</em>@<em>A</em>@<strong>x</strong> = <em>A.T</em>@<strong>b</strong>. "
   ]
  },
  {
   "cell_type": "code",
   "execution_count": null,
   "metadata": {},
   "outputs": [],
   "source": [
    "import numpy as np\n",
    "\n",
    "xs = [0.387,0.723,1.000,1.524,5.203,9.537]\n",
    "ys = [0.241,0.615,1.000,1.881,11.862,29.457]\n",
    "\n",
    "b = np.array(ys)\n",
    "ones = np.array([1 for _ in range(len(xs))])"
   ]
  },
  {
   "cell_type": "code",
   "execution_count": null,
   "metadata": {},
   "outputs": [],
   "source": [
    "A = np.array([ones, np.array(xs)]).T\n",
    "A"
   ]
  },
  {
   "cell_type": "code",
   "execution_count": null,
   "metadata": {},
   "outputs": [],
   "source": [
    "A.T"
   ]
  },
  {
   "cell_type": "code",
   "execution_count": null,
   "metadata": {},
   "outputs": [],
   "source": [
    "ATA = A.T@A\n",
    "ATA"
   ]
  },
  {
   "cell_type": "code",
   "execution_count": null,
   "metadata": {},
   "outputs": [],
   "source": [
    "from numpy.linalg import inv\n",
    "%precision 3\n",
    "\n",
    "ATAinv = inv(ATA)\n",
    "ATAinv"
   ]
  },
  {
   "cell_type": "code",
   "execution_count": null,
   "metadata": {},
   "outputs": [],
   "source": [
    "ATb = A.T@b\n",
    "ATb"
   ]
  },
  {
   "cell_type": "code",
   "execution_count": null,
   "metadata": {},
   "outputs": [],
   "source": [
    "xhat = ATAinv@ATb\n",
    "xhat"
   ]
  },
  {
   "cell_type": "raw",
   "metadata": {},
   "source": [
    "Therefore, b = -2.228 and m = 3.18"
   ]
  },
  {
   "cell_type": "code",
   "execution_count": null,
   "metadata": {},
   "outputs": [],
   "source": [
    "%matplotlib inline\n",
    "import matplotlib.pyplot as plt\n",
    "\n",
    "x = np.array([0.387,0.723,1.000,1.524,5.203,9.537])\n",
    "y = np.array([0.241,0.615,1.000,1.881,11.862,29.457])\n",
    "\n",
    "\n",
    "# Find the slope and intercept of the best fit line\n",
    "intercept, slope = xhat\n",
    "\n",
    "# Create a list of values in the best fit line\n",
    "abline_values = [slope * i + intercept for i in x]\n",
    "\n",
    "# Plot the best fit line over the actual values\n",
    "plt.scatter(x, y)\n",
    "plt.plot(x, abline_values, 'b')\n",
    "plt.title(f'intercept = {intercept:.3f}, m= {slope:.3f}')\n",
    "plt.show()\n"
   ]
  },
  {
   "cell_type": "markdown",
   "metadata": {},
   "source": [
    "#### <strong>PROBLEM 4.a.</strong> Here's more data about that certain day at Amalgamated Widgets, Inc. There are three more products and the cost  to make one of each product.\n",
    "<table>\n",
    "    <tr>\n",
    "        <th>Product</th>\n",
    "        <th>Metal</th>\n",
    "        <th>Wood</th>\n",
    "        <th>Plastic</th>\n",
    "        <th>Cloth</th>\n",
    "        <th>Paper</th>\n",
    "        <th>Cost</th>\n",
    "    </tr>\n",
    "    <tr>\n",
    "        <td>A</td><td>0</td><td>1.3</td><td>0.2</td><td>0.8</td><td>0.4</td><td>21.60</td>\n",
    "    </tr>\n",
    "    <tr>\n",
    "        <td>B</td><td>0</td><td>0</td><td>1.5</td><td>0.4</td><td>0.3</td><td>17.20</td>\n",
    "    </tr>\n",
    "    <tr>\n",
    "        <td>C</td><td>0.25</td><td>0</td><td>0</td><td>0.2</td><td>0.7</td><td>4.70</td>\n",
    "    </tr>\n",
    "    <tr>\n",
    "        <td>D</td><td>0</td><td>0</td><td>0.3</td><td>0.7</td><td>0.5</td><td>9.60</td>\n",
    "    </tr>\n",
    "    <tr>\n",
    "        <td>E</td><td>0.15</td><td>0</td><td>0.5</td><td>0.4</td><td>0.8</td><td>15.70</td>\n",
    "    </tr>\n",
    "    <tr>\n",
    "        <td>F</td><td>1.00</td><td>0.90</td><td>0.00</td><td>0.65</td><td>0.00</td><td>26.80</td>\n",
    "    </tr>\n",
    "    <tr>\n",
    "        <td>G</td><td>0.22</td><td>0.00</td><td>1.80</td><td>1.00</td><td>1.25</td><td>25.50</td>\n",
    "    </tr>\n",
    "    <tr>\n",
    "        <td>H</td><td>0.20</td><td>0.75</td><td>0.65</td><td>1.00</td><td>1.25</td><td>22.40</td>\n",
    "    </tr>\n",
    "</table>\n",
    "\n",
    "#### The manufacturing cost of a product is related to the amounts of materials used to make the product. Find the least-squares regression line using the matrix form of the normal equations <em>A.T</em>@<em>A</em>@<strong>x</strong> = <em>A.T</em>@<strong>b</strong> that will compute an estimated manufacturing cost of a product."
   ]
  },
  {
   "cell_type": "code",
   "execution_count": null,
   "metadata": {},
   "outputs": [],
   "source": [
    "import numpy as np\n",
    "from numpy.linalg import inv\n",
    "%precision 3"
   ]
  },
  {
   "cell_type": "code",
   "execution_count": null,
   "metadata": {},
   "outputs": [],
   "source": [
    "x1s = [     0, 0, 0.25, 0, 0.15, 1.00, 0.22, 0.20]  # Metal\n",
    "x2s = [   1.3, 0, 0, 0, 0, 0.90, 0.00, 0.75]  # Wood\n",
    "x3s = [   0.2, 1.5, 0, 0.3, 0.5, 0.00, 1.80, 0.65]  # Plastic\n",
    "x4s = [   0.8, 0.4, 0.2, 0.7, 0.4, 0.65, 1.00, 1.00]  # Cloth\n",
    "x5s = [   0.4, 0.3, 0.7, 0.5, 0.8, 0.00, 1.25, 1.25]  # Paper\n",
    "ys  = [ 21.60, 17.20, 4.70, 9.60, 15.70, 26.80, 25.50, 22.40]  # Cost\n",
    "\n",
    "x1 = np.array(x1s)\n",
    "x2 = np.array(x2s)\n",
    "x3 = np.array(x3s)\n",
    "x4 = np.array(x4s)\n",
    "x5 = np.array(x5s)\n",
    "y  = np.array(ys)"
   ]
  },
  {
   "cell_type": "code",
   "execution_count": null,
   "metadata": {},
   "outputs": [],
   "source": [
    "ones = np.array([1, 1, 1, 1, 1, 1, 1, 1])\n",
    "A = np.array([ones, x1, x2, x3, x4, x5]).T\n",
    "A"
   ]
  },
  {
   "cell_type": "code",
   "execution_count": null,
   "metadata": {},
   "outputs": [],
   "source": [
    "ATA = A.T@A\n",
    "ATA"
   ]
  },
  {
   "cell_type": "code",
   "execution_count": null,
   "metadata": {},
   "outputs": [],
   "source": [
    "b = y\n",
    "ATb = A.T@b\n",
    "ATb"
   ]
  },
  {
   "cell_type": "code",
   "execution_count": null,
   "metadata": {},
   "outputs": [],
   "source": [
    "ATAinv = inv(ATA)\n",
    "ATAinv"
   ]
  },
  {
   "cell_type": "code",
   "execution_count": null,
   "metadata": {},
   "outputs": [],
   "source": [
    "xhat = ATAinv@ATb\n",
    "xhat"
   ]
  },
  {
   "cell_type": "markdown",
   "metadata": {},
   "source": [
    "#### We can see the answer is consistent"
   ]
  },
  {
   "cell_type": "code",
   "execution_count": null,
   "metadata": {},
   "outputs": [],
   "source": [
    "A@xhat"
   ]
  },
  {
   "cell_type": "code",
   "execution_count": null,
   "metadata": {},
   "outputs": [],
   "source": [
    "b"
   ]
  },
  {
   "cell_type": "code",
   "execution_count": null,
   "metadata": {},
   "outputs": [],
   "source": [
    "for i, item in enumerate(xhat):\n",
    "    print(f'β{i}: {item}')"
   ]
  },
  {
   "cell_type": "markdown",
   "metadata": {},
   "source": [
    "#### <strong>PROBLEM 4.b.</strong> Find the least-squares regression line for the same data using <em>QR</em> factorization. Verify that matrix <em>R</em> is upper-triangular and invertible. Verify that the columns of matrix <em>Q</em> are orthonormal. "
   ]
  },
  {
   "cell_type": "code",
   "execution_count": null,
   "metadata": {},
   "outputs": [],
   "source": [
    "import numpy as np\n",
    "from numpy.linalg import inv, qr"
   ]
  },
  {
   "cell_type": "code",
   "execution_count": null,
   "metadata": {},
   "outputs": [],
   "source": [
    "x1s = [     0, 0, 0.25, 0, 0.15, 1.00, 0.22, 0.20]  # Metal\n",
    "x2s = [   1.3, 0, 0, 0, 0, 0.90, 0.00, 0.75]  # Wood\n",
    "x3s = [   0.2, 1.5, 0, 0.3, 0.5, 0.00, 1.80, 0.65]  # Plastic\n",
    "x4s = [   0.8, 0.4, 0.2, 0.7, 0.4, 0.65, 1.00, 1.00]  # Cloth\n",
    "x5s = [   0.4, 0.3, 0.7, 0.5, 0.8, 0.00, 1.25, 1.25]  # Paper\n",
    "ys  = [ 21.60, 17.20, 4.70, 9.60, 15.70, 26.80, 25.50, 22.40]  # Cost\n",
    "\n",
    "x1 = np.array(x1s)\n",
    "x2 = np.array(x2s)\n",
    "x3 = np.array(x3s)\n",
    "x4 = np.array(x4s)\n",
    "x5 = np.array(x5s)\n",
    "y  = np.array(ys)"
   ]
  },
  {
   "cell_type": "code",
   "execution_count": null,
   "metadata": {},
   "outputs": [],
   "source": [
    "ones = np.array([1, 1, 1, 1, 1, 1, 1, 1])\n",
    "A = np.array([ones, x1, x2, x3, x4, x5]).T\n",
    "A"
   ]
  },
  {
   "cell_type": "code",
   "execution_count": null,
   "metadata": {},
   "outputs": [],
   "source": [
    "A"
   ]
  },
  {
   "cell_type": "raw",
   "metadata": {},
   "source": [
    "We can see that matrix R  is upper-triangled"
   ]
  },
  {
   "cell_type": "code",
   "execution_count": null,
   "metadata": {},
   "outputs": [],
   "source": [
    "Q,R = qr(A)\n",
    "R"
   ]
  },
  {
   "cell_type": "markdown",
   "metadata": {},
   "source": [
    "We can see that matrix R is also invertible"
   ]
  },
  {
   "cell_type": "code",
   "execution_count": null,
   "metadata": {},
   "outputs": [],
   "source": [
    "Rinv = inv(R)\n",
    "Rinv"
   ]
  },
  {
   "cell_type": "code",
   "execution_count": null,
   "metadata": {},
   "outputs": [],
   "source": [
    "Q"
   ]
  },
  {
   "cell_type": "code",
   "execution_count": null,
   "metadata": {},
   "outputs": [],
   "source": [
    "QT = Q.T\n",
    "QT"
   ]
  },
  {
   "cell_type": "code",
   "execution_count": null,
   "metadata": {},
   "outputs": [],
   "source": [
    "from numpy.linalg import norm\n",
    "\n",
    "row0 = QT[0]\n",
    "row1 = QT[1]\n",
    "row2 = QT[2]\n",
    "row3 = QT[3]\n",
    "row4 = QT[4]\n",
    "row5 = QT[5]\n",
    "\n",
    "norm(row0), norm(row1), norm(row2), norm(row3), norm(row4), norm(row5)"
   ]
  },
  {
   "cell_type": "raw",
   "metadata": {},
   "source": [
    "We can see all values calculated below are very close to 0"
   ]
  },
  {
   "cell_type": "code",
   "execution_count": null,
   "metadata": {},
   "outputs": [],
   "source": [
    "row0@row1, row0@row2, row1@row2, row3@row2, row5@row1, row4@row5"
   ]
  },
  {
   "cell_type": "code",
   "execution_count": null,
   "metadata": {},
   "outputs": [],
   "source": [
    "QT@Q"
   ]
  },
  {
   "cell_type": "code",
   "execution_count": null,
   "metadata": {},
   "outputs": [],
   "source": [
    "b = np.array(ys)"
   ]
  },
  {
   "cell_type": "code",
   "execution_count": null,
   "metadata": {},
   "outputs": [],
   "source": [
    "b"
   ]
  },
  {
   "cell_type": "code",
   "execution_count": null,
   "metadata": {},
   "outputs": [],
   "source": [
    "xhat = Rinv@QT@b\n",
    "xhat"
   ]
  },
  {
   "cell_type": "code",
   "execution_count": null,
   "metadata": {},
   "outputs": [],
   "source": [
    "for i, item in enumerate(xhat):\n",
    "    print(f'β{i}: {item}')"
   ]
  },
  {
   "cell_type": "code",
   "execution_count": null,
   "metadata": {},
   "outputs": [],
   "source": []
  }
 ],
 "metadata": {
  "kernelspec": {
   "display_name": "Python 3",
   "language": "python",
   "name": "python3"
  },
  "language_info": {
   "codemirror_mode": {
    "name": "ipython",
    "version": 3
   },
   "file_extension": ".py",
   "mimetype": "text/x-python",
   "name": "python",
   "nbconvert_exporter": "python",
   "pygments_lexer": "ipython3",
   "version": "3.8.5"
  }
 },
 "nbformat": 4,
 "nbformat_minor": 4
}
