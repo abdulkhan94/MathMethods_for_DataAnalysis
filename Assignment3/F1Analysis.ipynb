{
 "cells": [
  {
   "cell_type": "markdown",
   "metadata": {},
   "source": [
    "# Importing libraries and setting up data"
   ]
  },
  {
   "cell_type": "code",
   "execution_count": 1,
   "metadata": {},
   "outputs": [],
   "source": [
    "import pandas as pd\n",
    "import math\n",
    "import seaborn as sns\n",
    "import statistics as stat\n",
    "import matplotlib\n",
    "import scipy\n",
    "\n",
    "drivers = pd.read_csv('./F1DataSet/drivers.csv')\n",
    "pitstops = pd.read_csv('./F1DataSet/pit_stops.csv')\n",
    "circuits= pd.read_csv(r'./F1DataSet/circuits.csv')\n",
    "races = pd.read_csv(r'./F1DataSet/races.csv')\n",
    "qualifying = pd.read_csv(r'./F1DataSet/qualifying.csv')"
   ]
  },
  {
   "cell_type": "markdown",
   "metadata": {},
   "source": [
    "# Dataframe configurations"
   ]
  },
  {
   "cell_type": "code",
   "execution_count": 2,
   "metadata": {},
   "outputs": [
    {
     "data": {
      "text/plain": [
       "(7638, 7)"
      ]
     },
     "execution_count": 2,
     "metadata": {},
     "output_type": "execute_result"
    }
   ],
   "source": [
    "pd.set_option('precision', 2)\n",
    "pd.set_option('display.max_rows', 10000)\n",
    "\n",
    "pitstops.shape"
   ]
  },
  {
   "cell_type": "markdown",
   "metadata": {},
   "source": [
    "# Pitstop Analysis"
   ]
  },
  {
   "cell_type": "markdown",
   "metadata": {},
   "source": [
    "### Cleaning Data"
   ]
  },
  {
   "cell_type": "code",
   "execution_count": 3,
   "metadata": {},
   "outputs": [
    {
     "data": {
      "text/plain": [
       "(45, 9)"
      ]
     },
     "execution_count": 3,
     "metadata": {},
     "output_type": "execute_result"
    }
   ],
   "source": [
    "drivers_good = drivers[drivers.code != '\\\\N'] # Removing all records where driver code is \\N\n",
    "drivers_good = drivers_good[drivers_good.number != '\\\\N'] # Removing all records where driver number is \\N\n",
    "drivers_good.shape"
   ]
  },
  {
   "cell_type": "markdown",
   "metadata": {},
   "source": [
    "#### Merging Drivers & Pitstops data frames to perform descriptive analysis of pitstop times"
   ]
  },
  {
   "cell_type": "code",
   "execution_count": 4,
   "metadata": {},
   "outputs": [],
   "source": [
    "drivers_pitstops = pd.merge(drivers_good, pitstops, how='inner', on = 'driverId') # Merge the drivers and pitstops data frames\n",
    "drivers_pitstops = drivers_pitstops[drivers_pitstops.milliseconds < 170000] # Filter out extreme values - incorrect data from 2017 Azerbaijan Grand Prix\n",
    "drivers_pitstops['milliseconds'] /= 1000 # Convert milliseconds to seconds\n",
    "drivers_pitstops.columns = ['driverID', 'driverRef', 'Number', 'Code' , 'Forename' , 'Surname', 'DOB', 'Nationality', 'URL', 'raceId', 'Stop', 'Lap', 'Time', 'Duration', 'Seconds'] # Rename columns\n",
    "top_pitstops = drivers_pitstops.sort_values(by=['Seconds'], ascending=True) #Sort by fastest pitstop time\n",
    "top_pitstops_final = top_pitstops.head(30) # Capture 30 fastest pitstop times in Formula 1 History"
   ]
  },
  {
   "cell_type": "code",
   "execution_count": 5,
   "metadata": {},
   "outputs": [],
   "source": [
    "fastest_fore = [x for x in top_pitstops_final.Forename] # Creating list of top 30 fastest drivers Forename for calculating mode \n",
    "fastest_sur = [x for x in top_pitstops_final.Surname] # Creating list of top 30 fastest drivers Surname for calculating mode\n",
    "mode_times = drivers_pitstops[drivers_pitstops.driverRef == stat.mode(top_pitstops_final.driverRef)] # Separating most recurring driver in top 30 to separate data frame - this will help in calculating mean"
   ]
  },
  {
   "cell_type": "markdown",
   "metadata": {},
   "source": [
    "### Descriptive analysis of pitstop times (incluing 30 fastest) in Formula 1"
   ]
  },
  {
   "cell_type": "markdown",
   "metadata": {},
   "source": [
    "#### Measures of central tendency"
   ]
  },
  {
   "cell_type": "code",
   "execution_count": 6,
   "metadata": {},
   "outputs": [
    {
     "name": "stdout",
     "output_type": "stream",
     "text": [
      "Out of the 30 fastest pitstop times in Formula 1 history the most recurring driver with fastest pitstop times is Pastor Maldonado (Venezuelan) with an average time of 24.59 seconds in his career and a fastest time of 12.90 seconds\n"
     ]
    }
   ],
   "source": [
    "print(f'Out of the {len(top_pitstops_final.index)} fastest pitstop times in Formula 1 history the most recurring driver with fastest pitstop times is {stat.mode(fastest_fore)} {stat.mode(fastest_sur)} ({stat.mode(top_pitstops_final.Nationality)}) with an average time of {stat.mean(mode_times.Seconds):.2f} seconds in his career and a fastest time of {top_pitstops_final.Seconds.min():.2f} seconds')\n"
   ]
  },
  {
   "cell_type": "code",
   "execution_count": 7,
   "metadata": {},
   "outputs": [
    {
     "name": "stdout",
     "output_type": "stream",
     "text": [
      "The median time for pitstops in Formula 1 is 23.43 seconds and the average time is 24.47 seconds\n"
     ]
    }
   ],
   "source": [
    "print(f'The median time for pitstops in Formula 1 is {stat.median(drivers_pitstops.Seconds):.2f} seconds and the average time is {stat.mean(drivers_pitstops.Seconds):.2f} seconds')"
   ]
  },
  {
   "cell_type": "markdown",
   "metadata": {},
   "source": [
    "#### Measures of variable tendency"
   ]
  },
  {
   "cell_type": "code",
   "execution_count": 8,
   "metadata": {},
   "outputs": [
    {
     "name": "stdout",
     "output_type": "stream",
     "text": [
      "The standard deviation of pitstop times in Formula 1 is 5.47, the variance is 29.96 and the interquartile range is 3.63 illustrating the spread of F1 Pitstop Times\n"
     ]
    }
   ],
   "source": [
    "print(f'The standard deviation of pitstop times in Formula 1 is {stat.pstdev(drivers_pitstops.Seconds):.2f}, the variance is {stat.pvariance(drivers_pitstops.Seconds):.2f} and the interquartile range is {scipy.stats.iqr(drivers_pitstops.Seconds):.2f} illustrating the spread of F1 Pitstop Times')"
   ]
  },
  {
   "cell_type": "markdown",
   "metadata": {},
   "source": [
    "#### Charts"
   ]
  },
  {
   "cell_type": "markdown",
   "metadata": {},
   "source": [
    "#### Scatter plot analysis of 30 fastest pitstops in Formula 1 History"
   ]
  },
  {
   "cell_type": "code",
   "execution_count": 9,
   "metadata": {},
   "outputs": [],
   "source": [
    "%matplotlib inline"
   ]
  },
  {
   "cell_type": "code",
   "execution_count": 10,
   "metadata": {},
   "outputs": [
    {
     "data": {
      "text/plain": [
       "Text(0.5, 1.0, '30 Fastest Pitstops in Formula 1')"
      ]
     },
     "execution_count": 10,
     "metadata": {},
     "output_type": "execute_result"
    },
    {
     "data": {
      "image/png": "[encoded data removed]",
      "text/plain": [
       "<Figure size 432x288 with 1 Axes>"
      ]
     },
     "metadata": {},
     "output_type": "display_data"
    }
   ],
   "source": [
    "sns.set_style('darkgrid')\n",
    "sns.set_context('paper')\n",
    "scatterchart = sns.scatterplot(x = top_pitstops_final.Code, y=top_pitstops_final.Seconds) # Plotting pit stop times against driver code for 30 fastest pitstops\n",
    "scatterchart.set_xlabel('Driver Code')\n",
    "scatterchart.set_title(f'{len(top_pitstops_final.index)} Fastest Pitstops in Formula 1')"
   ]
  },
  {
   "cell_type": "markdown",
   "metadata": {},
   "source": [
    "#### Distribution Plot of all F1 Pitstops"
   ]
  },
  {
   "cell_type": "code",
   "execution_count": 11,
   "metadata": {},
   "outputs": [
    {
     "data": {
      "text/plain": [
       "Text(0.5, 1.0, 'Distribution Plot of all F1 pitstops')"
      ]
     },
     "execution_count": 11,
     "metadata": {},
     "output_type": "execute_result"
    },
    {
     "data": {
      "image/png": "[encoded data removed]",
      "text/plain": [
       "<Figure size 432x288 with 1 Axes>"
      ]
     },
     "metadata": {},
     "output_type": "display_data"
    }
   ],
   "source": [
    "axes = sns.distplot(drivers_pitstops.Seconds, bins= 40, color = 'blue')\n",
    "axes.set_ylabel('Probability Density')\n",
    "axes.set_title('Distribution Plot of all F1 pitstops')\n"
   ]
  },
  {
   "cell_type": "markdown",
   "metadata": {},
   "source": [
    "# Driver Analysis"
   ]
  },
  {
   "cell_type": "markdown",
   "metadata": {},
   "source": [
    "## Data Cleansing: \n",
    "#### Replace \\N in circuits, drivers with -9999\n",
    "#### Replace \\N in qualifying with 0"
   ]
  },
  {
   "cell_type": "code",
   "execution_count": 12,
   "metadata": {},
   "outputs": [],
   "source": [
    "gcircuits = circuits.replace(\"\\\\N\",-9999) # replacing missing data represented in file circuits '\\N' with -9999\n",
    "gdrivers = drivers.replace(\"\\\\N\",-9999)   # replacing missing data represented in file drivers '\\N' with -9999\n",
    "gqualifying = qualifying.replace(\"\\\\N\",0) # replacing missing data represented in file qualifying '\\N' with 0\n",
    "graces=races.replace(\"\\\\N\",-9999)         # replacing missing data represented in file races '\\N' with -9999"
   ]
  },
  {
   "cell_type": "markdown",
   "metadata": {},
   "source": [
    "#### Merging Data Frames"
   ]
  },
  {
   "cell_type": "code",
   "execution_count": 14,
   "metadata": {},
   "outputs": [
    {
     "data": {
      "text/plain": [
       "(8474, 32)"
      ]
     },
     "execution_count": 14,
     "metadata": {},
     "output_type": "execute_result"
    }
   ],
   "source": [
    "rc=pd.merge(graces,gcircuits, on = 'circuitId') # Merge the dataframes races and circuits using the key 'circuitId'\n",
    "qrc=pd.merge(gqualifying,rc, on = 'raceId')     # Merge the resultant dataframe of races,circuits represented as rc with dataframe qaulifying on the basis of key 'raceId'\n",
    "dqrc=pd.merge(gdrivers,qrc, on = 'driverId')    # Merge the resultant df of races,circuits,qualifying with drivers usinng the key 'driverId'\n",
    "dqrc.shape"
   ]
  },
  {
   "cell_type": "markdown",
   "metadata": {},
   "source": [
    "## Descriptive Analysis"
   ]
  },
  {
   "cell_type": "markdown",
   "metadata": {},
   "source": [
    "#### Drivers who started at pole position at the United States Grand Prix"
   ]
  },
  {
   "cell_type": "code",
   "execution_count": 15,
   "metadata": {},
   "outputs": [
    {
     "data": {
      "text/html": [
       "<div>\n",
       "<style scoped>\n",
       "    .dataframe tbody tr th:only-of-type {\n",
       "        vertical-align: middle;\n",
       "    }\n",
       "\n",
       "    .dataframe tbody tr th {\n",
       "        vertical-align: top;\n",
       "    }\n",
       "\n",
       "    .dataframe thead th {\n",
       "        text-align: right;\n",
       "    }\n",
       "</style>\n",
       "<table border=\"1\" class=\"dataframe\">\n",
       "  <thead>\n",
       "    <tr style=\"text-align: right;\">\n",
       "      <th></th>\n",
       "      <th>driverId</th>\n",
       "      <th>driverRef</th>\n",
       "      <th>number_x</th>\n",
       "      <th>forename</th>\n",
       "      <th>surname</th>\n",
       "      <th>raceId</th>\n",
       "      <th>circuitId</th>\n",
       "      <th>name_y</th>\n",
       "      <th>location</th>\n",
       "      <th>country</th>\n",
       "    </tr>\n",
       "  </thead>\n",
       "  <tbody>\n",
       "    <tr>\n",
       "      <th>24</th>\n",
       "      <td>1</td>\n",
       "      <td>hamilton</td>\n",
       "      <td>44</td>\n",
       "      <td>Lewis</td>\n",
       "      <td>Hamilton</td>\n",
       "      <td>42</td>\n",
       "      <td>19</td>\n",
       "      <td>Indianapolis Motor Speedway</td>\n",
       "      <td>Indianapolis</td>\n",
       "      <td>USA</td>\n",
       "    </tr>\n",
       "    <tr>\n",
       "      <th>184</th>\n",
       "      <td>1</td>\n",
       "      <td>hamilton</td>\n",
       "      <td>44</td>\n",
       "      <td>Lewis</td>\n",
       "      <td>Hamilton</td>\n",
       "      <td>965</td>\n",
       "      <td>69</td>\n",
       "      <td>Circuit of the Americas</td>\n",
       "      <td>Austin</td>\n",
       "      <td>USA</td>\n",
       "    </tr>\n",
       "    <tr>\n",
       "      <th>204</th>\n",
       "      <td>1</td>\n",
       "      <td>hamilton</td>\n",
       "      <td>44</td>\n",
       "      <td>Lewis</td>\n",
       "      <td>Hamilton</td>\n",
       "      <td>985</td>\n",
       "      <td>69</td>\n",
       "      <td>Circuit of the Americas</td>\n",
       "      <td>Austin</td>\n",
       "      <td>USA</td>\n",
       "    </tr>\n",
       "    <tr>\n",
       "      <th>225</th>\n",
       "      <td>1</td>\n",
       "      <td>hamilton</td>\n",
       "      <td>44</td>\n",
       "      <td>Lewis</td>\n",
       "      <td>Hamilton</td>\n",
       "      <td>1006</td>\n",
       "      <td>69</td>\n",
       "      <td>Circuit of the Americas</td>\n",
       "      <td>Austin</td>\n",
       "      <td>USA</td>\n",
       "    </tr>\n",
       "    <tr>\n",
       "      <th>559</th>\n",
       "      <td>3</td>\n",
       "      <td>rosberg</td>\n",
       "      <td>6</td>\n",
       "      <td>Nico</td>\n",
       "      <td>Rosberg</td>\n",
       "      <td>916</td>\n",
       "      <td>69</td>\n",
       "      <td>Circuit of the Americas</td>\n",
       "      <td>Austin</td>\n",
       "      <td>USA</td>\n",
       "    </tr>\n",
       "    <tr>\n",
       "      <th>577</th>\n",
       "      <td>3</td>\n",
       "      <td>rosberg</td>\n",
       "      <td>6</td>\n",
       "      <td>Nico</td>\n",
       "      <td>Rosberg</td>\n",
       "      <td>942</td>\n",
       "      <td>69</td>\n",
       "      <td>Circuit of the Americas</td>\n",
       "      <td>Austin</td>\n",
       "      <td>USA</td>\n",
       "    </tr>\n",
       "    <tr>\n",
       "      <th>1175</th>\n",
       "      <td>8</td>\n",
       "      <td>raikkonen</td>\n",
       "      <td>7</td>\n",
       "      <td>Kimi</td>\n",
       "      <td>Räikkönen</td>\n",
       "      <td>122</td>\n",
       "      <td>19</td>\n",
       "      <td>Indianapolis Motor Speedway</td>\n",
       "      <td>Indianapolis</td>\n",
       "      <td>USA</td>\n",
       "    </tr>\n",
       "    <tr>\n",
       "      <th>2136</th>\n",
       "      <td>15</td>\n",
       "      <td>trulli</td>\n",
       "      <td>-9999</td>\n",
       "      <td>Jarno</td>\n",
       "      <td>Trulli</td>\n",
       "      <td>79</td>\n",
       "      <td>19</td>\n",
       "      <td>Indianapolis Motor Speedway</td>\n",
       "      <td>Indianapolis</td>\n",
       "      <td>USA</td>\n",
       "    </tr>\n",
       "    <tr>\n",
       "      <th>2980</th>\n",
       "      <td>20</td>\n",
       "      <td>vettel</td>\n",
       "      <td>5</td>\n",
       "      <td>Sebastian</td>\n",
       "      <td>Vettel</td>\n",
       "      <td>878</td>\n",
       "      <td>69</td>\n",
       "      <td>Circuit of the Americas</td>\n",
       "      <td>Austin</td>\n",
       "      <td>USA</td>\n",
       "    </tr>\n",
       "    <tr>\n",
       "      <th>2999</th>\n",
       "      <td>20</td>\n",
       "      <td>vettel</td>\n",
       "      <td>5</td>\n",
       "      <td>Sebastian</td>\n",
       "      <td>Vettel</td>\n",
       "      <td>898</td>\n",
       "      <td>69</td>\n",
       "      <td>Circuit of the Americas</td>\n",
       "      <td>Austin</td>\n",
       "      <td>USA</td>\n",
       "    </tr>\n",
       "    <tr>\n",
       "      <th>3476</th>\n",
       "      <td>22</td>\n",
       "      <td>barrichello</td>\n",
       "      <td>-9999</td>\n",
       "      <td>Rubens</td>\n",
       "      <td>Barrichello</td>\n",
       "      <td>98</td>\n",
       "      <td>19</td>\n",
       "      <td>Indianapolis Motor Speedway</td>\n",
       "      <td>Indianapolis</td>\n",
       "      <td>USA</td>\n",
       "    </tr>\n",
       "    <tr>\n",
       "      <th>3836</th>\n",
       "      <td>30</td>\n",
       "      <td>michael_schumacher</td>\n",
       "      <td>-9999</td>\n",
       "      <td>Michael</td>\n",
       "      <td>Schumacher</td>\n",
       "      <td>62</td>\n",
       "      <td>19</td>\n",
       "      <td>Indianapolis Motor Speedway</td>\n",
       "      <td>Indianapolis</td>\n",
       "      <td>USA</td>\n",
       "    </tr>\n",
       "    <tr>\n",
       "      <th>3862</th>\n",
       "      <td>30</td>\n",
       "      <td>michael_schumacher</td>\n",
       "      <td>-9999</td>\n",
       "      <td>Michael</td>\n",
       "      <td>Schumacher</td>\n",
       "      <td>156</td>\n",
       "      <td>19</td>\n",
       "      <td>Indianapolis Motor Speedway</td>\n",
       "      <td>Indianapolis</td>\n",
       "      <td>USA</td>\n",
       "    </tr>\n",
       "    <tr>\n",
       "      <th>7356</th>\n",
       "      <td>822</td>\n",
       "      <td>bottas</td>\n",
       "      <td>77</td>\n",
       "      <td>Valtteri</td>\n",
       "      <td>Bottas</td>\n",
       "      <td>1028</td>\n",
       "      <td>69</td>\n",
       "      <td>Circuit of the Americas</td>\n",
       "      <td>Austin</td>\n",
       "      <td>USA</td>\n",
       "    </tr>\n",
       "  </tbody>\n",
       "</table>\n",
       "</div>"
      ],
      "text/plain": [
       "      driverId           driverRef number_x   forename      surname  raceId  \\\n",
       "24           1            hamilton       44      Lewis     Hamilton      42   \n",
       "184          1            hamilton       44      Lewis     Hamilton     965   \n",
       "204          1            hamilton       44      Lewis     Hamilton     985   \n",
       "225          1            hamilton       44      Lewis     Hamilton    1006   \n",
       "559          3             rosberg        6       Nico      Rosberg     916   \n",
       "577          3             rosberg        6       Nico      Rosberg     942   \n",
       "1175         8           raikkonen        7       Kimi    Räikkönen     122   \n",
       "2136        15              trulli    -9999      Jarno       Trulli      79   \n",
       "2980        20              vettel        5  Sebastian       Vettel     878   \n",
       "2999        20              vettel        5  Sebastian       Vettel     898   \n",
       "3476        22         barrichello    -9999     Rubens  Barrichello      98   \n",
       "3836        30  michael_schumacher    -9999    Michael   Schumacher      62   \n",
       "3862        30  michael_schumacher    -9999    Michael   Schumacher     156   \n",
       "7356       822              bottas       77   Valtteri       Bottas    1028   \n",
       "\n",
       "      circuitId                       name_y      location country  \n",
       "24           19  Indianapolis Motor Speedway  Indianapolis     USA  \n",
       "184          69      Circuit of the Americas        Austin     USA  \n",
       "204          69      Circuit of the Americas        Austin     USA  \n",
       "225          69      Circuit of the Americas        Austin     USA  \n",
       "559          69      Circuit of the Americas        Austin     USA  \n",
       "577          69      Circuit of the Americas        Austin     USA  \n",
       "1175         19  Indianapolis Motor Speedway  Indianapolis     USA  \n",
       "2136         19  Indianapolis Motor Speedway  Indianapolis     USA  \n",
       "2980         69      Circuit of the Americas        Austin     USA  \n",
       "2999         69      Circuit of the Americas        Austin     USA  \n",
       "3476         19  Indianapolis Motor Speedway  Indianapolis     USA  \n",
       "3836         19  Indianapolis Motor Speedway  Indianapolis     USA  \n",
       "3862         19  Indianapolis Motor Speedway  Indianapolis     USA  \n",
       "7356         69      Circuit of the Americas        Austin     USA  "
      ]
     },
     "execution_count": 15,
     "metadata": {},
     "output_type": "execute_result"
    }
   ],
   "source": [
    "us_pole = dqrc[(dqrc.position == 1) & (dqrc.name_x =='United States Grand Prix')] # filtering out data based on position = 1 and 'US Grand Prix'\n",
    "us_pole.columns\n",
    "us_pole = us_pole.drop(['code', 'dob', 'nationality', 'url', 'qualifyId', 'constructorId', 'number_y', 'position', 'q1', 'q2', 'q3', 'year', 'round', 'name_x', 'date', 'time', 'url_x', 'circuitRef', 'lat','lng','alt','url_y'], 1)\n",
    "us_pole\n"
   ]
  },
  {
   "cell_type": "markdown",
   "metadata": {},
   "source": [
    "## Analysis_3 No. of pole positions, Start year and end year of drivers who started at pole positions in their career"
   ]
  },
  {
   "cell_type": "code",
   "execution_count": 18,
   "metadata": {},
   "outputs": [
    {
     "name": "stdout",
     "output_type": "stream",
     "text": [
      "Basic Stats of Drivers:        year            \n",
      "      count   min   max\n",
      "code                   \n",
      "-9999    33  1994  2000\n",
      "ALO      23  2003  2012\n",
      "BAR      10  1994  2009\n",
      "BOT      13  2017  2020\n",
      "BUT       8  2004  2012\n",
      "COU       6  1995  1998\n",
      "FIS       4  1998  2009\n",
      "HAM      92  2007  2020\n",
      "HEI       1  2005  2005\n",
      "HUL       1  2010  2010\n",
      "KOV       1  2008  2008\n",
      "KUB       1  2008  2008\n",
      "LEC       6  2019  2019\n",
      "MAS      16  2006  2014\n",
      "MON       2  2003  2005\n",
      "MSC      36  1994  2012\n",
      "RAI      19  2003  2018\n",
      "RIC       3  2016  2018\n",
      "ROS      30  2012  2016\n",
      "SCH       5  2003  2005\n",
      "TRU       4  2004  2009\n",
      "VER       3  2019  2019\n",
      "VET      57  2008  2019\n",
      "VIL       7  1996  1997\n",
      "WEB      12  2009  2013\n"
     ]
    }
   ],
   "source": [
    "mv_list = dqrc[(dqrc.position == 1)]\n",
    "mv_list1 = mv_list.groupby('code').agg({'year': ['count', 'min', 'max']}) \n",
    "  \n",
    "print(f'Basic Stats of Drivers: {mv_list1}')"
   ]
  },
  {
   "cell_type": "markdown",
   "metadata": {},
   "source": [
    "\n",
    "#### Visualization for drivers who raced in 70th Anniversary Grand Prix"
   ]
  },
  {
   "cell_type": "code",
   "execution_count": 19,
   "metadata": {},
   "outputs": [
    {
     "data": {
      "image/png": "[encoded data removed]",
      "text/plain": [
       "<Figure size 432x288 with 1 Axes>"
      ]
     },
     "metadata": {},
     "output_type": "display_data"
    }
   ],
   "source": [
    "listchart = dqrc[(dqrc.name_x == '70th Anniversary Grand Prix')]\n",
    "barchart = listchart.plot(x='code', y='position', kind ='bar')\n",
    "barchart.set_title('70th Anniversary Grand Prix')\n",
    "ytop = len(listchart.index) + 1\n",
    "yint = [x for x in range(ytop)]\n",
    "matplotlib.pyplot.yticks(yint);"
   ]
  },
  {
   "cell_type": "markdown",
   "metadata": {},
   "source": [
    "# Summary"
   ]
  },
  {
   "cell_type": "raw",
   "metadata": {},
   "source": [
    "For this assignment we chose to explore Formula 1 World Championship (1950 - 2020) data around the constructors, drivers, pitstops times, results and races. We focused particularly on analysis of the pitstop times and driver performance which was interesting to explore and see how it has varied over time with advances to technology.\n",
    "\n",
    "To perform descriptive analysis of the pitstop times we had to drop invalid entries or replace them on the driver code and driver number fields from the drivers, circuits, races and qualifying data frame; merged various data frames; converted milliseconds to seconds for easier analysis; dropped incorrect data values from 2017 Azerbaijan Grand Prix; sorted various data frames & captured top 30 records.\n",
    "\n",
    "Before we started the analysis we hoped to gain a deeper understanding of which driver had most top 30 pitstops in the history of Formula 1 and get an idea of the average pitstop time, median pitstop time, standard deviation and the interquartile range of the pitstop times as well as visualize driver performance in various events.\n",
    "\n",
    "Overall approach included working from the top-down. Once we decided on specific metrics which in this case revolved around analyzing pitsop times we started setting up the data to make it easier in not only to get the various measures of tendency but also create visualizations that better lay out the analysis.\n",
    "\n",
    "From the descriptive analysis we discovered that Pastor Maldonado had some of the fastest F1 pitstop times since he was featured 7 times in the top 30 pitstop times. Furthermore, we gained deeper insight on what the average pitstop duration in Formula 1 and this can used this to make informed decisions on which pitstop strategy worked best. To add to this we also discovered Driver Performance focusing on the US Grand Prix & the 70th Anniversary Grand Prix."
   ]
  },
  {
   "cell_type": "code",
   "execution_count": null,
   "metadata": {},
   "outputs": [],
   "source": []
  }
 ],
 "metadata": {
  "kernelspec": {
   "display_name": "Python 3",
   "language": "python",
   "name": "python3"
  },
  "language_info": {
   "codemirror_mode": {
    "name": "ipython",
    "version": 3
   },
   "file_extension": ".py",
   "mimetype": "text/x-python",
   "name": "python",
   "nbconvert_exporter": "python",
   "pygments_lexer": "ipython3",
   "version": "3.8.3"
  }
 },
 "nbformat": 4,
 "nbformat_minor": 4
}
