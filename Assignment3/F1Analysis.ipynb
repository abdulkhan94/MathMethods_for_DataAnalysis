{
 "cells": [
  {
   "cell_type": "markdown",
   "metadata": {},
   "source": [
    "### Setting up data frames"
   ]
  },
  {
   "cell_type": "code",
   "execution_count": 1,
   "metadata": {},
   "outputs": [],
   "source": [
    "import pandas as pd\n",
    "import math\n",
    "import seaborn as sns\n",
    "import statistics as stat\n",
    "\n",
    "\n",
    "filepath_drivers = \"/Users/abdullahkhan/MathMethodsforDA/MathematicalMethods/Assignment3/F1DataSet/drivers.csv\"\n",
    "filepath_pitstops = \"/Users/abdullahkhan/MathMethodsforDA/MathematicalMethods/Assignment3/F1DataSet/pit_stops.csv\"\n",
    "\n",
    "drivers = pd.read_csv(filepath_drivers)\n",
    "pitstops = pd.read_csv(filepath_pitstops)\n"
   ]
  },
  {
   "cell_type": "markdown",
   "metadata": {},
   "source": [
    "### Dataframe configurations"
   ]
  },
  {
   "cell_type": "code",
   "execution_count": 2,
   "metadata": {},
   "outputs": [
    {
     "data": {
      "text/plain": [
       "(7638, 7)"
      ]
     },
     "execution_count": 2,
     "metadata": {},
     "output_type": "execute_result"
    }
   ],
   "source": [
    "pd.set_option('precision', 2)\n",
    "pd.set_option('display.max_rows', 10000)\n",
    "\n",
    "pitstops.shape"
   ]
  },
  {
   "cell_type": "markdown",
   "metadata": {},
   "source": [
    "### Data Wrangling Drivers table"
   ]
  },
  {
   "cell_type": "code",
   "execution_count": 3,
   "metadata": {},
   "outputs": [
    {
     "data": {
      "text/plain": [
       "(45, 9)"
      ]
     },
     "execution_count": 3,
     "metadata": {},
     "output_type": "execute_result"
    }
   ],
   "source": [
    "drivers_good = drivers[drivers.code != '\\\\N'] # Remove all records where driver code is \\N\n",
    "drivers_good = drivers_good[drivers_good.number != '\\\\N'] # Remove all records where driver number is \\N\n",
    "drivers_good.shape"
   ]
  },
  {
   "cell_type": "markdown",
   "metadata": {},
   "source": [
    "### Merging Drivers & Pitstops data frames to perform descriptive analysis of pitstop times"
   ]
  },
  {
   "cell_type": "code",
   "execution_count": 11,
   "metadata": {},
   "outputs": [],
   "source": [
    "drivers_pitstops = pd.merge(drivers_good, pitstops, how='inner', on = 'driverId') # Merge the drivers and pitstops data frames\n",
    "drivers_pitstops = drivers_pitstops[drivers_pitstops.milliseconds < 50000] # Filter out extreme values\n",
    "drivers_pitstops['milliseconds'] /= 1000 # Convert milliseconds to seconds\n",
    "drivers_pitstops.columns = ['driverID', 'driverRef', 'Number', 'Code' , 'Forename' , 'Surname', 'DOB', 'Nationality', 'URL', 'raceId', 'Stop', 'Lap', 'Time', 'Duration', 'Seconds'] # Rename columns\n",
    "top_pitstops = drivers_pitstops.sort_values(by=['Seconds'], ascending=True) #Sort by fastest pitstop time\n",
    "top_pitstops_final = top_pitstops.head(30) # Capture 30 fastest pitstop times in Formula 1 History"
   ]
  },
  {
   "cell_type": "code",
   "execution_count": 24,
   "metadata": {},
   "outputs": [],
   "source": [
    "fastest_fore = [x for x in top_pitstops_final.Forename] # Creating list of top 30 fastest drivers Forename\n",
    "fastest_sur = [x for x in top_pitstops_final.Surname] # Creating list of top 30 fastest drivers Surname\n",
    "mal_times = top_pitstops_final[top_pitstops_final.driverRef == 'maldonado'] # Separating maldonado times"
   ]
  },
  {
   "cell_type": "markdown",
   "metadata": {},
   "source": [
    "### Printing descriptive analysis for 30 fastest pitstop times in Formula 1"
   ]
  },
  {
   "cell_type": "code",
   "execution_count": 27,
   "metadata": {},
   "outputs": [
    {
     "name": "stdout",
     "output_type": "stream",
     "text": [
      "Out of the 30 fastest pitstop times in Formula 1 history the most recurring driver with fastest pitstop times is Pastor Maldonado (Venezuelan) with an average time of 13.558571428571428\n"
     ]
    }
   ],
   "source": [
    "print(f'Out of the {len(top_pitstops_final.index)} fastest pitstop times in Formula 1 history the most recurring driver with fastest pitstop times is {stat.mode(fastest_fore)} {stat.mode(fastest_sur)} ({stat.mode(top_pitstops_final.Nationality)}) with an average time of {stat.mean(mal_times.Seconds):2}')"
   ]
  },
  {
   "cell_type": "code",
   "execution_count": 7,
   "metadata": {},
   "outputs": [],
   "source": [
    "%matplotlib inline"
   ]
  },
  {
   "cell_type": "code",
   "execution_count": 8,
   "metadata": {},
   "outputs": [
    {
     "data": {
      "image/png": "[encoded data removed]",
      "text/plain": [
       "<Figure size 432x288 with 1 Axes>"
      ]
     },
     "metadata": {
      "needs_background": "light"
     },
     "output_type": "display_data"
    }
   ],
   "source": [
    "barchart = top_pitstops_final.plot(x='Code', y='Seconds', kind='scatter')\n",
    "# histogram = drivers_pitstops.hist('Seconds')"
   ]
  },
  {
   "cell_type": "code",
   "execution_count": null,
   "metadata": {},
   "outputs": [],
   "source": []
  }
 ],
 "metadata": {
  "kernelspec": {
   "display_name": "Python 3",
   "language": "python",
   "name": "python3"
  },
  "language_info": {
   "codemirror_mode": {
    "name": "ipython",
    "version": 3
   },
   "file_extension": ".py",
   "mimetype": "text/x-python",
   "name": "python",
   "nbconvert_exporter": "python",
   "pygments_lexer": "ipython3",
   "version": "3.8.5"
  }
 },
 "nbformat": 4,
 "nbformat_minor": 4
}
