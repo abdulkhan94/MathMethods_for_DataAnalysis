{
 "cells": [
  {
   "cell_type": "markdown",
   "metadata": {},
   "source": [
    "### <center>San Jose State University<br>Department of Applied Data Science</center>\n",
    "#  <center>DATA 220<br>Mathematical Methods for Data Analysis</center>\n",
    "### <center>Fall 2020<br>Instructor: Ron Mak</center>\n",
    "#  <center>Assignment #12<br>Polynomial Regression and Markov Chain Problem Set</center>\n",
    "#### <center>100 points total (25 points each)<br><br>Work together with your lab partner.<br>Write your solutions in one or more cells after each problem.<br>Whenever possible, use matrix operations and not loops.<br>You can add your own functions or other support code.</center>\n",
    "#### <center>Due December 3, 2020</center>"
   ]
  },
  {
   "cell_type": "markdown",
   "metadata": {},
   "source": [
    "<hr>\n",
    "\n",
    "#### <strong>PROBLEM 1.</strong> Find the least-squares quadratic (degree 2) regression line through the following set of points."
   ]
  },
  {
   "cell_type": "code",
   "execution_count": 1,
   "metadata": {},
   "outputs": [],
   "source": [
    "xs = [11, 12, 13, 14, 15, 17, 18, 19, 20, 21,\n",
    "      24, 25, 27, 28, 31, 32, 33, 36, 37, 38,\n",
    "      40, 41, 44, 45, 46, 49, 50, 51, 54, 55]\n",
    "\n",
    "ys = [11.3, 15.1,  6.6, 12.9, 12.1, 18.1, 20.9, 17.6, 11.0, 24.6,\n",
    "      11.3, 18.4, 16.2, 19.5, 35.8, 37.1, 45.7, 34.8, 25.6, 26.7,\n",
    "      22.0, 26.0, 10.5, 18.6, 21.1, 11.9, 13.7, 13.7,  6.3,  1.8]"
   ]
  },
  {
   "cell_type": "code",
   "execution_count": 2,
   "metadata": {},
   "outputs": [],
   "source": [
    "import math\n",
    "import numpy as np\n",
    "import matplotlib.pyplot as plt\n",
    "\n",
    "def sum_x_power(xs, power):\n",
    "    \"\"\"\n",
    "    Compute the sum of the x values raised to a given power.\n",
    "    @param xs the x values.\n",
    "    @param power the given power.\n",
    "    @return the sum.\n",
    "    \"\"\"\n",
    "    sum = 0\n",
    "    \n",
    "    # Loop over the x values.\n",
    "    for i in range(len(xs)):\n",
    "        sum += xs[i]**power\n",
    "    \n",
    "    return sum\n",
    "\n",
    "def sum_x_power_y(xs, ys, power):\n",
    "    \"\"\"\n",
    "    Compute the sum of the x values raised to a given power\n",
    "    and multiplied by the corresponding y value.\n",
    "    @param xs the x values.\n",
    "    @param yx the y values.\n",
    "    @param power the given power.\n",
    "    @return the sum.\n",
    "    \"\"\"\n",
    "    sum = 0\n",
    "    \n",
    "    # Loop over the x and y values.\n",
    "    for i in range(len(xs)):\n",
    "        sum += (xs[i]**power)*ys[i]\n",
    "    \n",
    "    return sum\n",
    "\n",
    "def polynomial_regression(degree, xs, ys):\n",
    "    \"\"\"\n",
    "    Compute the coefficients of a polynomial regression.\n",
    "    @param degree the degree of the regression equation.\n",
    "    @param xs the x values.\n",
    "    @param ys the y values.\n",
    "    \"\"\"\n",
    "    size = degree + 1\n",
    "    A = np.zeros([size, size])  # coefficient matrix\n",
    "    b = np.zeros(size)          # right-hand side\n",
    "    \n",
    "    # Loop over each equation.\n",
    "    for r in range(size):\n",
    "        \n",
    "        # The multiplier of the first term.\n",
    "        sum = sum_x_power(xs, r)  \n",
    "        \n",
    "        # Copy that multiplier up the diagonal.\n",
    "        j = 0\n",
    "        for i in range(r, -1, -1):\n",
    "            A[i][j] = sum\n",
    "            j += 1\n",
    "        \n",
    "        # Right-hand side value.\n",
    "        b[r] = sum_x_power_y(xs, ys, r)\n",
    "        \n",
    "    # Multipliers of the terms in the last equation.\n",
    "    for c in range(1, size):\n",
    "        \n",
    "        # The multiplier of the second term.\n",
    "        sum = sum_x_power(xs, degree + c)\n",
    "        \n",
    "        # Copy that multiplier up the diagonal.\n",
    "        i = degree\n",
    "        for j in range(c, size):\n",
    "            A[i][j] = sum\n",
    "            i -= 1\n",
    "    \n",
    "    # Solve the system to obtain the regression coefficients.\n",
    "    a = np.linalg.solve(A, b)\n",
    "    \n",
    "    return [A, b, a]\n",
    "\n",
    "def at(x, a, degree):\n",
    "    \"\"\"\n",
    "    Compute the value of the regression function at a given x value.\n",
    "    @param x the x value.\n",
    "    @param a the coefficients of the regression function.\n",
    "    @param degree the degree of the regression function.\n",
    "    @return the function value.\n",
    "    \"\"\"\n",
    "    n       = degree + 1\n",
    "    x_power = 1\n",
    "    y       = 0\n",
    "    \n",
    "    # Loop to compute the function value y.\n",
    "    for i in range(n):\n",
    "        y += a[i]*x_power\n",
    "        x_power *= x\n",
    "    \n",
    "    return y\n",
    "\n",
    "def plot_polynomial_regression(xs, ys, degree=0, y_axis_pos=0, size=(6, 6)):\n",
    "    \"\"\"\n",
    "    Plot a polynomial regression line among a scatter plot of x, y values.\n",
    "    @param xs the x values.\n",
    "    @param ys the y values.\n",
    "    @param degree the degree of the regression equation.\n",
    "    @param y_pos the y position of the x axis.\n",
    "    @param size the size of the graph.\n",
    "    @return the vector of coefficients\n",
    "    \"\"\"\n",
    "    fig = plt.figure(figsize=size)\n",
    "\n",
    "    ax = fig.add_subplot(1, 1, 1)\n",
    "\n",
    "    ax.spines['left'].set_position(('data', 0))\n",
    "    ax.spines['right'].set_color('none')\n",
    "    #ax.spines['bottom'].set_position(('data', y_axis_pos))\n",
    "    ax.spines['top'].set_color('none')\n",
    "\n",
    "    plt.scatter(xs, ys)\n",
    "    \n",
    "    if degree > 0:\n",
    "        A, b, a  = polynomial_regression(degree, xs, ys)\n",
    "        x_values = np.linspace(min(xs), max(xs), 100)\n",
    "        y_preds  = np.array([at(x, a, degree)for x in x_values])    \n",
    "        plt.plot(x_values, y_preds, color='red')\n",
    "    else:\n",
    "        a = None\n",
    "    \n",
    "    plt.show()\n",
    "    return a\n",
    "\n",
    "def plot_polynomial(xs, ys, a, degree=0, x_min=0, x_max=math.nan, y_axis_pos=0, size=(6, 6)):\n",
    "    \"\"\"\n",
    "    Plot a polynomial regression line among a scatter plot of x, y values.\n",
    "    @param xs the x values.\n",
    "    @param ys the y values.\n",
    "    @param a  the vector of coefficients.\n",
    "    @param degree the degree of the regression equation.\n",
    "    @param y_pos the y position of the x axis.\n",
    "    @param size the size of the graph.\n",
    "    \"\"\"\n",
    "    fig = plt.figure(figsize=size)\n",
    "    \n",
    "    ax = fig.add_subplot(1, 1, 1)\n",
    "\n",
    "    ax.spines['left'].set_position(('data', 0))\n",
    "    ax.spines['right'].set_color('none')\n",
    "    #ax.spines['bottom'].set_position(('data', y_axis_pos))\n",
    "    ax.spines['top'].set_color('none')\n",
    "\n",
    "    plt.scatter(xs, ys)\n",
    "    \n",
    "    if degree > 0:\n",
    "        if math.isnan(x_max):\n",
    "            x_max = max(xs)\n",
    "        x_values = np.linspace(x_min, x_max, 100)\n",
    "        y_preds  = np.array([at(x, a, degree)for x in x_values])    \n",
    "        plt.plot(x_values, y_preds, color='red')\n",
    "    else:\n",
    "        a = None\n",
    "    \n",
    "    plt.show()\n"
   ]
  },
  {
   "cell_type": "code",
   "execution_count": 3,
   "metadata": {},
   "outputs": [
    {
     "data": {
      "image/png": "[encoded data removed]",
      "text/plain": [
       "<Figure size 432x432 with 1 Axes>"
      ]
     },
     "metadata": {
      "needs_background": "light"
     },
     "output_type": "display_data"
    },
    {
     "data": {
      "text/plain": [
       "array([-20.96713356,   2.99575668,  -0.04631508])"
      ]
     },
     "execution_count": 3,
     "metadata": {},
     "output_type": "execute_result"
    }
   ],
   "source": [
    "plot_polynomial_regression(xs, ys, degree=2)"
   ]
  },
  {
   "cell_type": "code",
   "execution_count": 4,
   "metadata": {},
   "outputs": [
    {
     "name": "stdout",
     "output_type": "stream",
     "text": [
      "Coefficient matrix A:\n",
      "[[3.0000000e+01 9.4600000e+02 3.5368000e+04]\n",
      " [9.4600000e+02 3.5368000e+04 1.4737060e+06]\n",
      " [3.5368000e+04 1.4737060e+06 6.5637328e+07]]\n",
      "\n",
      "Right hand side b:\n",
      "[5.669000e+02 1.786420e+04 6.333008e+05]\n",
      "\n",
      "Regression coefficients a:\n",
      "[-20.96713356   2.99575668  -0.04631508]\n"
     ]
    }
   ],
   "source": [
    "A, b, a = polynomial_regression(2, xs, ys)\n",
    "\n",
    "print('Coefficient matrix A:')\n",
    "print(A)\n",
    "\n",
    "print()\n",
    "print('Right hand side b:')\n",
    "print(b)\n",
    "\n",
    "print()\n",
    "print('Regression coefficients a:')\n",
    "print(a)"
   ]
  },
  {
   "cell_type": "markdown",
   "metadata": {},
   "source": [
    "#### Print the quadratic equation and plot it among the points."
   ]
  },
  {
   "cell_type": "markdown",
   "metadata": {},
   "source": [
    "<hr>\n",
    "\n",
    "#### <strong>PROBLEM 2.</strong> If you have <em>n</em> points and you generate a least-squares polynomial of degree <em>n</em>-1, you've calculated the <u>interpolation</u> line that runs through all <em>n</em> points. This is also known as <u>polynomial curve fitting</u>.\n",
    "\n",
    "#### Calculate and plot the interpolation line for these points: (-2, 3), (-1, 5), (0, 1), (1, 4), and (2, 10)."
   ]
  },
  {
   "cell_type": "code",
   "execution_count": 5,
   "metadata": {},
   "outputs": [],
   "source": [
    "x2 = [-2,-1,0,1,2]\n",
    "y2 = [ 3, 5,1,4,10]"
   ]
  },
  {
   "cell_type": "code",
   "execution_count": 6,
   "metadata": {},
   "outputs": [
    {
     "data": {
      "image/png": "[encoded data removed]",
      "text/plain": [
       "<Figure size 432x432 with 1 Axes>"
      ]
     },
     "metadata": {
      "needs_background": "light"
     },
     "output_type": "display_data"
    },
    {
     "data": {
      "text/plain": [
       "array([ 1.        , -1.25      ,  4.20833333,  0.75      , -0.70833333])"
      ]
     },
     "execution_count": 6,
     "metadata": {},
     "output_type": "execute_result"
    }
   ],
   "source": [
    "plot_polynomial_regression(x2, y2, degree=4)"
   ]
  },
  {
   "cell_type": "code",
   "execution_count": 7,
   "metadata": {},
   "outputs": [
    {
     "name": "stdout",
     "output_type": "stream",
     "text": [
      "Coefficient matrix A:\n",
      "[[  5.   0.  10.   0.  34.]\n",
      " [  0.  10.   0.  34.   0.]\n",
      " [ 10.   0.  34.   0. 130.]\n",
      " [  0.  34.   0. 130.   0.]\n",
      " [ 34.   0. 130.   0. 514.]]\n",
      "\n",
      "Right hand side b:\n",
      "[ 23.  13.  61.  55. 217.]\n",
      "\n",
      "Regression coefficients a:\n",
      "[ 1.         -1.25        4.20833333  0.75       -0.70833333]\n"
     ]
    }
   ],
   "source": [
    "A, b, a = polynomial_regression(4, x2, y2)\n",
    "\n",
    "\n",
    "print('Coefficient matrix A:')\n",
    "print(A)\n",
    "\n",
    "print()\n",
    "print('Right hand side b:')\n",
    "print(b)\n",
    "\n",
    "print()\n",
    "print('Regression coefficients a:')\n",
    "print(a)\n"
   ]
  },
  {
   "cell_type": "markdown",
   "metadata": {},
   "source": [
    "<hr>\n",
    "\n",
    "#### <strong>PROBLEM 3.a.</strong> Amalgamated Widgets, Inc. ranks its employees by productivity: 1 (lowest), 2, 3, and 4 (highest). The following table shows for each rank, at the start of a new training program, the percentage of employees, the percentage productivity loss per employee, and the total percentage productivity loss.\n",
    "\n",
    "<table>\n",
    "    <tr><th>Rank</th><th>Employees</th><th>x</th><th>Productivity loss</th><th>=</th><th>Total loss</th></tr>\n",
    "    <tr><td align=center>1</td><td align=center>30%</td><td></td><td align=center>40%</td><td></td><td align=center>12.00%</td></tr>\n",
    "    <tr><td align=center>2</td><td align=center>35%</td><td></td><td align=center>25%</td><td></td><td align=center>&nbsp;8.75%</td></tr>\n",
    "    <tr><td align=center>3</td><td align=center>25%</td><td></td><td align=center>15%</td><td></td><td align=center>&nbsp;3.75%</td></tr>\n",
    "    <tr><td align=center>4</td><td align=center>10%</td><td></td><td align=center>&nbsp;5%</td><td></td><td align=center>&nbsp;0.50%</td></tr>\n",
    "    <tr><th align=right colspan=5>Overall total</th><th align=center>25.00%</th></tr>\n",
    "</table>\n",
    "\n",
    "#### The training supervisor provided the following table that predicts what percentage of employees will move from one rank to another or stay in the same rank after each hourly training session, as determined by a test given at the end of the hour:\n",
    "\n",
    "<table>\n",
    "    <tr><th colspan=5 align=center>FROM:</th></tr>\n",
    "    <tr><th>TO:</th><th>1</th><th>2</th><th>3</th><th>4</th></tr>\n",
    "    <tr><th>1</th><td align=center>50%</td><td align=center>30%</td><td align=center>10%</td><td align=center>10%</td>\n",
    "    <tr><th>2</th><td align=center>30%</td><td align=center>40%</td><td align=center>20%</td><td align=center>10%</td>\n",
    "    <tr><th>3</th><td align=center>20%</td><td align=center>30%</td><td align=center>20%</td><td align=center>10%</td>\n",
    "    <tr><th>4</th><td align=center>&nbsp;&nbsp;0%</td><td align=center>&nbsp;&nbsp;0%</td><td align=center>50%</td><td align=center>70%</td>\n",
    "</table>\n",
    "\n",
    "#### If training ends after two consecutive sessions with no rank changes (to the extent of Python's floating-point precision), how many hours will the training program last?"
   ]
  },
  {
   "cell_type": "code",
   "execution_count": 8,
   "metadata": {},
   "outputs": [],
   "source": [
    "import numpy as np"
   ]
  },
  {
   "cell_type": "code",
   "execution_count": 9,
   "metadata": {},
   "outputs": [],
   "source": [
    "X = np.array([[0.30],\n",
    "             [0.35],\n",
    "             [0.25],\n",
    "             [0.10]])\n",
    "\n",
    "P = np.array([[0.50, 0.30, 0.10, 0.10],\n",
    "              [0.30, 0.40, 0.20, 0.10],\n",
    "              [0.20, 0.30, 0.20, 0.10],\n",
    "              [   0,    0, 0.50, 0.70]])"
   ]
  },
  {
   "cell_type": "code",
   "execution_count": 10,
   "metadata": {},
   "outputs": [
    {
     "name": "stdout",
     "output_type": "stream",
     "text": [
      "Initial:\n",
      "[[0.3 ]\n",
      " [0.35]\n",
      " [0.25]\n",
      " [0.1 ]]\n"
     ]
    }
   ],
   "source": [
    "print('Initial:')\n",
    "print(X)"
   ]
  },
  {
   "cell_type": "code",
   "execution_count": 11,
   "metadata": {},
   "outputs": [
    {
     "name": "stdout",
     "output_type": "stream",
     "text": [
      "After hours 1:\n",
      "[[0.29 ]\n",
      " [0.29 ]\n",
      " [0.225]\n",
      " [0.195]]\n",
      "After hours 2:\n",
      "[[0.274 ]\n",
      " [0.2675]\n",
      " [0.2095]\n",
      " [0.249 ]]\n",
      "After hours 3:\n",
      "[[0.2631 ]\n",
      " [0.256  ]\n",
      " [0.20185]\n",
      " [0.27905]]\n",
      "After hours 4:\n",
      "[[0.25644 ]\n",
      " [0.249605]\n",
      " [0.197695]\n",
      " [0.29626 ]]\n",
      "After hours 5:\n",
      "[[0.252497 ]\n",
      " [0.245939 ]\n",
      " [0.1953345]\n",
      " [0.3062295]]\n",
      "After hours 6:\n",
      "[[0.2501866 ]\n",
      " [0.24381455]\n",
      " [0.19397095]\n",
      " [0.3120279 ]]\n",
      "After hours 7:\n",
      "[[0.24883755]\n",
      " [0.24257878]\n",
      " [0.19317866]\n",
      " [0.315405  ]]\n",
      "After hours 8:\n",
      "[[0.24805078]\n",
      " [0.24185901]\n",
      " [0.19271738]\n",
      " [0.31737284]]\n",
      "After hours 9:\n",
      "[[0.24759211]\n",
      " [0.2414396 ]\n",
      " [0.19244862]\n",
      " [0.31851967]]\n",
      "After hours 10:\n",
      "[[0.24732476]\n",
      " [0.24119516]\n",
      " [0.19229199]\n",
      " [0.31918808]]\n",
      "After hours 11:\n",
      "[[0.24716894]\n",
      " [0.2410527 ]\n",
      " [0.19220071]\n",
      " [0.31957765]]\n",
      "After hours 12:\n",
      "[[0.24707812]\n",
      " [0.24096967]\n",
      " [0.1921475 ]\n",
      " [0.31980471]]\n",
      "After hours 13:\n",
      "[[0.24702518]\n",
      " [0.24092127]\n",
      " [0.1921165 ]\n",
      " [0.31993705]]\n",
      "After hours 14:\n",
      "[[0.24699433]\n",
      " [0.24089307]\n",
      " [0.19209842]\n",
      " [0.32001418]]\n",
      "After hours 15:\n",
      "[[0.24697634]\n",
      " [0.24087663]\n",
      " [0.19208789]\n",
      " [0.32005914]]\n",
      "After hours 16:\n",
      "[[0.24696586]\n",
      " [0.24086705]\n",
      " [0.19208175]\n",
      " [0.32008534]]\n",
      "After hours 17:\n",
      "[[0.24695975]\n",
      " [0.24086146]\n",
      " [0.19207817]\n",
      " [0.32010061]]\n",
      "After hours 18:\n",
      "[[0.24695619]\n",
      " [0.24085821]\n",
      " [0.19207608]\n",
      " [0.32010951]]\n",
      "After hours 19:\n",
      "[[0.24695412]\n",
      " [0.24085631]\n",
      " [0.19207487]\n",
      " [0.3201147 ]]\n",
      "After hours 20:\n",
      "[[0.24695291]\n",
      " [0.2408552 ]\n",
      " [0.19207416]\n",
      " [0.32011773]]\n",
      "After hours 21:\n",
      "[[0.2469522 ]\n",
      " [0.24085456]\n",
      " [0.19207375]\n",
      " [0.32011949]]\n",
      "After hours 22:\n",
      "[[0.24695179]\n",
      " [0.24085418]\n",
      " [0.19207351]\n",
      " [0.32012052]]\n",
      "After hours 23:\n",
      "[[0.24695155]\n",
      " [0.24085396]\n",
      " [0.19207337]\n",
      " [0.32012111]]\n",
      "After hours 24:\n",
      "[[0.24695141]\n",
      " [0.24085384]\n",
      " [0.19207328]\n",
      " [0.32012146]]\n",
      "After hours 25:\n",
      "[[0.24695133]\n",
      " [0.24085376]\n",
      " [0.19207324]\n",
      " [0.32012167]]\n",
      "After hours 26:\n",
      "[[0.24695129]\n",
      " [0.24085372]\n",
      " [0.19207321]\n",
      " [0.32012179]]\n",
      "After hours 27:\n",
      "[[0.24695126]\n",
      " [0.24085369]\n",
      " [0.19207319]\n",
      " [0.32012185]]\n",
      "After hours 28:\n",
      "[[0.24695124]\n",
      " [0.24085368]\n",
      " [0.19207318]\n",
      " [0.32012189]]\n",
      "After hours 29:\n",
      "[[0.24695123]\n",
      " [0.24085367]\n",
      " [0.19207318]\n",
      " [0.32012192]]\n",
      "After hours 30:\n",
      "[[0.24695123]\n",
      " [0.24085367]\n",
      " [0.19207318]\n",
      " [0.32012193]]\n",
      "After hours 31:\n",
      "[[0.24695122]\n",
      " [0.24085366]\n",
      " [0.19207317]\n",
      " [0.32012194]]\n",
      "After hours 32:\n",
      "[[0.24695122]\n",
      " [0.24085366]\n",
      " [0.19207317]\n",
      " [0.32012194]]\n",
      "After hours 33:\n",
      "[[0.24695122]\n",
      " [0.24085366]\n",
      " [0.19207317]\n",
      " [0.32012195]]\n",
      "After hours 34:\n",
      "[[0.24695122]\n",
      " [0.24085366]\n",
      " [0.19207317]\n",
      " [0.32012195]]\n",
      "After hours 35:\n",
      "[[0.24695122]\n",
      " [0.24085366]\n",
      " [0.19207317]\n",
      " [0.32012195]]\n",
      "After hours 36:\n",
      "[[0.24695122]\n",
      " [0.24085366]\n",
      " [0.19207317]\n",
      " [0.32012195]]\n",
      "After hours 37:\n",
      "[[0.24695122]\n",
      " [0.24085366]\n",
      " [0.19207317]\n",
      " [0.32012195]]\n",
      "After hours 38:\n",
      "[[0.24695122]\n",
      " [0.24085366]\n",
      " [0.19207317]\n",
      " [0.32012195]]\n",
      "After hours 39:\n",
      "[[0.24695122]\n",
      " [0.24085366]\n",
      " [0.19207317]\n",
      " [0.32012195]]\n",
      "After hours 40:\n",
      "[[0.24695122]\n",
      " [0.24085366]\n",
      " [0.19207317]\n",
      " [0.32012195]]\n",
      "After hours 41:\n",
      "[[0.24695122]\n",
      " [0.24085366]\n",
      " [0.19207317]\n",
      " [0.32012195]]\n",
      "After hours 42:\n",
      "[[0.24695122]\n",
      " [0.24085366]\n",
      " [0.19207317]\n",
      " [0.32012195]]\n",
      "After hours 43:\n",
      "[[0.24695122]\n",
      " [0.24085366]\n",
      " [0.19207317]\n",
      " [0.32012195]]\n",
      "After hours 44:\n",
      "[[0.24695122]\n",
      " [0.24085366]\n",
      " [0.19207317]\n",
      " [0.32012195]]\n",
      "After hours 45:\n",
      "[[0.24695122]\n",
      " [0.24085366]\n",
      " [0.19207317]\n",
      " [0.32012195]]\n",
      "After hours 46:\n",
      "[[0.24695122]\n",
      " [0.24085366]\n",
      " [0.19207317]\n",
      " [0.32012195]]\n",
      "After hours 47:\n",
      "[[0.24695122]\n",
      " [0.24085366]\n",
      " [0.19207317]\n",
      " [0.32012195]]\n",
      "After hours 48:\n",
      "[[0.24695122]\n",
      " [0.24085366]\n",
      " [0.19207317]\n",
      " [0.32012195]]\n"
     ]
    }
   ],
   "source": [
    "for hours in range(1, 49): # Checking 48 hours\n",
    "    X = P@X\n",
    "    \n",
    "    print(f'After hours {hours}:')\n",
    "    print(X)"
   ]
  },
  {
   "cell_type": "markdown",
   "metadata": {},
   "source": [
    "### Based on the above results we can see that after hour 33, values seem to reach a steady state as there is no change after that irrespective of the number of iterations. This is cross-verified with the steady state results done in 3b."
   ]
  },
  {
   "cell_type": "markdown",
   "metadata": {},
   "source": [
    "<hr>\n",
    "\n",
    "#### <strong>PROBLEM 3.b.</strong> Compute directly (without iteration) the percentages of employees in each rank after all the training sessions have ended. Revise the first table in Problem 3.a to show the new percentage of employees in each rank. Assume the productivity loss of each rank hasn't changed, and include the new total loss percentage per rank and the overall total loss percentage. What percentage improvement resulted from the training?"
   ]
  },
  {
   "cell_type": "code",
   "execution_count": 12,
   "metadata": {},
   "outputs": [],
   "source": [
    "A = np.array([[-0.50, 0.30, 0.10, 0.10],\n",
    "              [0.30, -0.60, 0.20, 0.10],\n",
    "              [0.20, 0.30, -0.80, 0.10],\n",
    "              [   0,    0, 0.50, -0.30]])\n",
    "\n",
    "b = np.array([[0], [0], [0], [0]])"
   ]
  },
  {
   "cell_type": "code",
   "execution_count": 13,
   "metadata": {},
   "outputs": [
    {
     "data": {
      "text/plain": [
       "array([[-0.5,  0.3,  0.1,  0.1],\n",
       "       [ 0.3, -0.6,  0.2,  0.1],\n",
       "       [ 0.2,  0.3, -0.8,  0.1],\n",
       "       [ 0. ,  0. ,  0.5, -0.3]])"
      ]
     },
     "execution_count": 13,
     "metadata": {},
     "output_type": "execute_result"
    }
   ],
   "source": [
    "r1 = np.array([-0.50, 0.30, 0.10, 0.10])\n",
    "r2 = np.array([0.30, -0.60, 0.20, 0.10])\n",
    "r3 = np.array([0.20, 0.30, -0.80, 0.10])\n",
    "r4 = np.array([   0,    0, 0.50, -0.30])\n",
    "\n",
    "A = np.array([r1, r2, r3, r4])\n",
    "A"
   ]
  },
  {
   "cell_type": "code",
   "execution_count": 14,
   "metadata": {},
   "outputs": [],
   "source": [
    "from numpy.linalg import inv\n",
    "\n",
    "A = np.array([[-0.5,  0.3,  0.1,  0.1],\n",
    "              [ 0.3, -0.6,  0.2,  0.1],\n",
    "              [ 0.2,  0.3, -0.8,  0.1],\n",
    "              [ 0. ,  0. ,  0.5, -0.3],\n",
    "              [ 1  ,  1  ,  1  ,  1  ]])\n",
    "\n",
    "b = np.array([[0], [0], [0], [0], [1]])"
   ]
  },
  {
   "cell_type": "code",
   "execution_count": null,
   "metadata": {},
   "outputs": [],
   "source": [
    "AT = A.T\n",
    "AT"
   ]
  },
  {
   "cell_type": "code",
   "execution_count": null,
   "metadata": {},
   "outputs": [],
   "source": [
    "ATA = AT@A\n",
    "ATA"
   ]
  },
  {
   "cell_type": "code",
   "execution_count": null,
   "metadata": {},
   "outputs": [],
   "source": [
    "ATAinv = inv(ATA)\n",
    "ATAinv"
   ]
  },
  {
   "cell_type": "code",
   "execution_count": null,
   "metadata": {},
   "outputs": [],
   "source": [
    "ATb = AT@b\n",
    "ATb"
   ]
  },
  {
   "cell_type": "code",
   "execution_count": null,
   "metadata": {},
   "outputs": [],
   "source": [
    "print(\"The steady state matrix:\")\n",
    "\n",
    "xhat = ATAinv@ATb\n",
    "xhat"
   ]
  },
  {
   "cell_type": "markdown",
   "metadata": {},
   "source": [
    "### Percentages of employees in each rank after training"
   ]
  },
  {
   "cell_type": "code",
   "execution_count": null,
   "metadata": {},
   "outputs": [],
   "source": [
    "tot = 0.24695122 + 0.24085366 + 0.19207317 + 0.32012195\n",
    "a_1 = 0.24695122/tot * 100\n",
    "b_2 = 0.24085366/tot * 100\n",
    "c_3 = 0.19207317/tot * 100\n",
    "d_4 = 0.32012195/tot * 100\n",
    "\n",
    "print(f' percentage of employees in 1st category is: {a_1}')\n",
    "print(f' percentage of employees in 2nd category is: is: {b_2}')\n",
    "print(f' percentage of employees in 3rd category is: is: {c_3}')\n",
    "print(f' percentage of employees in 4th category is: is: {d_4}')\n",
    " \n"
   ]
  },
  {
   "cell_type": "markdown",
   "metadata": {},
   "source": [
    "### Revised table based on new values"
   ]
  },
  {
   "cell_type": "code",
   "execution_count": null,
   "metadata": {},
   "outputs": [],
   "source": [
    "print(f'Rank Employees    Productivity_loss    Total_loss')\n",
    "print(f'1    {a_1}%     40%                  9.8780488%')\n",
    "print(f'2    {b_2}%     25%                  6.0213415%')\n",
    "print(f'3    {c_3}%     15%                  2.8810975500000002%')\n",
    "print(f'4    {d_4}%      5%                  1.6006097499999998%')\n",
    "print(f'               Overall loss percentage:  20.3810976% ')"
   ]
  },
  {
   "cell_type": "markdown",
   "metadata": {},
   "source": [
    "### Percentage improvement due to training sessions"
   ]
  },
  {
   "cell_type": "code",
   "execution_count": null,
   "metadata": {},
   "outputs": [],
   "source": [
    "imp = 25.00 - 20.3810976\n",
    "\n",
    "print(f' Percentage improvement due to training sessions: {imp}% ')"
   ]
  },
  {
   "cell_type": "code",
   "execution_count": null,
   "metadata": {},
   "outputs": [],
   "source": []
  }
 ],
 "metadata": {
  "kernelspec": {
   "display_name": "Python 3",
   "language": "python",
   "name": "python3"
  },
  "language_info": {
   "codemirror_mode": {
    "name": "ipython",
    "version": 3
   },
   "file_extension": ".py",
   "mimetype": "text/x-python",
   "name": "python",
   "nbconvert_exporter": "python",
   "pygments_lexer": "ipython3",
   "version": "3.8.5"
  }
 },
 "nbformat": 4,
 "nbformat_minor": 4
}
