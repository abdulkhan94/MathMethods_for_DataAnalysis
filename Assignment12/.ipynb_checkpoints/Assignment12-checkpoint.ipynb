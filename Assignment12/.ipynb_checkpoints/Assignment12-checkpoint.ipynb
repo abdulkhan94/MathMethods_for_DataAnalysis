{
 "cells": [
  {
   "cell_type": "markdown",
   "metadata": {},
   "source": [
    "### <center>San Jose State University<br>Department of Applied Data Science</center>\n",
    "#  <center>DATA 220<br>Mathematical Methods for Data Analysis</center>\n",
    "### <center>Fall 2020<br>Instructor: Ron Mak</center>\n",
    "#  <center>Assignment #12<br>Polynomial Regression and Markov Chain Problem Set</center>\n",
    "#### <center>100 points total (25 points each)<br><br>Work together with your lab partner.<br>Write your solutions in one or more cells after each problem.<br>Whenever possible, use matrix operations and not loops.<br>You can add your own functions or other support code.</center>\n",
    "#### <center>Due December 3, 2020</center>"
   ]
  },
  {
   "cell_type": "markdown",
   "metadata": {},
   "source": [
    "<hr>\n",
    "\n",
    "#### <strong>PROBLEM 1.</strong> Find the least-squares quadratic (degree 2) regression line through the following set of points."
   ]
  },
  {
   "cell_type": "code",
   "execution_count": 1,
   "metadata": {},
   "outputs": [],
   "source": [
    "xs = [11, 12, 13, 14, 15, 17, 18, 19, 20, 21,\n",
    "      24, 25, 27, 28, 31, 32, 33, 36, 37, 38,\n",
    "      40, 41, 44, 45, 46, 49, 50, 51, 54, 55]\n",
    "\n",
    "ys = [11.3, 15.1,  6.6, 12.9, 12.1, 18.1, 20.9, 17.6, 11.0, 24.6,\n",
    "      11.3, 18.4, 16.2, 19.5, 35.8, 37.1, 45.7, 34.8, 25.6, 26.7,\n",
    "      22.0, 26.0, 10.5, 18.6, 21.1, 11.9, 13.7, 13.7,  6.3,  1.8]"
   ]
  },
  {
   "cell_type": "code",
   "execution_count": 2,
   "metadata": {},
   "outputs": [],
   "source": [
    "import math\n",
    "import numpy as np\n",
    "import matplotlib.pyplot as plt\n",
    "\n",
    "def sum_x_power(xs, power):\n",
    "    \"\"\"\n",
    "    Compute the sum of the x values raised to a given power.\n",
    "    @param xs the x values.\n",
    "    @param power the given power.\n",
    "    @return the sum.\n",
    "    \"\"\"\n",
    "    sum = 0\n",
    "    \n",
    "    # Loop over the x values.\n",
    "    for i in range(len(xs)):\n",
    "        sum += xs[i]**power\n",
    "    \n",
    "    return sum\n",
    "\n",
    "def sum_x_power_y(xs, ys, power):\n",
    "    \"\"\"\n",
    "    Compute the sum of the x values raised to a given power\n",
    "    and multiplied by the corresponding y value.\n",
    "    @param xs the x values.\n",
    "    @param yx the y values.\n",
    "    @param power the given power.\n",
    "    @return the sum.\n",
    "    \"\"\"\n",
    "    sum = 0\n",
    "    \n",
    "    # Loop over the x and y values.\n",
    "    for i in range(len(xs)):\n",
    "        sum += (xs[i]**power)*ys[i]\n",
    "    \n",
    "    return sum\n",
    "\n",
    "def polynomial_regression(degree, xs, ys):\n",
    "    \"\"\"\n",
    "    Compute the coefficients of a polynomial regression.\n",
    "    @param degree the degree of the regression equation.\n",
    "    @param xs the x values.\n",
    "    @param ys the y values.\n",
    "    \"\"\"\n",
    "    size = degree + 1\n",
    "    A = np.zeros([size, size])  # coefficient matrix\n",
    "    b = np.zeros(size)          # right-hand side\n",
    "    \n",
    "    # Loop over each equation.\n",
    "    for r in range(size):\n",
    "        \n",
    "        # The multiplier of the first term.\n",
    "        sum = sum_x_power(xs, r)  \n",
    "        \n",
    "        # Copy that multiplier up the diagonal.\n",
    "        j = 0\n",
    "        for i in range(r, -1, -1):\n",
    "            A[i][j] = sum\n",
    "            j += 1\n",
    "        \n",
    "        # Right-hand side value.\n",
    "        b[r] = sum_x_power_y(xs, ys, r)\n",
    "        \n",
    "    # Multipliers of the terms in the last equation.\n",
    "    for c in range(1, size):\n",
    "        \n",
    "        # The multiplier of the second term.\n",
    "        sum = sum_x_power(xs, degree + c)\n",
    "        \n",
    "        # Copy that multiplier up the diagonal.\n",
    "        i = degree\n",
    "        for j in range(c, size):\n",
    "            A[i][j] = sum\n",
    "            i -= 1\n",
    "    \n",
    "    # Solve the system to obtain the regression coefficients.\n",
    "    a = np.linalg.solve(A, b)\n",
    "    \n",
    "    return [A, b, a]\n",
    "\n",
    "def at(x, a, degree):\n",
    "    \"\"\"\n",
    "    Compute the value of the regression function at a given x value.\n",
    "    @param x the x value.\n",
    "    @param a the coefficients of the regression function.\n",
    "    @param degree the degree of the regression function.\n",
    "    @return the function value.\n",
    "    \"\"\"\n",
    "    n       = degree + 1\n",
    "    x_power = 1\n",
    "    y       = 0\n",
    "    \n",
    "    # Loop to compute the function value y.\n",
    "    for i in range(n):\n",
    "        y += a[i]*x_power\n",
    "        x_power *= x\n",
    "    \n",
    "    return y\n",
    "\n",
    "def plot_polynomial_regression(xs, ys, degree=0, y_axis_pos=0, size=(6, 6)):\n",
    "    \"\"\"\n",
    "    Plot a polynomial regression line among a scatter plot of x, y values.\n",
    "    @param xs the x values.\n",
    "    @param ys the y values.\n",
    "    @param degree the degree of the regression equation.\n",
    "    @param y_pos the y position of the x axis.\n",
    "    @param size the size of the graph.\n",
    "    @return the vector of coefficients\n",
    "    \"\"\"\n",
    "    fig = plt.figure(figsize=size)\n",
    "\n",
    "    ax = fig.add_subplot(1, 1, 1)\n",
    "\n",
    "    ax.spines['left'].set_position(('data', 0))\n",
    "    ax.spines['right'].set_color('none')\n",
    "    #ax.spines['bottom'].set_position(('data', y_axis_pos))\n",
    "    ax.spines['top'].set_color('none')\n",
    "\n",
    "    plt.scatter(xs, ys)\n",
    "    \n",
    "    if degree > 0:\n",
    "        A, b, a  = polynomial_regression(degree, xs, ys)\n",
    "        x_values = np.linspace(0, max(xs), 100)\n",
    "        y_preds  = np.array([at(x, a, degree)for x in x_values])    \n",
    "        plt.plot(x_values, y_preds, color='red')\n",
    "    else:\n",
    "        a = None\n",
    "    \n",
    "    plt.show()\n",
    "    return a\n",
    "\n",
    "def plot_polynomial(xs, ys, a, degree=0, x_min=0, x_max=math.nan, y_axis_pos=0, size=(6, 6)):\n",
    "    \"\"\"\n",
    "    Plot a polynomial regression line among a scatter plot of x, y values.\n",
    "    @param xs the x values.\n",
    "    @param ys the y values.\n",
    "    @param a  the vector of coefficients.\n",
    "    @param degree the degree of the regression equation.\n",
    "    @param y_pos the y position of the x axis.\n",
    "    @param size the size of the graph.\n",
    "    \"\"\"\n",
    "    fig = plt.figure(figsize=size)\n",
    "    \n",
    "    ax = fig.add_subplot(1, 1, 1)\n",
    "\n",
    "    ax.spines['left'].set_position(('data', 0))\n",
    "    ax.spines['right'].set_color('none')\n",
    "    #ax.spines['bottom'].set_position(('data', y_axis_pos))\n",
    "    ax.spines['top'].set_color('none')\n",
    "\n",
    "    plt.scatter(xs, ys)\n",
    "    \n",
    "    if degree > 0:\n",
    "        if math.isnan(x_max):\n",
    "            x_max = max(xs)\n",
    "        x_values = np.linspace(x_min, x_max, 100)\n",
    "        y_preds  = np.array([at(x, a, degree)for x in x_values])    \n",
    "        plt.plot(x_values, y_preds, color='red')\n",
    "    else:\n",
    "        a = None\n",
    "    \n",
    "    plt.show()\n"
   ]
  },
  {
   "cell_type": "code",
   "execution_count": 3,
   "metadata": {},
   "outputs": [
    {
     "data": {
      "image/png": "[encoded data removed]",
      "text/plain": [
       "<Figure size 432x432 with 1 Axes>"
      ]
     },
     "metadata": {
      "needs_background": "light"
     },
     "output_type": "display_data"
    },
    {
     "data": {
      "text/plain": [
       "array([-20.96713356,   2.99575668,  -0.04631508])"
      ]
     },
     "execution_count": 3,
     "metadata": {},
     "output_type": "execute_result"
    }
   ],
   "source": [
    "plot_polynomial_regression(xs, ys, degree=2, y_axis_pos = 2)"
   ]
  },
  {
   "cell_type": "code",
   "execution_count": 4,
   "metadata": {},
   "outputs": [
    {
     "name": "stdout",
     "output_type": "stream",
     "text": [
      "Coefficient matrix A:\n",
      "[[3.0000000e+01 9.4600000e+02 3.5368000e+04]\n",
      " [9.4600000e+02 3.5368000e+04 1.4737060e+06]\n",
      " [3.5368000e+04 1.4737060e+06 6.5637328e+07]]\n",
      "\n",
      "Right hand side b:\n",
      "[5.669000e+02 1.786420e+04 6.333008e+05]\n",
      "\n",
      "Regression coefficients a:\n",
      "[-20.96713356   2.99575668  -0.04631508]\n"
     ]
    }
   ],
   "source": [
    "A, b, a = polynomial_regression(2, xs, ys)\n",
    "\n",
    "print('Coefficient matrix A:')\n",
    "print(A)\n",
    "\n",
    "print()\n",
    "print('Right hand side b:')\n",
    "print(b)\n",
    "\n",
    "print()\n",
    "print('Regression coefficients a:')\n",
    "print(a)"
   ]
  },
  {
   "cell_type": "markdown",
   "metadata": {},
   "source": [
    "#### Print the quadratic equation and plot it among the points."
   ]
  },
  {
   "cell_type": "markdown",
   "metadata": {},
   "source": [
    "<hr>\n",
    "\n",
    "#### <strong>PROBLEM 2.</strong> If you have <em>n</em> points and you generate a least-squares polynomial of degree <em>n</em>-1, you've calculated the <u>interpolation</u> line that runs through all <em>n</em> points. This is also known as <u>polynomial curve fitting</u>.\n",
    "\n",
    "#### Calculate and plot the interpolation line for these points: (-2, 3), (-1, 5), (0, 1), (1, 4), and (2, 10)."
   ]
  },
  {
   "cell_type": "code",
   "execution_count": 5,
   "metadata": {},
   "outputs": [],
   "source": [
    "x2 = [-2,-1,0,1,2]\n",
    "y2 = [ 3, 5,1,4,10]"
   ]
  },
  {
   "cell_type": "code",
   "execution_count": 6,
   "metadata": {},
   "outputs": [
    {
     "data": {
      "image/png": "[encoded data removed]",
      "text/plain": [
       "<Figure size 432x432 with 1 Axes>"
      ]
     },
     "metadata": {
      "needs_background": "light"
     },
     "output_type": "display_data"
    },
    {
     "data": {
      "text/plain": [
       "array([ 1.        , -1.25      ,  4.20833333,  0.75      , -0.70833333])"
      ]
     },
     "execution_count": 6,
     "metadata": {},
     "output_type": "execute_result"
    }
   ],
   "source": [
    "plot_polynomial_regression(x2, y2, degree=4, y_axis_pos = 2)"
   ]
  },
  {
   "cell_type": "code",
   "execution_count": 7,
   "metadata": {},
   "outputs": [
    {
     "name": "stdout",
     "output_type": "stream",
     "text": [
      "Coefficient matrix A:\n",
      "[[  5.   0.  10.   0.  34.]\n",
      " [  0.  10.   0.  34.   0.]\n",
      " [ 10.   0.  34.   0. 130.]\n",
      " [  0.  34.   0. 130.   0.]\n",
      " [ 34.   0. 130.   0. 514.]]\n",
      "\n",
      "Right hand side b:\n",
      "[ 23.  13.  61.  55. 217.]\n",
      "\n",
      "Regression coefficients a:\n",
      "[ 1.         -1.25        4.20833333  0.75       -0.70833333]\n"
     ]
    }
   ],
   "source": [
    "A, b, a = polynomial_regression(4, x2, y2)\n",
    "\n",
    "\n",
    "print('Coefficient matrix A:')\n",
    "print(A)\n",
    "\n",
    "print()\n",
    "print('Right hand side b:')\n",
    "print(b)\n",
    "\n",
    "print()\n",
    "print('Regression coefficients a:')\n",
    "print(a)\n"
   ]
  },
  {
   "cell_type": "markdown",
   "metadata": {},
   "source": [
    "<hr>\n",
    "\n",
    "#### <strong>PROBLEM 3.a.</strong> Amalgamated Widgets, Inc. ranks its employees by productivity: 1 (lowest), 2, 3, and 4 (highest). The following table shows for each rank, at the start of a new training program, the percentage of employees, the percentage productivity loss per employee, and the total percentage productivity loss.\n",
    "\n",
    "<table>\n",
    "    <tr><th>Rank</th><th>Employees</th><th>x</th><th>Productivity loss</th><th>=</th><th>Total loss</th></tr>\n",
    "    <tr><td align=center>1</td><td align=center>30%</td><td></td><td align=center>40%</td><td></td><td align=center>12.00%</td></tr>\n",
    "    <tr><td align=center>2</td><td align=center>35%</td><td></td><td align=center>25%</td><td></td><td align=center>&nbsp;8.75%</td></tr>\n",
    "    <tr><td align=center>3</td><td align=center>25%</td><td></td><td align=center>15%</td><td></td><td align=center>&nbsp;3.75%</td></tr>\n",
    "    <tr><td align=center>4</td><td align=center>10%</td><td></td><td align=center>&nbsp;5%</td><td></td><td align=center>&nbsp;0.50%</td></tr>\n",
    "    <tr><th align=right colspan=5>Overall total</th><th align=center>25.00%</th></tr>\n",
    "</table>\n",
    "\n",
    "#### The training supervisor provided the following table that predicts what percentage of employees will move from one rank to another or stay in the same rank after each hourly training session, as determined by a test given at the end of the hour:\n",
    "\n",
    "<table>\n",
    "    <tr><th colspan=5 align=center>FROM:</th></tr>\n",
    "    <tr><th>TO:</th><th>1</th><th>2</th><th>3</th><th>4</th></tr>\n",
    "    <tr><th>1</th><td align=center>50%</td><td align=center>30%</td><td align=center>10%</td><td align=center>10%</td>\n",
    "    <tr><th>2</th><td align=center>30%</td><td align=center>40%</td><td align=center>20%</td><td align=center>10%</td>\n",
    "    <tr><th>3</th><td align=center>20%</td><td align=center>30%</td><td align=center>20%</td><td align=center>10%</td>\n",
    "    <tr><th>4</th><td align=center>&nbsp;&nbsp;0%</td><td align=center>&nbsp;&nbsp;0%</td><td align=center>50%</td><td align=center>70%</td>\n",
    "</table>\n",
    "\n",
    "#### If training ends after two consecutive sessions with no rank changes (to the extent of Python's floating-point precision), how many hours will the training program last?"
   ]
  },
  {
   "cell_type": "code",
   "execution_count": 42,
   "metadata": {},
   "outputs": [],
   "source": [
    "import numpy as np"
   ]
  },
  {
   "cell_type": "code",
   "execution_count": 43,
   "metadata": {},
   "outputs": [],
   "source": [
    "X = np.array([[0.30],\n",
    "             [0.35],\n",
    "             [0.25],\n",
    "             [0.10]])\n",
    "\n",
    "P = np.array([[0.50, 0.30, 0.10, 0.10],\n",
    "              [0.30, 0.40, 0.20, 0.10],\n",
    "              [0.20, 0.30, 0.20, 0.10],\n",
    "              [   0,    0, 0.50, 0.70]])"
   ]
  },
  {
   "cell_type": "code",
   "execution_count": 44,
   "metadata": {},
   "outputs": [
    {
     "name": "stdout",
     "output_type": "stream",
     "text": [
      "Initial:\n",
      "[[0.3 ]\n",
      " [0.35]\n",
      " [0.25]\n",
      " [0.1 ]]\n"
     ]
    }
   ],
   "source": [
    "print('Initial:')\n",
    "print(X)"
   ]
  },
  {
   "cell_type": "code",
   "execution_count": 92,
   "metadata": {},
   "outputs": [
    {
     "name": "stdout",
     "output_type": "stream",
     "text": [
      "After hours 1:\n",
      "[[0.24695122]\n",
      " [0.24085366]\n",
      " [0.19207317]\n",
      " [0.32012195]]\n",
      "After hours 2:\n",
      "[[0.24695122]\n",
      " [0.24085366]\n",
      " [0.19207317]\n",
      " [0.32012195]]\n",
      "After hours 3:\n",
      "[[0.24695122]\n",
      " [0.24085366]\n",
      " [0.19207317]\n",
      " [0.32012195]]\n",
      "After hours 4:\n",
      "[[0.24695122]\n",
      " [0.24085366]\n",
      " [0.19207317]\n",
      " [0.32012195]]\n",
      "After hours 5:\n",
      "[[0.24695122]\n",
      " [0.24085366]\n",
      " [0.19207317]\n",
      " [0.32012195]]\n",
      "After hours 6:\n",
      "[[0.24695122]\n",
      " [0.24085366]\n",
      " [0.19207317]\n",
      " [0.32012195]]\n",
      "After hours 7:\n",
      "[[0.24695122]\n",
      " [0.24085366]\n",
      " [0.19207317]\n",
      " [0.32012195]]\n",
      "After hours 8:\n",
      "[[0.24695122]\n",
      " [0.24085366]\n",
      " [0.19207317]\n",
      " [0.32012195]]\n",
      "After hours 9:\n",
      "[[0.24695122]\n",
      " [0.24085366]\n",
      " [0.19207317]\n",
      " [0.32012195]]\n"
     ]
    }
   ],
   "source": [
    "for hours in range(1, 10):\n",
    "    X = P@X\n",
    "    \n",
    "    print(f'After hours {hours}:')\n",
    "    print(X)"
   ]
  },
  {
   "cell_type": "markdown",
   "metadata": {},
   "source": [
    "### Based on the above results we can see that after 1 hour session, values seem to reach a steady state as there is no change after that irrespective of the number of iterations. This is cross-verified with the steady state results done in 3b."
   ]
  },
  {
   "cell_type": "markdown",
   "metadata": {},
   "source": [
    "<hr>\n",
    "\n",
    "#### <strong>PROBLEM 3.b.</strong> Compute directly (without iteration) the percentages of employees in each rank after all the training sessions have ended. Revise the first table in Problem 3.a to show the new percentage of employees in each rank. Assume the productivity loss of each rank hasn't changed, and include the new total loss percentage per rank and the overall total loss percentage. What percentage improvement resulted from the training?"
   ]
  },
  {
   "cell_type": "code",
   "execution_count": 93,
   "metadata": {},
   "outputs": [],
   "source": [
    "A = np.array([[-0.50, 0.30, 0.10, 0.10],\n",
    "              [0.30, -0.60, 0.20, 0.10],\n",
    "              [0.20, 0.30, -0.80, 0.10],\n",
    "              [   0,    0, 0.50, -0.30]])\n",
    "\n",
    "b = np.array([[0], [0], [0], [0]])"
   ]
  },
  {
   "cell_type": "code",
   "execution_count": 94,
   "metadata": {},
   "outputs": [
    {
     "data": {
      "text/plain": [
       "array([[-0.5,  0.3,  0.1,  0.1],\n",
       "       [ 0.3, -0.6,  0.2,  0.1],\n",
       "       [ 0.2,  0.3, -0.8,  0.1],\n",
       "       [ 0. ,  0. ,  0.5, -0.3]])"
      ]
     },
     "execution_count": 94,
     "metadata": {},
     "output_type": "execute_result"
    }
   ],
   "source": [
    "r1 = np.array([-0.50, 0.30, 0.10, 0.10])\n",
    "r2 = np.array([0.30, -0.60, 0.20, 0.10])\n",
    "r3 = np.array([0.20, 0.30, -0.80, 0.10])\n",
    "r4 = np.array([   0,    0, 0.50, -0.30])\n",
    "\n",
    "A = np.array([r1, r2, r3, r4])\n",
    "A"
   ]
  },
  {
   "cell_type": "code",
   "execution_count": 95,
   "metadata": {},
   "outputs": [],
   "source": [
    "from numpy.linalg import inv\n",
    "\n",
    "A = np.array([[-0.5,  0.3,  0.1,  0.1],\n",
    "              [ 0.3, -0.6,  0.2,  0.1],\n",
    "              [ 0.2,  0.3, -0.8,  0.1],\n",
    "              [ 0. ,  0. ,  0.5, -0.3],\n",
    "              [ 1  ,  1  ,  1  ,  1  ]])\n",
    "\n",
    "b = np.array([[0], [0], [0], [0], [1]])"
   ]
  },
  {
   "cell_type": "code",
   "execution_count": 96,
   "metadata": {},
   "outputs": [
    {
     "data": {
      "text/plain": [
       "array([[-0.5,  0.3,  0.2,  0. ,  1. ],\n",
       "       [ 0.3, -0.6,  0.3,  0. ,  1. ],\n",
       "       [ 0.1,  0.2, -0.8,  0.5,  1. ],\n",
       "       [ 0.1,  0.1,  0.1, -0.3,  1. ]])"
      ]
     },
     "execution_count": 96,
     "metadata": {},
     "output_type": "execute_result"
    }
   ],
   "source": [
    "AT = A.T\n",
    "AT"
   ]
  },
  {
   "cell_type": "code",
   "execution_count": 97,
   "metadata": {},
   "outputs": [
    {
     "data": {
      "text/plain": [
       "array([[1.38, 0.73, 0.85, 1.  ],\n",
       "       [0.73, 1.54, 0.67, 1.  ],\n",
       "       [0.85, 0.67, 1.94, 0.8 ],\n",
       "       [1.  , 1.  , 0.8 , 1.12]])"
      ]
     },
     "execution_count": 97,
     "metadata": {},
     "output_type": "execute_result"
    }
   ],
   "source": [
    "ATA = AT@A\n",
    "ATA"
   ]
  },
  {
   "cell_type": "code",
   "execution_count": 98,
   "metadata": {},
   "outputs": [
    {
     "data": {
      "text/plain": [
       "array([[ 2.29993308e+00,  5.64433373e-01, -2.09808150e-01,\n",
       "        -2.40760708e+00],\n",
       "       [ 5.64433373e-01,  1.68720256e+00, -1.37566924e-03,\n",
       "        -2.00940660e+00],\n",
       "       [-2.09808150e-01, -1.37566924e-03,  7.51450030e-01,\n",
       "        -3.48193040e-01],\n",
       "       [-2.40760708e+00, -2.00940660e+00, -3.48193040e-01,\n",
       "         5.08532867e+00]])"
      ]
     },
     "execution_count": 98,
     "metadata": {},
     "output_type": "execute_result"
    }
   ],
   "source": [
    "ATAinv = inv(ATA)\n",
    "ATAinv"
   ]
  },
  {
   "cell_type": "code",
   "execution_count": 99,
   "metadata": {},
   "outputs": [
    {
     "data": {
      "text/plain": [
       "array([[1.],\n",
       "       [1.],\n",
       "       [1.],\n",
       "       [1.]])"
      ]
     },
     "execution_count": 99,
     "metadata": {},
     "output_type": "execute_result"
    }
   ],
   "source": [
    "ATb = AT@b\n",
    "ATb"
   ]
  },
  {
   "cell_type": "code",
   "execution_count": 100,
   "metadata": {},
   "outputs": [
    {
     "name": "stdout",
     "output_type": "stream",
     "text": [
      "The steady state matrix:\n"
     ]
    },
    {
     "data": {
      "text/plain": [
       "array([[0.24695122],\n",
       "       [0.24085366],\n",
       "       [0.19207317],\n",
       "       [0.32012195]])"
      ]
     },
     "execution_count": 100,
     "metadata": {},
     "output_type": "execute_result"
    }
   ],
   "source": [
    "print(\"The steady state matrix:\")\n",
    "\n",
    "xhat = ATAinv@ATb\n",
    "xhat"
   ]
  },
  {
   "cell_type": "markdown",
   "metadata": {},
   "source": [
    "### Percentages of employees in each rank after training"
   ]
  },
  {
   "cell_type": "code",
   "execution_count": 101,
   "metadata": {},
   "outputs": [
    {
     "name": "stdout",
     "output_type": "stream",
     "text": [
      " percentage of employees in 1st category is: 24.695122\n",
      " percentage of employees in 2nd category is: is: 24.085366\n",
      " percentage of employees in 3rd category is: is: 19.207317\n",
      " percentage of employees in 4th category is: is: 32.012195\n"
     ]
    }
   ],
   "source": [
    "tot = 0.24695122 + 0.24085366 + 0.19207317 + 0.32012195\n",
    "a_1 = 0.24695122/tot * 100\n",
    "b_2 = 0.24085366/tot * 100\n",
    "c_3 = 0.19207317/tot * 100\n",
    "d_4 = 0.32012195/tot * 100\n",
    "\n",
    "print(f' percentage of employees in 1st category is: {a_1}')\n",
    "print(f' percentage of employees in 2nd category is: is: {b_2}')\n",
    "print(f' percentage of employees in 3rd category is: is: {c_3}')\n",
    "print(f' percentage of employees in 4th category is: is: {d_4}')\n",
    " \n"
   ]
  },
  {
   "cell_type": "markdown",
   "metadata": {},
   "source": [
    "### Revised table based on new values"
   ]
  },
  {
   "cell_type": "code",
   "execution_count": 102,
   "metadata": {},
   "outputs": [
    {
     "name": "stdout",
     "output_type": "stream",
     "text": [
      "Rank Employees    Productivity_loss    Total_loss\n",
      "1    24.695122%     40%                  9.8780488%\n",
      "2    24.085366%     25%                  6.0213415%\n",
      "3    19.207317%     15%                  2.8810975500000002%\n",
      "4    32.012195%      5%                  1.6006097499999998%\n",
      "               Overall loss percentage:  20.3810976% \n"
     ]
    }
   ],
   "source": [
    "print(f'Rank Employees    Productivity_loss    Total_loss')\n",
    "print(f'1    {a_1}%     40%                  9.8780488%')\n",
    "print(f'2    {b_2}%     25%                  6.0213415%')\n",
    "print(f'3    {c_3}%     15%                  2.8810975500000002%')\n",
    "print(f'4    {d_4}%      5%                  1.6006097499999998%')\n",
    "print(f'               Overall loss percentage:  20.3810976% ')"
   ]
  },
  {
   "cell_type": "markdown",
   "metadata": {},
   "source": [
    "### Percentage improvement due to training sessions"
   ]
  },
  {
   "cell_type": "code",
   "execution_count": 103,
   "metadata": {},
   "outputs": [
    {
     "name": "stdout",
     "output_type": "stream",
     "text": [
      " Percentage improvement due to training sessions: 4.6189024% \n"
     ]
    }
   ],
   "source": [
    "imp = 25.00 - 20.3810976\n",
    "\n",
    "print(f' Percentage improvement due to training sessions: {imp}% ')"
   ]
  },
  {
   "cell_type": "code",
   "execution_count": null,
   "metadata": {},
   "outputs": [],
   "source": []
  }
 ],
 "metadata": {
  "kernelspec": {
   "display_name": "Python 3",
   "language": "python",
   "name": "python3"
  },
  "language_info": {
   "codemirror_mode": {
    "name": "ipython",
    "version": 3
   },
   "file_extension": ".py",
   "mimetype": "text/x-python",
   "name": "python",
   "nbconvert_exporter": "python",
   "pygments_lexer": "ipython3",
   "version": "3.8.3"
  }
 },
 "nbformat": 4,
 "nbformat_minor": 4
}
