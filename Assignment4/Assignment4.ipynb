{
 "cells": [
  {
   "cell_type": "markdown",
   "metadata": {},
   "source": [
    "### <center>San Jose State University<br>Department of Applied Data Science</center>\n",
    "#  <center>DATA 220<br>Mathematical Methods for Data Analysis</center>\n",
    "### <center>Fall 2020<br>Instructor: Ron Mak</center>\n",
    "#  <center>Assignment #4<br>Combinatorics and Probability Problem Set</center>\n",
    "#### <center>100 points total (10 points each)<br><br>Work together with your lab partner.<br>Write your solutions in one or more cells after each problem.<br>You can compute by hand, but try use Python code and Python functions.<br>You can add your own functions or other support code.</center>\n",
    "#### <center>Due September 17, 2020</center>"
   ]
  },
  {
   "cell_type": "markdown",
   "metadata": {},
   "source": [
    "#### <strong>PROBLEM 1.</strong> You want to form a committee of four students chosen from a class of eight girls and seven boys. You don't want a committe consisting of all girls or all boys. Therefore, how many different committees can you form?"
   ]
  },
  {
   "cell_type": "markdown",
   "metadata": {},
   "source": [
    "Total possible combinations (15 C 4) - Committee with only girls (8 C 4) - Committe with only boys (7 C 4)\n",
    "\n",
    "<strong>Ans) 1260 combinations<strong> "
   ]
  },
  {
   "cell_type": "markdown",
   "metadata": {},
   "source": [
    "#### <strong>PROBLEM 2.</strong> Later you decide that the committee should have exactly two girls and two boys. Then how many different committees can you form?"
   ]
  },
  {
   "cell_type": "markdown",
   "metadata": {},
   "source": [
    "Committee with two girls (8 C 2) - Committe with two boys (7 C 2)\n",
    "\n",
    "<strong>Ans) 588 combinations<strong> "
   ]
  },
  {
   "cell_type": "markdown",
   "metadata": {},
   "source": [
    "#### <strong>PROBLEM 3.</strong> There are ten players on a basketball team. For a practice session, Coach Ron divides the players randomly into two teams regardless of positions, the Red team and the Blue team. Leslie and Sidney are good friends and want to be on the same team. Sidney says, \"We'll have a 50-50 chance of that happening!\" Show whether or not Sidney is correct."
   ]
  },
  {
   "cell_type": "markdown",
   "metadata": {},
   "source": [
    "If Leslie is in B/R Team, there are 4 empty spots for Sidney and the total sample space would be 9 - therefore the probability they will be on the same team is 4/9\n",
    "\n",
    "\n",
    "<strong>Ans) 44 %<strong> "
   ]
  },
  {
   "cell_type": "markdown",
   "metadata": {},
   "source": [
    "#### <strong>PROBLEM 4.</strong> In a class of 15 students has eight girls and seven boys. The teacher wants to line them up in alternating genders. How many line-ups are possible?"
   ]
  },
  {
   "cell_type": "markdown",
   "metadata": {},
   "source": [
    "(Seating boys first in 7! ways) * (Seating girls in the remaining 8 spots)\n",
    "\n",
    "7! * 8!\n",
    "\n",
    "<strong>Ans) 203212800 possible lineups <strong> "
   ]
  },
  {
   "cell_type": "markdown",
   "metadata": {},
   "source": [
    "#### <strong>PROBLEM 5.</strong> One of the girls is sick and doesn't come to class. Now how many ways can the teacher line up the remaining 14 students in alternating gender?"
   ]
  },
  {
   "cell_type": "markdown",
   "metadata": {},
   "source": [
    "(Seating boys and girls in 7! ways) * 2 (to account for both girls and boy being the first in line)\n",
    "\n",
    "2 * 7! * 7!\n",
    "\n",
    "(14C7 * 7!) * (7C7 * 7!) *2\n",
    "\n",
    "\n",
    "<strong>Ans) 50803200 <strong>"
   ]
  },
  {
   "cell_type": "markdown",
   "metadata": {},
   "source": [
    "#### <strong>PROBLEM 6.</strong> A different class has six boys and nine girls. Any two boys will fight if they're next to each other. How many ways can the teacher line up the students so that no two boys stand next to each other?"
   ]
  },
  {
   "cell_type": "markdown",
   "metadata": {},
   "source": [
    "(9! ways to seat the girls since they can be next to each other) * (10 remaining slots for 6 boys * 6! ways to arrange them)\n",
    "\n",
    "9! * (10 C 6 * 6!)\n",
    "\n",
    "<strong>Ans) 5.48*10^10 lineups<strong>"
   ]
  },
  {
   "cell_type": "markdown",
   "metadata": {},
   "source": [
    "#### <strong>PROBLEM 7.</strong> A group of ten friends randomly sit around a circular table. Exactly two of them love each other dearly. What is the probability that they end up sitting together?"
   ]
  },
  {
   "cell_type": "markdown",
   "metadata": {},
   "source": [
    "8!/9! * 100\n",
    "\n",
    "<strong>Ans) 11.11%<strong>"
   ]
  },
  {
   "cell_type": "markdown",
   "metadata": {},
   "source": [
    "#### <strong>PROBLEM 8.</strong> You draw three cards randomly from a standard deck of 52 playing cards (no jokers). What is the probability that each card is from a different suit?"
   ]
  },
  {
   "cell_type": "markdown",
   "metadata": {},
   "source": [
    "(Pick any card) * (remove one suit = 39 cards / remaining cards in deck) * (remove two suit = 26 cards / remaining cards in deck)\n",
    "\n",
    "52/52 * 39/51 * 26/50\n",
    "\n",
    "<strong>Ans) 39.7% <strong>"
   ]
  },
  {
   "cell_type": "markdown",
   "metadata": {},
   "source": [
    "#### <strong>PROBLEM 9.</strong> You draw one card randomly from a standard deck of 52 playing cards (no jokers):\n",
    "\n",
    "<ul>\n",
    "    <li>Event A: You draw a heart card.</li>\n",
    "    <li>Event B: You draw a card that is not a face card.</li>\n",
    "    <li>Event C: You draw a non-face card that is divisible by 3.</li>\n",
    "</ul>\n",
    "\n",
    "#### What is the probability that Event A, B, or C will occur?"
   ]
  },
  {
   "cell_type": "markdown",
   "metadata": {},
   "source": [
    "Event A: 13/52\n",
    "\n",
    "Event B: 40/52\n",
    "\n",
    "Event C: 12/52\n",
    "\n",
    "\n",
    "P(A) + P(B) + P(C) - P(A ⋂ B) - P(A ⋂ C) - P(B ⋂ C) + P(A ⋂ B ⋂ C)\n",
    "\n",
    "P(A ⋂ B) = 10/52\n",
    "P(A ⋂ C) = 3/52\n",
    "P(B ⋂ C) = 12/52\n",
    "P(A ⋂ B ⋂ C) = 3/52\n",
    "\n",
    "P(A) + P(B) + P(C) - P(A ⋂ B) - P(A ⋂ C) - P(B ⋂ C) + P(A ⋂ B ⋂ C)\n",
    "\n",
    "13/52 + 40/52 + 12/52 - 10/52 - 3/52 - 12/52 + 3/52\n",
    "\n",
    "<strong>Ans) 82.7% <strong>"
   ]
  },
  {
   "cell_type": "markdown",
   "metadata": {},
   "source": [
    "#### <strong>PROBLEM 10.</strong> Empirically verify the probability you calculated in Problem 9 with a Python program that simulates drawing randomly from a deck of cards. Initialize a list of cards, each card with a suit and a value. Generate a random number 0 through 51 to pick a card from the list. Check for Events A, B, and C. Repeat this a million times and count how many times Event A, B, or C occurred. After a million card picks, print your count divided by a million. How well does this simulation probability match the probability you calculated in Problem 9? Also print the simulation probabilities after 100; 1,000; 10,000; and 100,000 card picks. Determine how many simulated card picks are needed for the simulation probability to match your calculated probability to 3 decimal places."
   ]
  },
  {
   "cell_type": "code",
   "execution_count": 21,
   "metadata": {},
   "outputs": [
    {
     "name": "stdout",
     "output_type": "stream",
     "text": [
      "A: 76664\n",
      "B: 346186\n",
      "C: 172474\n",
      "115577\n",
      "58085\n",
      "172474\n",
      "58085\n",
      "Trash:231014\n",
      "76.89859999999999\n"
     ]
    }
   ],
   "source": [
    "import itertools\n",
    "import random\n",
    "\n",
    "totaldraws = 1000000\n",
    "eventA = 0\n",
    "eventB = 0\n",
    "eventC = 0\n",
    "eventAB = 0\n",
    "eventAC = 0\n",
    "eventBC = 0\n",
    "eventABC = 0\n",
    "trash = 0\n",
    "\n",
    "deck = list(itertools.product(range(1,14),['Spade','Heart','Diamond','Club']))\n",
    "\n",
    "'''\n",
    "Event A: You draw a heart card.\n",
    "Event B: You draw a card that is not a face card.\n",
    "Event C: You draw a non-face card that is divisible by 3\n",
    "'''\n",
    "'''\n",
    "for _ in range(totaldraws):\n",
    "    random.shuffle(deck)\n",
    "    print(deck[0])\n",
    "    if deck[0][0] > 2 and deck[0][0] < 13 and deck[0][0] % 3 == 0:\n",
    "        eventC += 1\n",
    "        if deck[0][1] == 'Heart':\n",
    "            eventA += 1\n",
    "    elif deck[0][0] in range(2,11):\n",
    "        eventB += 1\n",
    "    elif deck[0][1] == 'Heart':\n",
    "        eventA += 1\n",
    "    else:\n",
    "        trash += 1\n",
    "'''\n",
    "\n",
    "for _ in range(totaldraws):\n",
    "    random.shuffle(deck)\n",
    "    if deck[0][1] == 'Heart' and deck[0][0] in range(2,11) and deck[0][0] % 3 == 0:\n",
    "        eventABC += 1\n",
    "        eventAC += 1\n",
    "    elif deck[0][1] == 'Heart' and deck[0][0] in range(2,11):\n",
    "        eventAB += 1\n",
    "    elif deck[0][0] in range(2,11) and deck[0][0] % 3 == 0:\n",
    "        eventBC += 1\n",
    "        eventC += 1\n",
    "    elif deck[0][0] in range(2,11):\n",
    "        eventB += 1\n",
    "    elif deck[0][1] == 'Heart':\n",
    "        eventA += 1\n",
    "    else:\n",
    "        trash += 1\n",
    "\n",
    "\n",
    "print(f'A: {eventA}')\n",
    "print(f\"B: {eventB}\")\n",
    "print(f'C: {eventC}')\n",
    "\n",
    "print(eventAB)\n",
    "print(eventAC)\n",
    "print(eventBC)\n",
    "print(eventABC)\n",
    "\n",
    "print(f\"Trash:{trash}\")\n",
    "\n",
    "good_event = eventA + eventB + eventC\n",
    "final_prob = (totaldraws-trash)/totaldraws * 100\n",
    "print(final_prob)"
   ]
  },
  {
   "cell_type": "code",
   "execution_count": null,
   "metadata": {},
   "outputs": [],
   "source": []
  }
 ],
 "metadata": {
  "kernelspec": {
   "display_name": "Python 3",
   "language": "python",
   "name": "python3"
  },
  "language_info": {
   "codemirror_mode": {
    "name": "ipython",
    "version": 3
   },
   "file_extension": ".py",
   "mimetype": "text/x-python",
   "name": "python",
   "nbconvert_exporter": "python",
   "pygments_lexer": "ipython3",
   "version": "3.8.5"
  }
 },
 "nbformat": 4,
 "nbformat_minor": 4
}
