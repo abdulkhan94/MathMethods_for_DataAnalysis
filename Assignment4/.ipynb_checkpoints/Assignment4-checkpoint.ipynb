{
 "cells": [
  {
   "cell_type": "markdown",
   "metadata": {},
   "source": [
    "### <center>San Jose State University<br>Department of Applied Data Science</center>\n",
    "#  <center>DATA 220<br>Mathematical Methods for Data Analysis</center>\n",
    "### <center>Fall 2020<br>Instructor: Ron Mak</center>\n",
    "#  <center>Assignment #4<br>Combinatorics and Probability Problem Set</center>\n",
    "#### <center>100 points total (10 points each)<br><br>Work together with your lab partner.<br>Write your solutions in one or more cells after each problem.<br>You can compute by hand, but try use Python code and Python functions.<br>You can add your own functions or other support code.</center>\n",
    "#### <center>Due September 17, 2020</center>"
   ]
  },
  {
   "cell_type": "markdown",
   "metadata": {},
   "source": [
    "#### <strong>PROBLEM 1.</strong> You want to form a committee of four students chosen from a class of eight girls and seven boys. You don't want a committe consisting of all girls or all boys. Therefore, how many different committees can you form?"
   ]
  },
  {
   "cell_type": "markdown",
   "metadata": {},
   "source": [
    "Total possible combinations (15 C 4) - Committee with only girls (8 C 4) - Committe with only boys (7 C 4)\n",
    "\n",
    "<strong>Ans) 1260 combinations<strong> "
   ]
  },
  {
   "cell_type": "markdown",
   "metadata": {},
   "source": [
    "#### <strong>PROBLEM 2.</strong> Later you decide that the committee should have exactly two girls and two boys. Then how many different committees can you form?"
   ]
  },
  {
   "cell_type": "markdown",
   "metadata": {},
   "source": [
    "Committee with two girls (8 C 2) - Committe with two boys (7 C 2)\n",
    "\n",
    "<strong>Ans) 588 combinations<strong> "
   ]
  },
  {
   "cell_type": "markdown",
   "metadata": {},
   "source": [
    "#### <strong>PROBLEM 3.</strong> There are ten players on a basketball team. For a practice session, Coach Ron divides the players randomly into two teams regardless of positions, the Red team and the Blue team. Leslie and Sidney are good friends and want to be on the same team. Sidney says, \"We'll have a 50-50 chance of that happening!\" Show whether or not Sidney is correct."
   ]
  },
  {
   "cell_type": "markdown",
   "metadata": {},
   "source": [
    "#### <strong>PROBLEM 4.</strong> In a class of 15 students has eight girls and seven boys. The teacher wants to line them up in alternating genders. How many line-ups are possible?"
   ]
  },
  {
   "cell_type": "markdown",
   "metadata": {},
   "source": [
    "#### <strong>PROBLEM 5.</strong> One of the girls is sick and doesn't come to class. Now how many ways can the teacher line up the remaining 14 students in alternating gender?"
   ]
  },
  {
   "cell_type": "markdown",
   "metadata": {},
   "source": [
    "#### <strong>PROBLEM 6.</strong> A different class has six boys and nine girls. Any two boys will fight if they're next to each other. How many ways can the teacher line up the students so that no two boys stand next to each other?"
   ]
  },
  {
   "cell_type": "markdown",
   "metadata": {},
   "source": [
    "#### <strong>PROBLEM 7.</strong> A group of ten friends randomly sit around a circular table. Exactly two of them love each other dearly. What is the probability that they end up sitting together?"
   ]
  },
  {
   "cell_type": "markdown",
   "metadata": {},
   "source": [
    "#### <strong>PROBLEM 8.</strong> You draw three cards randomly from a standard deck of 52 playing cards (no jokers). What is the probability that each card is from a different suit?"
   ]
  },
  {
   "cell_type": "markdown",
   "metadata": {},
   "source": [
    "#### <strong>PROBLEM 9.</strong> You draw one card randomly from a standard deck of 52 playing cards (no jokers):\n",
    "\n",
    "<ul>\n",
    "    <li>Event A: You draw a heart card.</li>\n",
    "    <li>Event B: You draw a card that is not a face card.</li>\n",
    "    <li>Event C: You draw a non-face card that is divisible by 3.</li>\n",
    "</ul>\n",
    "\n",
    "#### What is the probability that Event A, B, or C will occur?"
   ]
  },
  {
   "cell_type": "markdown",
   "metadata": {},
   "source": [
    "#### <strong>PROBLEM 10.</strong> Empirically verify the probability you calculated in Problem 9 with a Python program that simulates drawing randomly from a deck of cards. Initialize a list of cards, each card with a suit and a value. Generate a random number 0 through 51 to pick a card from the list. Check for Events A, B, and C. Repeat this a million times and count how many times Event A, B, or C occurred. After a million card picks, print your count divided by a million. How well does this simulation probability match the probability you calculated in Problem 9? Also print the simulation probabilities after 100; 1,000; 10,000; and 100,000 card picks. Determine how many simulated card picks are needed for the simulation probability to match your calculated probability to 3 decimal places."
   ]
  },
  {
   "cell_type": "code",
   "execution_count": null,
   "metadata": {},
   "outputs": [],
   "source": []
  }
 ],
 "metadata": {
  "kernelspec": {
   "display_name": "Python 3",
   "language": "python",
   "name": "python3"
  },
  "language_info": {
   "codemirror_mode": {
    "name": "ipython",
    "version": 3
   },
   "file_extension": ".py",
   "mimetype": "text/x-python",
   "name": "python",
   "nbconvert_exporter": "python",
   "pygments_lexer": "ipython3",
   "version": "3.8.5"
  }
 },
 "nbformat": 4,
 "nbformat_minor": 4
}
