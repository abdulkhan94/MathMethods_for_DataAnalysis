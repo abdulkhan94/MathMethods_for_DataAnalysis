{
 "cells": [
  {
   "cell_type": "markdown",
   "metadata": {},
   "source": [
    "## Setting up data & importing required packages"
   ]
  },
  {
   "cell_type": "code",
   "execution_count": 1,
   "metadata": {},
   "outputs": [],
   "source": [
    "import numpy as np\n",
    "import random\n",
    "import seaborn as sns\n",
    "import matplotlib.pyplot as plt\n",
    "import pandas as pd\n",
    "import statistics as stat\n",
    "import math"
   ]
  },
  {
   "cell_type": "markdown",
   "metadata": {},
   "source": [
    "## Reading Automobile Price data"
   ]
  },
  {
   "cell_type": "code",
   "execution_count": 5,
   "metadata": {},
   "outputs": [
    {
     "data": {
      "text/html": [
       "<div>\n",
       "<style scoped>\n",
       "    .dataframe tbody tr th:only-of-type {\n",
       "        vertical-align: middle;\n",
       "    }\n",
       "\n",
       "    .dataframe tbody tr th {\n",
       "        vertical-align: top;\n",
       "    }\n",
       "\n",
       "    .dataframe thead th {\n",
       "        text-align: right;\n",
       "    }\n",
       "</style>\n",
       "<table border=\"1\" class=\"dataframe\">\n",
       "  <thead>\n",
       "    <tr style=\"text-align: right;\">\n",
       "      <th></th>\n",
       "      <th>symboling</th>\n",
       "      <th>normalized-losses</th>\n",
       "      <th>wheel-base</th>\n",
       "      <th>length</th>\n",
       "      <th>width</th>\n",
       "      <th>height</th>\n",
       "      <th>curb-weight</th>\n",
       "      <th>engine-size</th>\n",
       "      <th>bore</th>\n",
       "      <th>stroke</th>\n",
       "      <th>compression-ratio</th>\n",
       "      <th>horsepower</th>\n",
       "      <th>peak-rpm</th>\n",
       "      <th>city-mpg</th>\n",
       "      <th>highway-mpg</th>\n",
       "      <th>price</th>\n",
       "    </tr>\n",
       "  </thead>\n",
       "  <tbody>\n",
       "    <tr>\n",
       "      <th>0</th>\n",
       "      <td>2</td>\n",
       "      <td>164</td>\n",
       "      <td>99.8</td>\n",
       "      <td>176.6</td>\n",
       "      <td>66.2</td>\n",
       "      <td>54.3</td>\n",
       "      <td>2337</td>\n",
       "      <td>109</td>\n",
       "      <td>3.19</td>\n",
       "      <td>3.4</td>\n",
       "      <td>10.0</td>\n",
       "      <td>102</td>\n",
       "      <td>5500</td>\n",
       "      <td>24</td>\n",
       "      <td>30</td>\n",
       "      <td>13950</td>\n",
       "    </tr>\n",
       "    <tr>\n",
       "      <th>1</th>\n",
       "      <td>2</td>\n",
       "      <td>164</td>\n",
       "      <td>99.4</td>\n",
       "      <td>176.6</td>\n",
       "      <td>66.4</td>\n",
       "      <td>54.3</td>\n",
       "      <td>2824</td>\n",
       "      <td>136</td>\n",
       "      <td>3.19</td>\n",
       "      <td>3.4</td>\n",
       "      <td>8.0</td>\n",
       "      <td>115</td>\n",
       "      <td>5500</td>\n",
       "      <td>18</td>\n",
       "      <td>22</td>\n",
       "      <td>17450</td>\n",
       "    </tr>\n",
       "    <tr>\n",
       "      <th>2</th>\n",
       "      <td>1</td>\n",
       "      <td>158</td>\n",
       "      <td>105.8</td>\n",
       "      <td>192.7</td>\n",
       "      <td>71.4</td>\n",
       "      <td>55.7</td>\n",
       "      <td>2844</td>\n",
       "      <td>136</td>\n",
       "      <td>3.19</td>\n",
       "      <td>3.4</td>\n",
       "      <td>8.5</td>\n",
       "      <td>110</td>\n",
       "      <td>5500</td>\n",
       "      <td>19</td>\n",
       "      <td>25</td>\n",
       "      <td>17710</td>\n",
       "    </tr>\n",
       "    <tr>\n",
       "      <th>3</th>\n",
       "      <td>1</td>\n",
       "      <td>158</td>\n",
       "      <td>105.8</td>\n",
       "      <td>192.7</td>\n",
       "      <td>71.4</td>\n",
       "      <td>55.9</td>\n",
       "      <td>3086</td>\n",
       "      <td>131</td>\n",
       "      <td>3.13</td>\n",
       "      <td>3.4</td>\n",
       "      <td>8.3</td>\n",
       "      <td>140</td>\n",
       "      <td>5500</td>\n",
       "      <td>17</td>\n",
       "      <td>20</td>\n",
       "      <td>23875</td>\n",
       "    </tr>\n",
       "    <tr>\n",
       "      <th>4</th>\n",
       "      <td>2</td>\n",
       "      <td>192</td>\n",
       "      <td>101.2</td>\n",
       "      <td>176.8</td>\n",
       "      <td>64.8</td>\n",
       "      <td>54.3</td>\n",
       "      <td>2395</td>\n",
       "      <td>108</td>\n",
       "      <td>3.50</td>\n",
       "      <td>2.8</td>\n",
       "      <td>8.8</td>\n",
       "      <td>101</td>\n",
       "      <td>5800</td>\n",
       "      <td>23</td>\n",
       "      <td>29</td>\n",
       "      <td>16430</td>\n",
       "    </tr>\n",
       "  </tbody>\n",
       "</table>\n",
       "</div>"
      ],
      "text/plain": [
       "   symboling  normalized-losses  wheel-base  length  width  height  \\\n",
       "0          2                164        99.8   176.6   66.2    54.3   \n",
       "1          2                164        99.4   176.6   66.4    54.3   \n",
       "2          1                158       105.8   192.7   71.4    55.7   \n",
       "3          1                158       105.8   192.7   71.4    55.9   \n",
       "4          2                192       101.2   176.8   64.8    54.3   \n",
       "\n",
       "   curb-weight  engine-size  bore  stroke  compression-ratio  horsepower  \\\n",
       "0         2337          109  3.19     3.4               10.0         102   \n",
       "1         2824          136  3.19     3.4                8.0         115   \n",
       "2         2844          136  3.19     3.4                8.5         110   \n",
       "3         3086          131  3.13     3.4                8.3         140   \n",
       "4         2395          108  3.50     2.8                8.8         101   \n",
       "\n",
       "   peak-rpm  city-mpg  highway-mpg  price  \n",
       "0      5500        24           30  13950  \n",
       "1      5500        18           22  17450  \n",
       "2      5500        19           25  17710  \n",
       "3      5500        17           20  23875  \n",
       "4      5800        23           29  16430  "
      ]
     },
     "execution_count": 5,
     "metadata": {},
     "output_type": "execute_result"
    }
   ],
   "source": [
    "auto = pd.read_csv('./Auto_Price/price.data',names =('symboling','normalized-losses','wheel-base','length','width','height','curb-weight','engine-size','bore','stroke','compression-ratio','horsepower','peak-rpm','city-mpg','highway-mpg','price'))\n",
    "\n",
    "auto.head()"
   ]
  },
  {
   "cell_type": "markdown",
   "metadata": {},
   "source": [
    "## Scatter Plot of Diabetes Data"
   ]
  },
  {
   "cell_type": "code",
   "execution_count": 7,
   "metadata": {},
   "outputs": [
    {
     "data": {
      "image/png": "[encoded data removed]",
      "text/plain": [
       "<Figure size 432x288 with 1 Axes>"
      ]
     },
     "metadata": {
      "needs_background": "light"
     },
     "output_type": "display_data"
    }
   ],
   "source": [
    "auto.plot(kind='scatter',x='horsepower',y='price',color='Blue')\n",
    "plt.title('Scatter Plot')\n",
    "plt.ylabel('Price')\n",
    "plt.xlabel('Horsepower')\n",
    "plt.show()"
   ]
  },
  {
   "cell_type": "markdown",
   "metadata": {},
   "source": [
    "## Regression Line"
   ]
  },
  {
   "cell_type": "code",
   "execution_count": 14,
   "metadata": {},
   "outputs": [],
   "source": [
    "def calculate_slope_intercept(x_values, y_values):\n",
    "    \"\"\"\n",
    "    Calculate the slope and intercept of a regression line.\n",
    "    @param x_values the independent x values.\n",
    "    @param y_values the dependent y values.\n",
    "    @return a list of the slope and y-intercept of the line.\n",
    "    \"\"\"\n",
    "    x = np.array(x_values)\n",
    "    y = np.array(y_values)\n",
    "    \n",
    "    n = len(x)\n",
    "    sum_x  = np.sum(x)\n",
    "    sum_y  = np.sum(y)\n",
    "    sum_xx = np.sum(x*x)\n",
    "    sum_xy = np.sum(x*y)\n",
    "    mean_x = np.mean(x)\n",
    "    mean_y = np.mean(y)\n",
    "    \n",
    "    numerator = sum_xy - (sum_x*sum_y)/n\n",
    "    denominator = sum_xx - ((sum_x*sum_x)/n)\n",
    "    \n",
    "    m = numerator/denominator\n",
    "    b = mean_y - m*mean_x\n",
    "    \n",
    "    return m, b  # slope and intercept"
   ]
  },
  {
   "cell_type": "code",
   "execution_count": 15,
   "metadata": {},
   "outputs": [],
   "source": [
    "def show_least_squares_line(title, x_label, y_label, \n",
    "                            x_values, y_values):\n",
    "    \"\"\"\n",
    "    @param title the chart title.\n",
    "    @param x_label the x-axis label.\n",
    "    @param y_label the y-axis label.\n",
    "    @param x_values the independent x values to plot.\n",
    "    @param y_values the dependent y values to plot.\n",
    "    \"\"\"\n",
    "    # First show the scatter plot.\n",
    "    plt.scatter(x_values, y_values)\n",
    "    \n",
    "    # Now show the least squares line.\n",
    "    m, b = calculate_slope_intercept(x_values, y_values)\n",
    "    reg_line = [m*x + b for x in x_values]  # regression line\n",
    "    plt.plot(xs, reg_line, color='red')\n",
    "\n",
    "    plt.title(f'{title}, m = {m:.2f}, b = {b:.2f}')\n",
    "    plt.ylabel(x_label)\n",
    "    plt.xlabel(y_label)\n",
    "\n",
    "    plt.show()"
   ]
  },
  {
   "cell_type": "markdown",
   "metadata": {},
   "source": [
    "## Plotting Regression Line"
   ]
  },
  {
   "cell_type": "code",
   "execution_count": 16,
   "metadata": {},
   "outputs": [
    {
     "data": {
      "image/png": "[encoded data removed]",
      "text/plain": [
       "<Figure size 432x288 with 1 Axes>"
      ]
     },
     "metadata": {
      "needs_background": "light"
     },
     "output_type": "display_data"
    }
   ],
   "source": [
    "xs = auto.horsepower\n",
    "\n",
    "ys = auto.price\n",
    "\n",
    "show_least_squares_line('Linear Regression Line', 'Dependent variable', \n",
    "                        'Independent variable', xs, ys)"
   ]
  },
  {
   "cell_type": "markdown",
   "metadata": {},
   "source": [
    "## Co-efficient of Determination\n"
   ]
  },
  {
   "cell_type": "code",
   "execution_count": 17,
   "metadata": {},
   "outputs": [],
   "source": [
    "def calculate_ss(x_values, y_values):\n",
    "    \"\"\"\n",
    "    Calculate the residual and total sums of squares.\n",
    "    @param x_values the independent x values.\n",
    "    @param y_values the dependent y values.\n",
    "    @return a list of the residual and total sums of squares.\n",
    "    \"\"\"\n",
    "    x = np.array(x_values)\n",
    "    y = np.array(y_values)\n",
    "    \n",
    "    n = len(x)\n",
    "    sum_x  = np.sum(x)\n",
    "    sum_y  = np.sum(y)\n",
    "    sum_xx = np.sum(x*x)\n",
    "    sum_yy = np.sum(y*y)\n",
    "    sum_xy = np.sum(x*y)\n",
    "    mean_x = np.mean(x)\n",
    "    mean_y = np.mean(y)\n",
    "    \n",
    "    numerator = sum_xy - (sum_x*sum_y)/n\n",
    "    denominator = sum_xx - ((sum_x*sum_x)/n)\n",
    "    \n",
    "    m = numerator/denominator\n",
    "    b = mean_y - m*mean_x\n",
    "    \n",
    "    ss_residual = sum_yy - b*sum_y - m*sum_xy\n",
    "    ss_total    = sum_yy - (sum_y*sum_y)/n\n",
    "    \n",
    "    return ss_residual, ss_total"
   ]
  },
  {
   "cell_type": "code",
   "execution_count": 18,
   "metadata": {},
   "outputs": [],
   "source": [
    "def calculate_r2(ss_residual, ss_total):\n",
    "    \"\"\"\n",
    "    Calculate the coefficient of determination.\n",
    "    @param ss_residual the residual sum of squares.\n",
    "    @param ss_total the total sum of squares.\n",
    "    @return the coefficient of determination.\n",
    "    \"\"\"\n",
    "    cofd = 1 - ss_residual/ss_total\n",
    "    return cofd"
   ]
  },
  {
   "cell_type": "markdown",
   "metadata": {},
   "source": [
    "#### Priting SS_Residual, SS_Total & Coefficient of determination"
   ]
  },
  {
   "cell_type": "code",
   "execution_count": 19,
   "metadata": {},
   "outputs": [
    {
     "name": "stdout",
     "output_type": "stream",
     "text": [
      "ss_residual = 2306831362.19541\n",
      "ss_total    = 5458772565.37107\n"
     ]
    }
   ],
   "source": [
    "ss_residual, ss_total = calculate_ss(xs, ys)\n",
    "\n",
    "print(f'ss_residual = {ss_residual:8.5f}')\n",
    "print(f'ss_total    = {ss_total:8.5f}')"
   ]
  },
  {
   "cell_type": "markdown",
   "metadata": {},
   "source": [
    "#### Coefficient of determination (r^2)"
   ]
  },
  {
   "cell_type": "code",
   "execution_count": 20,
   "metadata": {},
   "outputs": [
    {
     "name": "stdout",
     "output_type": "stream",
     "text": [
      "coefficient of determination = 0.577\n"
     ]
    }
   ],
   "source": [
    "r2 = calculate_r2(ss_residual, ss_total)\n",
    "\n",
    "print(f'coefficient of determination = {r2:.3f}')"
   ]
  },
  {
   "cell_type": "markdown",
   "metadata": {},
   "source": [
    "## Coefficient of Corelation"
   ]
  },
  {
   "cell_type": "code",
   "execution_count": 21,
   "metadata": {},
   "outputs": [],
   "source": [
    "def calculate_r(x_values, y_values):\n",
    "    \"\"\"\n",
    "    Calculate the correlation coefficient.\n",
    "    @param x_values the x values.\n",
    "    @param y_values the y values.\n",
    "    @return the correlation coefficient.\n",
    "    \"\"\"\n",
    "    x = np.array(x_values)\n",
    "    y = np.array(y_values)\n",
    "    \n",
    "    n = len(x)\n",
    "    sum_x  = np.sum(x)\n",
    "    sum_y  = np.sum(y)\n",
    "    sum_xx = np.sum(x*x)\n",
    "    sum_yy = np.sum(y*y)\n",
    "    sum_xy = np.sum(x*y)\n",
    "    \n",
    "    numerator = sum_xy - (sum_x*sum_y)/n\n",
    "    denominator = math.sqrt(sum_xx - (sum_x*sum_x)/n)*math.sqrt(sum_yy - (sum_y*sum_y)/n)\n",
    "    \n",
    "    r = numerator/denominator\n",
    "    return r"
   ]
  },
  {
   "cell_type": "markdown",
   "metadata": {},
   "source": [
    "#### Corelation Coefficient"
   ]
  },
  {
   "cell_type": "code",
   "execution_count": 22,
   "metadata": {},
   "outputs": [
    {
     "name": "stdout",
     "output_type": "stream",
     "text": [
      "r = 0.760\n"
     ]
    }
   ],
   "source": [
    "r = calculate_r(xs, ys)\n",
    "\n",
    "print(f'r = {r:.3f}')"
   ]
  },
  {
   "cell_type": "markdown",
   "metadata": {},
   "source": [
    "# Analysis"
   ]
  },
  {
   "cell_type": "raw",
   "metadata": {},
   "source": [
    "Describe how variable y is dependent on variable x. What characteristics of the\n",
    "dataset produce this linear relationship?\n",
    "\n",
    "The dataset we chose to explore in this assignment revolved around Diabetes, specifically exploring if the C Peptide & Insulin Deficit value have a linear relationship. We know that C Peptide is a by-product of insulin cleavage so we would expect a trend to exist between the two values.\n",
    "\n",
    "From the calculated results we can see that the correlation coefficient is 0.489 which tells us there is a weak positive relationship between C Peptide & Insulin deficit. \n",
    "\n",
    "• Does the correlation coefficient accurately reflect the strength of the relationship?\n",
    "• Are the y values caused by the x values?"
   ]
  }
 ],
 "metadata": {
  "kernelspec": {
   "display_name": "Python 3",
   "language": "python",
   "name": "python3"
  },
  "language_info": {
   "codemirror_mode": {
    "name": "ipython",
    "version": 3
   },
   "file_extension": ".py",
   "mimetype": "text/x-python",
   "name": "python",
   "nbconvert_exporter": "python",
   "pygments_lexer": "ipython3",
   "version": "3.8.5"
  }
 },
 "nbformat": 4,
 "nbformat_minor": 4
}
