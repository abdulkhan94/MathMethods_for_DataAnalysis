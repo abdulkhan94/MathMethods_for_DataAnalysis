{
 "cells": [
  {
   "cell_type": "markdown",
   "metadata": {},
   "source": [
    "### <center>San Jose State University<br>Department of Applied Data Science</center>\n",
    "#  <center>DATA 220<br>Mathematical Methods for Data Analysis</center>\n",
    "### <center>Fall 2020<br>Instructor: Ron Mak</center>\n",
    "#  <center>Assignment #5<br>Probability Problem Set</center>\n",
    "#### <center>100 points total (10 points each)<br><br>Work together with your lab partner.<br>Write your solutions in one or more cells after each problem.<br>You can compute by hand, but try use Python code and Python functions.<br>You can add your own functions or other support code.<br>For each problem: <strong>Please state what distribution or principle you used.</strong><br>Always show your work.</center>\n",
    "#### <center>Due September 24, 2020 at 5:30 PM</center>"
   ]
  },
  {
   "cell_type": "markdown",
   "metadata": {},
   "source": [
    "#### <strong>PROBLEM 1.</strong> Suppose San Jose State University accepts 75% of all applicants. What is the probability that it will accept exactly three of the next six applicants?"
   ]
  },
  {
   "cell_type": "raw",
   "metadata": {},
   "source": [
    "P(Acceptance) = 0.75\n",
    "P(Rejection) = 0.25\n",
    "\n",
    "P(3 out of 6 get accepted) =  A * A * A * R * R * R\n",
    "                              (0.75 * 0.75 * 0.75) * (0.25 * 0.25 * 0.25) = 6.59*10^-3\n",
    "Total ways 3 students can get accepted =  6 C 3 = 20 ways\n",
    "Final answer = (6.59*10^-3) * (20) = 0.1318\n",
    "\n",
    "Answer: 13.2%\n",
    "                     "
   ]
  },
  {
   "cell_type": "markdown",
   "metadata": {},
   "source": [
    "#### <strong>PROBLEM 2.</strong> In DATA 220, if the probability is 0.20 that any one student will get an A, what is the probability that in a random sample of eight students in the class, exactly three of them will get A's?"
   ]
  },
  {
   "cell_type": "raw",
   "metadata": {},
   "source": [
    "P(A) = 0.2\n",
    "P(Other) = 0.8\n",
    "\n",
    "P(3 out of 8 get A) = (0.2)^3 * (0.8)^5 = 2.62*10^-3\n",
    "Total ways = 8 C 3 = 56\n",
    "Final answer = 2.62*10^-3 * 56 = 0.1467\n",
    "\n",
    "Answer: 14.6%"
   ]
  },
  {
   "cell_type": "markdown",
   "metadata": {},
   "source": [
    "#### <strong>PROBLEM 3.</strong> You get an average rate of two visits per minute at your website. What is the probability that you will have at least one visit during a given minute?"
   ]
  },
  {
   "cell_type": "raw",
   "metadata": {},
   "source": [
    "Average rate per minute = 2\n",
    "P(at least 1 visit per minute) = 1 - (e^-2) = 0.865\n",
    "\n",
    "Note: We calculated the probability that there will be 0 visits and then subtracted it from 1 to get at least 1 visit per minute\n",
    "\n",
    "Answer: 86.5%\n"
   ]
  },
  {
   "cell_type": "markdown",
   "metadata": {},
   "source": [
    "#### <strong>PROBLEM 4.</strong> An average of 3.6 students complain about each of Prof. Mak's midterms. What is the probability that no more than three students will complain about his next midterm?"
   ]
  },
  {
   "cell_type": "raw",
   "metadata": {},
   "source": [
    "Mean = 3.6 students\n",
    "P(Less than 4 students complain) = P(0 students complain) + P(1 student complains) + P(2 students complain) + P(3 students complain)\n",
    "                                 = (e^-3.6) + (e^-3.6 * (3.6^1)/1) + (e^-3.6 * (3.6^2)/2!) + (e^-3.6 * (3.6^3)/3!)\n",
    "                                 = 0.515\n",
    "\n",
    "Answer: 51.5%"
   ]
  },
  {
   "cell_type": "markdown",
   "metadata": {},
   "source": [
    "#### <strong>PROBLEM 5.</strong> A telephone political poll produced the following results regarding a proposed new law:\n",
    "<table>\n",
    "    <tr>\n",
    "        <th>Party</th>\n",
    "        <th>In favor</th>\n",
    "        <th>Not in favor</th>\n",
    "        <th>Total</th>\n",
    "    </tr>\n",
    "    <tr>\n",
    "        <td>Republican</td><td>98</td><td>54</td><td>152</td>\n",
    "    </tr>\n",
    "    <tr>\n",
    "        <td>Democrat</td><td>79</td><td>29</td><td>108</td>\n",
    "    </tr>\n",
    "    <tr>\n",
    "        <td>Total</td><td>177</td><td>83</td><td>260</td>\n",
    "    </tr>\n",
    "</table>\n",
    "\n",
    "#### What is the probability that a person on the phone favors the new law given that the person is a Democrat?"
   ]
  },
  {
   "cell_type": "raw",
   "metadata": {},
   "source": [
    "P(D) = 108/260 = 0.415\n",
    "P(IF) = 177/260 = 0.681\n",
    "\n",
    "P(In Favor given that Democrat) = P(IF | D) = P(IF ⋂ D) / P(D) = (79/260) / 0.415 = 0.732\n",
    "\n",
    "Answer: 73.2%"
   ]
  },
  {
   "cell_type": "markdown",
   "metadata": {},
   "source": [
    "#### <strong>PROBLEM 6.</strong> Based on the above poll results, what is the probability that a person on the phone was a Republican, given that the person favors the new law?"
   ]
  },
  {
   "cell_type": "raw",
   "metadata": {},
   "source": [
    "P(R) = 152/260 = 0.585\n",
    "P(IF) = 177/260 = 0.681\n",
    "\n",
    "P(Republican given that In Favor of new law) = P(R | IF) = P(R ⋂ IF) / P(IF) = (98/260)/0.681 = 0.553\n",
    "\n",
    "Answer: 55.3%"
   ]
  },
  {
   "cell_type": "markdown",
   "metadata": {},
   "source": [
    "#### <strong>PROBLEM 7.</strong> A student randomly guesses at a 12-question multiple-choice exam where each question has five choices. What is the probability that the student will correctly answer exactly six questions?"
   ]
  },
  {
   "cell_type": "raw",
   "metadata": {},
   "source": [
    "P(correct) = 1/5 = 0.2\n",
    "P(incorrect) = 4/5 = 0.8\n",
    "\n",
    "P(6 out of 12 questions is correct) = (0.2^6) * (0.8^6) \n",
    "Total ways = 12C6 = 924\n",
    "Final Probability = (0.2^6) * (0.8^6) * 924 = 0.0155\n",
    "\n",
    "Answer: 1.55%"
   ]
  },
  {
   "cell_type": "markdown",
   "metadata": {},
   "source": [
    "#### <strong>PROBLEM 8.</strong> 20% of the employees of a company are college graduates. Of the college graduates, 75% are managers. Of the non-college graduates, 20% are managers. What is the probability that a randomly selected manager is a college graduate?"
   ]
  },
  {
   "cell_type": "raw",
   "metadata": {},
   "source": [
    "Probability that Manager is a graduate = P(Graduate) * P(Manager|Graduate) = 0.2 * 0.75 = 0.15\n",
    "Probability that Manager is a non-graduate = P(Non-Graduate) * (Manager|Non-Graduate) = 0.8 * 0.2 = 0.16\n",
    "\n",
    "Probability randomly picked is a Graduate given that they are a manager = P(Graduate) * P(Manager|Graduate) / P(Manager)\n",
    "                                                                        = 0.15 / (0.15 + 0.16) \n",
    "                                                                        = 0.484\n",
    "                                                                        \n",
    "Answer: 48.4%"
   ]
  },
  {
   "cell_type": "markdown",
   "metadata": {},
   "source": [
    "#### <strong>PROBLEM 9.</strong> You receive an average of 4.2 email messages per hour. What is the probability that you will receive more than two emails in the next hour?"
   ]
  },
  {
   "cell_type": "raw",
   "metadata": {},
   "source": [
    "Mean = 4.2\n",
    "P(more than 2 emails) = 1 - P(0) + P(1) + P(2)\n",
    "                      = 1 - (e^-4.2) + (e^-4.2 * (4.2^1)/1) + (e^-4.2 * (4.2^2)/2!)\n",
    "                      = 0.789\n",
    "\n",
    "Answer = 78.9%"
   ]
  },
  {
   "cell_type": "markdown",
   "metadata": {},
   "source": [
    "#### <strong>PROBLEM 10.</strong> Alice, Bill, and Carol toss a fair coin but you don't see them do it. Then Alice reports to you that the coin came up heads, but Bill and Carol claim that it was tails. Alice tells the truth 4/5 of the time, Bill 3/5 of the time, and Carol 5/7 of the time. What is the probability that it was indeed heads?"
   ]
  },
  {
   "cell_type": "raw",
   "metadata": {},
   "source": [
    "Probability its heads and Alice Tells the truth = P(Heads)*P(Alice Tells the Truth | Heads) \n",
    "                                                = 1/2 * 4/5 * (1 - 3/5) * (1 - 5/7) = 0.0457\n",
    "Probability its tails and Alice is lying = P(Tails) * P(Alice lies | Tails)\n",
    "                                         = 1/2 * (1-4/5) * 3/5 * 5/7 = 0.0429\n",
    "Probability its indeed heads = 0.0457/(0.0429 + 0.0457) = 0.516\n",
    "\n",
    "Answer = 51.6% chance it is indeed heads"
   ]
  },
  {
   "cell_type": "code",
   "execution_count": null,
   "metadata": {},
   "outputs": [],
   "source": []
  }
 ],
 "metadata": {
  "kernelspec": {
   "display_name": "Python 3",
   "language": "python",
   "name": "python3"
  },
  "language_info": {
   "codemirror_mode": {
    "name": "ipython",
    "version": 3
   },
   "file_extension": ".py",
   "mimetype": "text/x-python",
   "name": "python",
   "nbconvert_exporter": "python",
   "pygments_lexer": "ipython3",
   "version": "3.8.5"
  }
 },
 "nbformat": 4,
 "nbformat_minor": 4
}
